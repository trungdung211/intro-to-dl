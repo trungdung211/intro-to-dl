{
  "nbformat": 4,
  "nbformat_minor": 0,
  "metadata": {
    "kernelspec": {
      "display_name": "Python 3",
      "language": "python",
      "name": "python3"
    },
    "language_info": {
      "codemirror_mode": {
        "name": "ipython",
        "version": 3
      },
      "file_extension": ".py",
      "mimetype": "text/x-python",
      "name": "python",
      "nbconvert_exporter": "python",
      "pygments_lexer": "ipython3",
      "version": "3.6.2"
    },
    "colab": {
      "name": "digits_classification.ipynb",
      "provenance": [],
      "include_colab_link": true
    }
  },
  "cells": [
    {
      "cell_type": "markdown",
      "metadata": {
        "id": "view-in-github",
        "colab_type": "text"
      },
      "source": [
        "<a href=\"https://colab.research.google.com/github/trungdung211/intro-to-dl/blob/master/week2/v2/digits_classification.ipynb\" target=\"_parent\"><img src=\"https://colab.research.google.com/assets/colab-badge.svg\" alt=\"Open In Colab\"/></a>"
      ]
    },
    {
      "cell_type": "markdown",
      "metadata": {
        "id": "128HoapL8OyC"
      },
      "source": [
        "# MNIST digits classification with TensorFlow"
      ]
    },
    {
      "cell_type": "markdown",
      "metadata": {
        "id": "Gi_nB4Lo8OyE"
      },
      "source": [
        "<img src=\"https://github.com/trungdung211/intro-to-dl/blob/master/week2/v2/images/mnist_sample.png?raw=1\" style=\"width:30%\">"
      ]
    },
    {
      "cell_type": "code",
      "metadata": {
        "colab": {
          "base_uri": "https://localhost:8080/"
        },
        "id": "ZS_SVpEc9pcA",
        "outputId": "c5c1067e-5115-464b-85e2-3ae90c1f4aca"
      },
      "source": [
        "! shred -u setup_google_colab.py\n",
        "! wget https://raw.githubusercontent.com/hse-aml/intro-to-dl/master/setup_google_colab.py -O setup_google_colab.py\n",
        "import setup_google_colab\n",
        "# please, uncomment the week you're working on\n",
        "# setup_google_colab.setup_week1()\n",
        "setup_google_colab.setup_week2()\n",
        "# setup_google_colab.setup_week2_honor()\n",
        "# setup_google_colab.setup_week3()\n",
        "# setup_google_colab.setup_week4()\n",
        "# setup_google_colab.setup_week5()\n",
        "# setup_google_colab.setup_week6()"
      ],
      "execution_count": 24,
      "outputs": [
        {
          "output_type": "stream",
          "text": [
            "--2021-05-23 08:13:04--  https://raw.githubusercontent.com/hse-aml/intro-to-dl/master/setup_google_colab.py\n",
            "Resolving raw.githubusercontent.com (raw.githubusercontent.com)... 185.199.108.133, 185.199.109.133, 185.199.110.133, ...\n",
            "Connecting to raw.githubusercontent.com (raw.githubusercontent.com)|185.199.108.133|:443... connected.\n",
            "HTTP request sent, awaiting response... 200 OK\n",
            "Length: 3636 (3.6K) [text/plain]\n",
            "Saving to: ‘setup_google_colab.py’\n",
            "\n",
            "\rsetup_google_colab.   0%[                    ]       0  --.-KB/s               \rsetup_google_colab. 100%[===================>]   3.55K  --.-KB/s    in 0s      \n",
            "\n",
            "2021-05-23 08:13:04 (16.1 MB/s) - ‘setup_google_colab.py’ saved [3636/3636]\n",
            "\n",
            "**************************************************\n",
            "inception_v3_weights_tf_dim_ordering_tf_kernels_notop.h5\n",
            "**************************************************\n",
            "cifar-10-batches-py.tar.gz\n",
            "**************************************************\n",
            "mnist.npz\n"
          ],
          "name": "stdout"
        }
      ]
    },
    {
      "cell_type": "code",
      "metadata": {
        "id": "IGq-8TID8OyF",
        "colab": {
          "base_uri": "https://localhost:8080/"
        },
        "outputId": "11c6b932-ad24-4f01-a677-ca2a8f5082b9"
      },
      "source": [
        "import numpy as np\n",
        "from sklearn.metrics import accuracy_score\n",
        "from matplotlib import pyplot as plt\n",
        "%matplotlib inline\n",
        "%tensorflow_version 1.x\n",
        "import tensorflow as tf\n",
        "print(\"We're using TF\", tf.__version__)"
      ],
      "execution_count": 43,
      "outputs": [
        {
          "output_type": "stream",
          "text": [
            "We're using TF 1.15.2\n"
          ],
          "name": "stdout"
        }
      ]
    },
    {
      "cell_type": "code",
      "metadata": {
        "id": "gLv6Cfub8OyH"
      },
      "source": [
        "import sys\n",
        "sys.path.append(\"..\")\n",
        "import grading\n",
        "\n",
        "import matplotlib_utils\n",
        "from importlib import reload\n",
        "reload(matplotlib_utils)\n",
        "\n",
        "import grading_utils\n",
        "reload(grading_utils)\n",
        "\n",
        "import keras_utils\n",
        "from keras_utils import reset_tf_session"
      ],
      "execution_count": 26,
      "outputs": []
    },
    {
      "cell_type": "markdown",
      "metadata": {
        "id": "-SaYHYtR8OyI"
      },
      "source": [
        "# Fill in your Coursera token and email\n",
        "To successfully submit your answers to our grader, please fill in your Coursera submission token and email"
      ]
    },
    {
      "cell_type": "code",
      "metadata": {
        "collapsed": true,
        "id": "0H_HSrlZ8OyJ"
      },
      "source": [
        "grader = grading.Grader(assignment_key=\"XtD7ho3TEeiHQBLWejjYAA\", \n",
        "                        all_parts=[\"9XaAS\", \"vmogZ\", \"RMv95\", \"i8bgs\", \"rE763\"])"
      ],
      "execution_count": 27,
      "outputs": []
    },
    {
      "cell_type": "code",
      "metadata": {
        "collapsed": true,
        "id": "ZitAeLIc8OyJ"
      },
      "source": [
        "# token expires every 30 min\n",
        "COURSERA_TOKEN = \"CjF6eQxpOOAzfwEj\"\n",
        "COURSERA_EMAIL = \"vutrungdungbk@gmail.com\""
      ],
      "execution_count": 28,
      "outputs": []
    },
    {
      "cell_type": "markdown",
      "metadata": {
        "id": "mYgfW2_M8OyK"
      },
      "source": [
        "# Look at the data\n",
        "\n",
        "In this task we have 50000 28x28 images of digits from 0 to 9.\n",
        "We will train a classifier on this data."
      ]
    },
    {
      "cell_type": "code",
      "metadata": {
        "collapsed": true,
        "id": "dFvTq_8V8OyK"
      },
      "source": [
        "import preprocessed_mnist\n",
        "X_train, y_train, X_val, y_val, X_test, y_test = preprocessed_mnist.load_dataset()"
      ],
      "execution_count": 29,
      "outputs": []
    },
    {
      "cell_type": "code",
      "metadata": {
        "id": "jm_kK4068OyK",
        "colab": {
          "base_uri": "https://localhost:8080/",
          "height": 683
        },
        "outputId": "4d6acc70-f8ea-4530-a982-a818a5804efa"
      },
      "source": [
        "# X contains rgb values divided by 255\n",
        "print(\"X_train [shape %s] sample patch:\\n\" % (str(X_train.shape)), X_train[1, 15:20, 5:10])\n",
        "print(\"A closeup of a sample patch:\")\n",
        "plt.imshow(X_train[1, 15:20, 5:10], cmap=\"Greys\")\n",
        "plt.show()\n",
        "print(\"And the whole sample:\")\n",
        "plt.imshow(X_train[1], cmap=\"Greys\")\n",
        "plt.show()\n",
        "print(\"y_train [shape %s] 10 samples:\\n\" % (str(y_train.shape)), y_train[:10])"
      ],
      "execution_count": 30,
      "outputs": [
        {
          "output_type": "stream",
          "text": [
            "X_train [shape (50000, 28, 28)] sample patch:\n",
            " [[0.         0.29803922 0.96470588 0.98823529 0.43921569]\n",
            " [0.         0.33333333 0.98823529 0.90196078 0.09803922]\n",
            " [0.         0.33333333 0.98823529 0.8745098  0.        ]\n",
            " [0.         0.33333333 0.98823529 0.56862745 0.        ]\n",
            " [0.         0.3372549  0.99215686 0.88235294 0.        ]]\n",
            "A closeup of a sample patch:\n"
          ],
          "name": "stdout"
        },
        {
          "output_type": "display_data",
          "data": {
            "image/png": "[encoded data removed]",
            "text/plain": [
              "<Figure size 432x288 with 1 Axes>"
            ]
          },
          "metadata": {
            "tags": [],
            "needs_background": "light"
          }
        },
        {
          "output_type": "stream",
          "text": [
            "And the whole sample:\n"
          ],
          "name": "stdout"
        },
        {
          "output_type": "display_data",
          "data": {
            "image/png": "[encoded data removed]",
            "text/plain": [
              "<Figure size 432x288 with 1 Axes>"
            ]
          },
          "metadata": {
            "tags": [],
            "needs_background": "light"
          }
        },
        {
          "output_type": "stream",
          "text": [
            "y_train [shape (50000,)] 10 samples:\n",
            " [5 0 4 1 9 2 1 3 1 4]\n"
          ],
          "name": "stdout"
        }
      ]
    },
    {
      "cell_type": "markdown",
      "metadata": {
        "id": "K_ZBRnkG8OyL"
      },
      "source": [
        "# Linear model\n",
        "\n",
        "Your task is to train a linear classifier $\\vec{x} \\rightarrow y$ with SGD using TensorFlow.\n",
        "\n",
        "You will need to calculate a logit (a linear transformation) $z_k$ for each class: \n",
        "$$z_k = \\vec{x} \\cdot \\vec{w_k} + b_k \\quad k = 0..9$$\n",
        "\n",
        "And transform logits $z_k$ to valid probabilities $p_k$ with softmax: \n",
        "$$p_k = \\frac{e^{z_k}}{\\sum_{i=0}^{9}{e^{z_i}}} \\quad k = 0..9$$\n",
        "\n",
        "We will use a cross-entropy loss to train our multi-class classifier:\n",
        "$$\\text{cross-entropy}(y, p) = -\\sum_{k=0}^{9}{\\log(p_k)[y = k]}$$ \n",
        "\n",
        "where \n",
        "$$\n",
        "[x]=\\begin{cases}\n",
        "       1, \\quad \\text{if $x$ is true} \\\\\n",
        "       0, \\quad \\text{otherwise}\n",
        "    \\end{cases}\n",
        "$$\n",
        "\n",
        "Cross-entropy minimization pushes $p_k$ close to 1 when $y = k$, which is what we want.\n",
        "\n",
        "Here's the plan:\n",
        "* Flatten the images (28x28 -> 784) with `X_train.reshape((X_train.shape[0], -1))` to simplify our linear model implementation\n",
        "* Use a matrix placeholder for flattened `X_train`\n",
        "* Convert `y_train` to one-hot encoded vectors that are needed for cross-entropy\n",
        "* Use a shared variable `W` for all weights (a column $\\vec{w_k}$ per class) and `b` for all biases.\n",
        "* Aim for ~0.93 validation accuracy"
      ]
    },
    {
      "cell_type": "code",
      "metadata": {
        "id": "1z1YjksN8OyL",
        "colab": {
          "base_uri": "https://localhost:8080/"
        },
        "outputId": "74d2a389-e501-43b6-848f-b38692051c33"
      },
      "source": [
        "X_train_flat = X_train.reshape((X_train.shape[0], -1))\n",
        "print(X_train_flat.shape)\n",
        "\n",
        "X_val_flat = X_val.reshape((X_val.shape[0], -1))\n",
        "print(X_val_flat.shape)"
      ],
      "execution_count": 31,
      "outputs": [
        {
          "output_type": "stream",
          "text": [
            "(50000, 784)\n",
            "(10000, 784)\n"
          ],
          "name": "stdout"
        }
      ]
    },
    {
      "cell_type": "code",
      "metadata": {
        "id": "UFJSzjSc8OyM",
        "colab": {
          "base_uri": "https://localhost:8080/"
        },
        "outputId": "dd93d438-3049-4464-f02f-f376b9acdf6b"
      },
      "source": [
        "import keras\n",
        "\n",
        "y_train_oh = keras.utils.to_categorical(y_train, 10)\n",
        "y_val_oh = keras.utils.to_categorical(y_val, 10)\n",
        "\n",
        "print(y_train_oh.shape)\n",
        "print(y_train_oh[:3], y_train[:3])"
      ],
      "execution_count": 32,
      "outputs": [
        {
          "output_type": "stream",
          "text": [
            "(50000, 10)\n",
            "[[0. 0. 0. 0. 0. 1. 0. 0. 0. 0.]\n",
            " [1. 0. 0. 0. 0. 0. 0. 0. 0. 0.]\n",
            " [0. 0. 0. 0. 1. 0. 0. 0. 0. 0.]] [5 0 4]\n"
          ],
          "name": "stdout"
        }
      ]
    },
    {
      "cell_type": "code",
      "metadata": {
        "collapsed": true,
        "id": "l4-8DOPN8OyM"
      },
      "source": [
        "# run this again if you remake your graph\n",
        "s = reset_tf_session()"
      ],
      "execution_count": 33,
      "outputs": []
    },
    {
      "cell_type": "code",
      "metadata": {
        "collapsed": true,
        "id": "pkBNP-GA8OyM"
      },
      "source": [
        "# Model parameters: W and b\n",
        "# W = ### YOUR CODE HERE ### tf.get_variable(...) with shape[0] = 784\n",
        "# b = ### YOUR CODE HERE ### tf.get_variable(...)\n",
        "W = tf.get_variable(name='W', shape=(784, 10), dtype='float64')\n",
        "b = tf.get_variable(name='b', shape=(1, 10), dtype='float64')"
      ],
      "execution_count": 34,
      "outputs": []
    },
    {
      "cell_type": "code",
      "metadata": {
        "collapsed": true,
        "id": "qRS8ks748OyN"
      },
      "source": [
        "# Placeholders for the input data\n",
        "# input_X = ### YOUR CODE HERE ### tf.placeholder(...) for flat X with shape[0] = None for any batch size\n",
        "# input_y = ### YOUR CODE HERE ### tf.placeholder(...) for one-hot encoded true labels\n",
        "input_X = tf.placeholder(name='input_X', shape=(None, 784), dtype='float64')\n",
        "input_y = tf.placeholder(name='input_Y', shape=(None, 10), dtype='int32')"
      ],
      "execution_count": 35,
      "outputs": []
    },
    {
      "cell_type": "code",
      "metadata": {
        "id": "WnA0M52i-n2W"
      },
      "source": [
        "# Compute predictions\n",
        "# logits = ### YOUR CODE HERE ### logits for input_X, resulting shape should be [input_X.shape[0], 10]\n",
        "# probas = ### YOUR CODE HERE ### apply tf.nn.softmax to logits\n",
        "# classes = ### YOUR CODE HERE ### apply tf.argmax to find a class index with highest probability\n",
        "logits = tf.add(tf.matmul(input_X, W), b)\n",
        "probas = tf.nn.softmax(logits, dim=1)\n",
        "classes = tf.argmax(probas, axis=1)\n",
        "# Loss should be a scalar number: average loss over all the objects with tf.reduce_mean().\n",
        "# Use tf.nn.softmax_cross_entropy_with_logits on top of one-hot encoded input_y and logits.\n",
        "# It is identical to calculating cross-entropy on top of probas, but is more numerically friendly (read the docs).\n",
        "# loss = ### YOUR CODE HERE ### cross-entropy loss\n",
        "loss = tf.reduce_mean(tf.nn.softmax_cross_entropy_with_logits(labels=input_y, logits=logits))\n",
        "\n",
        "# Use a default tf.train.AdamOptimizer to get an SGD step\n",
        "# step = ### YOUR CODE HERE ### optimizer step that minimizes the loss\n",
        "step = tf.train.AdamOptimizer().minimize(loss)"
      ],
      "execution_count": 36,
      "outputs": []
    },
    {
      "cell_type": "code",
      "metadata": {
        "scrolled": false,
        "id": "3PXZy1vo8OyO",
        "colab": {
          "base_uri": "https://localhost:8080/",
          "height": 309
        },
        "outputId": "e0380b9b-d538-4f9e-e5c8-555b599f537d"
      },
      "source": [
        "s.run(tf.global_variables_initializer())\n",
        "\n",
        "BATCH_SIZE = 512\n",
        "EPOCHS = 40\n",
        "\n",
        "# for logging the progress right here in Jupyter (for those who don't have TensorBoard)\n",
        "simpleTrainingCurves = matplotlib_utils.SimpleTrainingCurves(\"cross-entropy\", \"accuracy\")\n",
        "print(X_val_flat.shape, y_val_oh.shape)\n",
        "\n",
        "for epoch in range(EPOCHS):  # we finish an epoch when we've looked at all training samples\n",
        "    \n",
        "    batch_losses = []\n",
        "    for batch_start in range(0, X_train_flat.shape[0], BATCH_SIZE):  # data is already shuffled\n",
        "        _, batch_loss = s.run([step, loss], {input_X: X_train_flat[batch_start:batch_start+BATCH_SIZE], \n",
        "                                             input_y: y_train_oh[batch_start:batch_start+BATCH_SIZE]})\n",
        "        # collect batch losses, this is almost free as we need a forward pass for backprop anyway\n",
        "        batch_losses.append(batch_loss)\n",
        "\n",
        "    train_loss = np.mean(batch_losses)\n",
        "    val_loss = s.run(loss, {input_X: X_val_flat, input_y: y_val_oh})  # this part is usually small\n",
        "#     print(batch_losses[-1])\n",
        "    print(X_train_flat.shape, s.run(classes, {input_X: X_train_flat}))\n",
        "    train_accuracy = accuracy_score(y_train, s.run(classes, {input_X: X_train_flat}))  # this is slow and usually skipped\n",
        "    valid_accuracy = accuracy_score(y_val, s.run(classes, {input_X: X_val_flat}))  \n",
        "    simpleTrainingCurves.add(train_loss, val_loss, train_accuracy, valid_accuracy)"
      ],
      "execution_count": 37,
      "outputs": [
        {
          "output_type": "display_data",
          "data": {
            "text/html": [
              "<img src=\"data:image/jpeg;base64,/9j/4AAQSkZJRgABAQEASABIAAD/2wBDAAIBAQEBAQIBAQECAgICAgQDAgICAgUEBAMEBgUGBgYFBgYGBwkIBgcJBwYGCAsICQoKCgoKBggLDAsKDAkKCgr/2wBDAQICAgICAgUDAwUKBwYHCgoKCgoKCgoKCgoKCgoKCgoKCgoKCgoKCgoKCgoKCgoKCgoKCgoKCgoKCgoKCgoKCgr/wAARCAEgA2ADASIAAhEBAxEB/8QAHwAAAQUBAQEBAQEAAAAAAAAAAAECAwQFBgcICQoL/8QAtRAAAgEDAwIEAwUFBAQAAAF9AQIDAAQRBRIhMUEGE1FhByJxFDKBkaEII0KxwRVS0fAkM2JyggkKFhcYGRolJicoKSo0NTY3ODk6Q0RFRkdISUpTVFVWV1hZWmNkZWZnaGlqc3R1dnd4eXqDhIWGh4iJipKTlJWWl5iZmqKjpKWmp6ipqrKztLW2t7i5usLDxMXGx8jJytLT1NXW19jZ2uHi4%2BTl5ufo6erx8vP09fb3%2BPn6/8QAHwEAAwEBAQEBAQEBAQAAAAAAAAECAwQFBgcICQoL/8QAtREAAgECBAQDBAcFBAQAAQJ3AAECAxEEBSExBhJBUQdhcRMiMoEIFEKRobHBCSMzUvAVYnLRChYkNOEl8RcYGRomJygpKjU2Nzg5OkNERUZHSElKU1RVVldYWVpjZGVmZ2hpanN0dXZ3eHl6goOEhYaHiImKkpOUlZaXmJmaoqOkpaanqKmqsrO0tba3uLm6wsPExcbHyMnK0tPU1dbX2Nna4uPk5ebn6Onq8vP09fb3%2BPn6/9oADAMBAAIRAxEAPwD9/KKKKACiiigAooooAKKKKACiiigAooooAKKKKACiiigAooooAKKKKACiiigAooooAKKKKACiiigAooooAKKKKACiiigAooooAKKKKACiiigAooooAKKKKACiiigAooooAKKKKACiiigAooooAKKKKACiiigAooooAKKKKACiiigAooooAKKKKACiiigAooooAKKKKACiiigAooooAKKKKACiiigAooooAKKKKACiiigAooooAKKKKACiiigAooooAKKKKACiiigAooooAKKKKACiiigAooooAKKKKACiiigAooooAKKKKACiiigAooooAKKKKACiiigAooooAKKKKACiiigAooooAKKKKACuN%2BOP7QHwm/Zx8JW/jT4veJ5dPtL7U4dN0u2stLub%2B91K9lDGO1tLO0jluLudlR2EUMbvtR2xhWI7KvFv2u/gP8VPiX4h%2BGfxl%2BBd14fl8X/CrxjPrWmaJ4tu57bTdYhudLvdMubaW4ghmktH8q9aSOdYZtrR7TGyu2ACjpH/AAUr/Y71rxm3w8tvHviCDW7fSodU1bTtR%2BHOvWkmi2EhuAt3qXn2SDTIAbWcNLdmFEKYYqWUGbwn/wAFH/2NfGfg/wAQ%2BOtM%2BLFza6f4Y0e11fVBrnhPVdMuJNPuXMdreWtvd2sU19bzyAxwy2ySpM5CRlmIB86vP2GPjP8AHW0/aRP7Qt74V8My/tB/CPTvBskfgrWLrUzo7RWusWsr%2BbcWtqZ1VNRiZDsXeyygogxuy9Y/Y2/at%2BM%2Btaz8UP2lPh38G9X1e0%2BE6eBtB8E6d4n1QaRrSy6jaXt5fXd2bBJ9PYmyg%2BzxQw3BtnDP50hIwAeyX/7fP7N2k%2BAbH4h6tdeOLSHVPED6Jpeh3Xwj8SR67e3yW5uXjh0dtPGoShYAZTIluUCKzFsA49P8JeOfDfjbwTY/EPRbi5i0rULBbyCTVNPnsZY4iu7MsFykcsDAfeSRVZSCGAIIr41tv2Gf2tJfgpJ4W8feGPCnjS%2Bh%2BIcut%2BC9B1n9ofxXb3fgOxOmxWoi0/xbHp7atcSGUXcreZDGBHeGENsjGfUvB/7Bmq%2BKfgJo3hb9pz46%2BOPEfj5PhtdeFtf8Q6T8Q9at9Muhc2tzbyTPpa3SWN5MiXTBbq4tmmdoopWKuibADc8Mf8FJP2MvF/h7xJ4s0b4tXK6Z4W8GXni6/vr7wlqtpFe6BaruuNU09p7VBqtogK5nsvPQmSMAkyIG4n40f8FdP2YfAf7M/wATf2gfhW%2Bs%2BM7v4b%2BDYfEjeGW8L6xps2r2Nw7R2t3avNYFrixlkRh9vgjmtkVWdnCqSPHfC/8AwSh%2BNC/BPxf8LPFnh3w9J4h/4UL4j8A%2BC/Hmo/tD%2BNvECSXGpWEdp5h0jVUkttGtpDDE8scEl0yeVGqFggz6P%2B1L/wAE5vih%2B0BYeKtE0Pxj4d0q2179le%2B%2BGlrLM87GDVpLiOWGdo1iANqNhBIbzBnhO9AHqkv/AAUU/ZZt/E3hrwJeav41tvEni7TpdQ0HwpefCTxLDq8tnFd/Y5LmSwk08XNvCkxG6SaNEVGWUkRsrmXwN/wUT/Y7%2BJGqarpXhD4tyXB0rQ9Q1lbufw1qVvaapp1iwS8u9NuZrdYdVhhYqHeyedVLqCfmGcXwR8APjz4x/apsf2oPjn4f8HeH5JPg5f8Ag/VNE8J%2BK7vVTBcy6tHcpJDcz6fZl4mgiUsTGjJIdoV1USHwGb9hz9pf4bfs8%2BF/Cnxo1rwIPCP7N3wP8SaB4L1PwrfXcmpeKd2hHTLe4vbeW2ii04JZozSQxS3QknZXDxqgQgH0D4U/4Kl/sL%2BNPBus/ELQ/jLdrouheDj4tutRv/BmsWcdzoIKB9Vs/PtEN/ZxmRBJPbCWOLcPMZc167a/GD4c3vxcuPgVZ%2BIxN4qtPDUGv3emRWsrCHTp55beGd5QnlL5ksE6ohfe3kyEKQjEfFX7I/7P3xC8WfBL4Q/Hb9t/Uvhlovww%2BG/7L9z4fgk07W5wmr6bqmnaWby%2B1X7VBDDpkEVppyq0CS3CZleRplWNVrsP%2BCK3wr8d6P8As76n8evit4tbxFrHjW%2Bg03w54hlgaOS%2B8I6JF/ZWiXBD8/6VDDNqhPd9WcgKCFAB9lUUUUAFFFFABRRRQAUUUUAFFFFABRRRQAUUUUAFFFFABRRRQAUUUUAFFFFABRRRQAUUUUAFFFFABRRRQAUUUUAFFFFABRRRQAV4jpH/AAUY/Y91K716z1P4pXnh5vDnhy58QahJ418I6roMc2k27pHPf2smpWsC31ujyRK0tsZUBljGcuufab2K5ms5YbO6EEzxMsUxj3%2BWxHDbT1wecd6/MTV/%2BCOX7cvxf1bwvrnxu%2BOOhvrfhrwfqFnqHijUPit4m8TjxDrf2zSr611E6XfRQ2Wk20lzpi%2BfYWQCiOTassgVAoB9sv8At/8A7MNr8NG%2BLGseIPFWlaW2uQaNY2eufDLX7DVNTv5kMkMFlptxYpe37SIGdfs8MgZUdgSEYjovAf7VnwP%2BI%2Bv2XhPw54h1SHV7/wAKT%2BJIdI1rwrqWmXaabDd/ZJZZYby3ikgdZ/kMMirL32bea8m%2BJ3wc/bd%2BMTfD342654N%2BFWh/EP4UeOptY8P%2BGbXxxqV/ouuWdxpN3plzHcXz6VDNYzFL2SSN0tbgRmIKfMEjYq/En4Dftwa/8ZfDv7TXgfRvhXaeLL74Yar4L8Y6FqXivUpLDSFuL%2BG6tb%2ByuE04SagYhG6yW8sVoJS4xLFjkA7jSf8Ago3%2ByB4j17wL4W8K/EbVdZ1P4k%2BDdK8W%2BDdO0TwPrN7PeaHqL7LXUZEgtGa1t92PMknEa24ZTN5QYE7Hw1/bc/Zu%2BK/xGufhP4Z8X6tZ6/b6Xc6nDZeJ/BmraIt/Y28iRz3dlLqNrBHfwRvLEHltmkRfMQkgMpPlH7Cn7CXxY/Zh1/4caz488QeGrs%2BDv2UvCPwxv30i5nlZtW0t5muZovMgj3Wrb02MxV22/NGmBXjXw0/4JV/tjeJ/ij4X8TftTfGGz1SLT/AHivwv408TQfF/xJrV54il1exS2/tO10y%2Bhj0/QjlSxtLRSi5UCZxGq0AfUvhP/gov%2ByP410WPxVoPjvXP7DuNV0vT9P8AEt78P9btdK1GXUr2OyspLS%2Bns0tryCW5mijFxBI8IMqFnCsCfS/C3xd%2BHnjX4geKfhd4X8Q/a9c8FyWcfie0S0mC2Ml1B9ogjMrII3doSshRGZkWSMsFEibvmHxx4E%2BIvhX/AIJ7eNPgR/wUM8T/AAq8EeAtB%2BGkWgW3xM8O%2BLbsM06RpbWupPaXVnAmmzLMLeSGCO4umM5REcnaG7X/AIJX/D74seG/2RNK%2BKv7RVglv8TvixfS%2BOviJCtu0X2e/v1jMNpsb5k%2By2MdlZ7TkgWuDQB9G0UUUAFFFFABRRRQAUUUUAFFFFABRRRQAUUUUAFFFFABRRRQAUUUUAFFFFABRRRQAUUUUAFFFFABRRRQAUUUUAFFFFABRRRQAUUUUAFeL/Hrx/8AtF/8NF%2BBfgR8BfGfgrw%2Bmv8AgrxLr2r6n4v8F3etEnTrvQ7eGGGO31Kx8sN/akrMzM%2BfLQALyT7RXhXxF1pLL/gpV8IdFkUYvfgn8Q2Rs87o9W8GnH5Mx/Ck2luXCEqjtHs392rL/wDwg/8AwUL/AOjoPgz/AOGH1b/5qKP%2BEH/4KF/9HQfBn/ww%2Brf/ADUV7NRTIPGf%2BEH/AOChf/R0HwZ/8MPq3/zUUf8ACD/8FC/%2BjoPgz/4YfVv/AJqK9mooA8Z/4Qf/AIKF/wDR0HwZ/wDDD6t/81FH/CD/APBQv/o6D4M/%2BGH1b/5qK9mooA8Z/wCEH/4KF/8AR0HwZ/8ADD6t/wDNRR/wg/8AwUL/AOjoPgz/AOGH1b/5qK9mooA8Z/4Qf/goX/0dB8Gf/DD6t/8ANRR/wg//AAUL/wCjoPgz/wCGH1b/AOaivZqKAPGf%2BEH/AOChf/R0HwZ/8MPq3/zUUf8ACD/8FC/%2BjoPgz/4YfVv/AJqK9mooA8Z/4Qf/AIKF/wDR0HwZ/wDDD6t/81FH/CD/APBQv/o6D4M/%2BGH1b/5qK9mooA8Z/wCEH/4KF/8AR0HwZ/8ADD6t/wDNRR/wg/8AwUL/AOjoPgz/AOGH1b/5qK9R8ZjfoYgYnZNfWkUoBxuR7mNWX6FSQfY15jr/AO1B/wAE/fCmu3vhbxT%2B0R8HNN1PTbuS11HTtQ8XaVDPazxsUkikjeUMjqwKsrAEEEEZFZVa9Cgk6k1G/dpfm0d2ByvM80nKGCw9Sq4q7VOE6jS2u1CE2lfS7SV9L30Gf8IP/wAFC/8Ao6D4M/8Ahh9W/wDmoo/4Qf8A4KF/9HQfBn/ww%2Brf/NRVf/hr/wD4Jwf9HRfBH/wttH/%2BO1b0D9qD/gn74r12y8LeFv2iPg5qWp6ldx2unadp/i3Spp7qeRgkcUcaSlndmIVVUEkkADJrJY7At2VWH/gcf/kj0J8K8U04Oc8vxCSTbboV0klq226CSSSbbbSSTbaSbGf8IP8A8FC/%2BjoPgz/4YfVv/moo/wCEH/4KF/8AR0HwZ/8ADD6t/wDNRWj%2B1X8S/hV%2Byh%2Bzf41/aS8U/C5dW0/wV4euNVutN0jRBNcXKxLnYixxsRk4y5G1Fy7lVVmHP6T%2B1n%2Bx/rnjeX4a6X4a1%2BXxDbeHF17UNF/4U1rq3Wn2Dx3bxS3UbaeGtWl%2Bw3KxRzBJJnjEcau7ordR4Jf/AOEH/wCChf8A0dB8Gf8Aww%2Brf/NRR/wg/wDwUL/6Og%2BDP/hh9W/%2BaiqWmftOfsweJpPDv/CK6ZYIdZ8dTeFb2w8S%2BEtR0fUbG%2Bj0a61cwtZXNgJklNrbrMq3C28bwyeYsrMYo5m/BT9r/wDYX/aC0abxH8NvE2l/2dF4f0/XUv8AxF4Ru9FgudLvmZbW9gk1G2gW5t5HUoJYi6h8ISGIFAF//hB/%2BChf/R0HwZ/8MPq3/wA1FH/CD/8ABQv/AKOg%2BDP/AIYfVv8A5qKb%2B0b8RG%2BFev8Ag/4afCD4AeGvF3jPxte3iaVpetaqukWMFrZ2rXFzcz3SWd06AfuYlVYXLSXEediB3WbwL8QrD43/ALLXh/8AaE%2BAnwJ0HUtU8UaFY6jpXhnxPeppkcLTmPzYbm6itrkxGANJuMcUu5oiFB3A0AR/8IP/AMFC/wDo6D4M/wDhh9W/%2Baij/hB/%2BChf/R0HwZ/8MPq3/wA1FeI%2BOv8AgofoPgfwX4Vv9c%2BA3wp0LWta%2BKmueBNan8bfE6PSfDun3umQXUsksOqnS5WuUka28lFa2hfzWZGCtGQe5%2BI37WPgjwh%2B0P4b/Zk0bwB8JR4kv9E0nU9cHiv4iQ6REVv554YbXSAbCWTV7o/ZLp/L2W42CEs6GZQADtf%2BEH/4KF/9HQfBn/ww%2Brf/ADUUf8IP/wAFC/8Ao6D4M/8Ahh9W/wDmorBX4%2BW/hz47/FH4V/E79m3QtO0f4f8Aw/tPGGla3ouprqF3rOnyy6hEyvZm0iFtKG0%2BTaizTbxIuSh4rzCX/gor4a8NfC/xL4s%2BI/7NfgjTdc0jwb4U8W6dp2meNor3Tv7D1/UGsYL7UL/%2Bz4/sEVq0ck95IsM8UNuhljknAZVAPbf%2BEH/4KF/9HQfBn/ww%2Brf/ADUUf8IP/wAFC/8Ao6D4M/8Ahh9W/wDmorwC6/4KZ%2BEH8C/D/wAUaf8ABn4MWZ8deLPEGh23iHxP8XY9P8LXB0wgC50/VxpMp1CK4Y7Ij9niy6SAZ2gn3Pxj8T9U8E/tOfDn4Ian%2Bzl4Tl8O%2BP8AT73Hiy318NcWeoWtpLdPbrZGxAmh2RgCczxtlx%2B64NAFz/hB/wDgoX/0dB8Gf/DD6t/81FH/AAg//BQv/o6D4M/%2BGH1b/wCaivN/g5%2B2Z4b%2BLXi34taTD8JvhNFa/C288R2s%2Bkaf8R0u/EkraXeS2yS3Wlf2YgsYLjyXdZDcS7Q0YCvuJXS/Zd/aF8V/tafs0p8c/hR8FfgRq2qXq2b6fo2g/GCTUbKESxRyzQXt7Doe60uohIAYBBLkjl0zmgDtv%2BEH/wCChf8A0dB8Gf8Aww%2Brf/NRR/wg/wDwUL/6Og%2BDP/hh9W/%2BaivnXxT/AMFPtJ8Dfs9eCvjd48/Zn%2BGHhw%2BNZfFEum3Xib4mCx0Ge00i58m3%2Bz6nJpG6e71GIi5s7U20ZlhSVi6mMqe5vv26vCWn%2BPI7XVP2ZNH0jwpZeJvB/hnxPf8AiLWIrPW9P1nxJHZNYwRaWLV1uIkk1G1imlNzGUZbnakgt3JAPUf%2BEH/4KF/9HQfBn/ww%2Brf/ADUUf8IP/wAFC/8Ao6D4M/8Ahh9W/wDmorlvDP7UPhb4hftU%2BMP2a/ht%2BzvpWpW3hrwfeahpviq4vooLfWNXtLqO2utOjQW77Yoppkhe63ttnjuIvKzAS0/wb%2BLXxO%2BOn7N0PxS8E/sl%2BAYvGcXjnxD4a1jwtqXjd49MtJNH1vUNJuJ11JNJeWVHew3oPsasfOUHaFLUAdF/wg//AAUL/wCjoPgz/wCGH1b/AOaiqHgfxx%2B1Z4O/as8OfBH43fEf4e%2BJtG8TfD3xDrkM3hX4eX2i3VpdabfaJborPcavfJLG6apKSoRGDRIQ2Mg6PwJ%2BJXhD9oP9mO1%2BPGj/AA2svD13d2eoA21s0UwtrqznntpHguURPPhMtuzxTBV82Jkfau7aG%2BOP%2BUhfwv8A%2ByM%2BPP8A07eEKAPZqKKKACiiigAooooAK%2BcfhN4q/bv%2BOuj69478L/G/4SaBpdv8QvFWh6XpV/8AB/VL%2B4itdL16/wBMhaW4TxFAssjx2auzLFGu5yAoAFfR1eM/sH/8kQ1z/ss3xH/9TXW6AD/hB/8AgoX/ANHQfBn/AMMPq3/zUUf8IP8A8FC/%2BjoPgz/4YfVv/mor2aigDxn/AIQf/goX/wBHQfBn/wAMPq3/AM1FH/CD/wDBQv8A6Og%2BDP8A4YfVv/mor2aigDxn/hB/%2BChf/R0HwZ/8MPq3/wA1FH/CD/8ABQv/AKOg%2BDP/AIYfVv8A5qK9mooA8Z/4Qf8A4KF/9HQfBn/ww%2Brf/NRR/wAIP/wUL/6Og%2BDP/hh9W/8Amor2aigDxn/hB/8AgoX/ANHQfBn/AMMPq3/zUUf8IP8A8FC/%2BjoPgz/4YfVv/mor2aigDxn/AIQf/goX/wBHQfBn/wAMPq3/AM1FH/CD/wDBQv8A6Og%2BDP8A4YfVv/mor2aigDxn/hB/%2BChf/R0HwZ/8MPq3/wA1FH/CD/8ABQv/AKOg%2BDP/AIYfVv8A5qK9mooA8Z/4Qf8A4KF/9HQfBn/ww%2Brf/NRR/wAIP/wUL/6Og%2BDP/hh9W/8Amor2aigDxn/hB/8AgoX/ANHQfBn/AMMPq3/zUUf8IP8A8FC/%2BjoPgz/4YfVv/mor2aigDxn/AIQf/goX/wBHQfBn/wAMPq3/AM1FH/CD/wDBQv8A6Og%2BDP8A4YfVv/mor2aigDxn/hB/%2BChf/R0HwZ/8MPq3/wA1FH/CD/8ABQv/AKOg%2BDP/AIYfVv8A5qK9mooA8Z/4Qf8A4KF/9HQfBn/ww%2Brf/NRR/wAIP/wUL/6Og%2BDP/hh9W/8Amor2aigDxn/hB/8AgoX/ANHQfBn/AMMPq3/zUUf8IP8A8FC/%2BjoPgz/4YfVv/mor2aigDxn/AIQf/goX/wBHQfBn/wAMPq3/AM1FH/CD/wDBQv8A6Og%2BDP8A4YfVv/mor2asfWviF4B8NuyeIvHGj2DL94XupxREfXcwpSlGKvJ2JlKMFeTt66HmP/CD/wDBQv8A6Og%2BDP8A4YfVv/moo/4Qf/goX/0dB8Gf/DD6t/8ANRW54r/bL/ZE8DQG58YftR/D3TVGeLzxlZIzewUy5Y%2BwGa8w8Qf8Fjf%2BCaHhmd7fUf2sdEkZPvHT9PvbtT9GggcH8DXHVzLLaH8StCPrKP8A8kcFfN8pw38XEU4%2Bs4L/ANuOz/4Qf/goX/0dB8Gf/DD6t/8ANRR/wg//AAUL/wCjoPgz/wCGH1b/AOaivKpv%2BC7H/BLqKQxp%2B0fPIB/GngvWMH87QVmeIP8Agvt/wTO0a387Tfi3rWrtjPk6f4Qvlb/yPHGP1rlln%2BRxV3iqf/gaM6ee5NWko0sRCTeyi%2BZv0UVJv5JntH/CD/8ABQv/AKOg%2BDP/AIYfVv8A5qKP%2BEH/AOChf/R0HwZ/8MPq3/zUV852X/Bw1%2BxnqszR6J8IPi/foDhZrPwjaur%2B4/0zP5gVt2X/AAW/%2BFHiSBz4A/Yu/aH16ZR8qWHw7jdc/wC0y3TEfkazjxJkU/hxEX6cz/KDOurjKGH/AI/ND/HTqw/9LowPcf8AhB/%2BChf/AEdB8Gf/AAw%2Brf8AzUUf8IP/AMFC/wDo6D4M/wDhh9W/%2Baivne6/4LE/tC3Ejf8ACM/8EiPjxeR5/dvPoF3Fke%2B20cD8zVU/8FbP25rs40f/AIIufFR89De6hdW/89MNS%2BI8p6Sk/SnVf/uM1jisskrrFUv/AAN//Kj6S/4Qf/goX/0dB8Gf/DD6t/8ANRVv9lb4jfGnxhrHxQ8CfHTX/C%2Brap4B%2BIUWh2eq%2BE/DVzpNvdWsug6Pqas9vcXt4yyLJqMqFhLtKxodqnOfl9v%2BClH/AAVP147fC3/BH/XLMn7p1bxI4A%2Bu63ir1X/gl545%2BNfxJg%2BOPjX9on4WReCvGN78Zozq/hiC5Ey2QTwn4cSH5wzZ3wrFIeeC%2BOMYrqwebYXH1XCkp6K95QnFffJLXyNFVwc9KVaE32jzv53dKEf/ACZvy6r6mooor0xhRRRQAUUUUAFFFFABRRRQAUUUUAFFFFABRRRQAUUUUAFFFFAGP8QPiJ8P/hN4Ov8A4ifFPx1o3hnw/pcQk1PXfEGpxWVnaIWChpZpmVIwWZRliBkgd6r3vxZ%2BFem/DRfjRqPxL8P2/g5tKj1NfFk%2BswJphsZEV0uhdF/K8lkZWEm7aQwIODVX43eIvD3hL4T674i8U6Fqmp2VrZFpLLRfDV3rF1I5YCPyrOzhmnmYOVOI42K43cBSR88/slfHfTPhP/wS6%2BH134l%2BAfxS1TWfAHwW0VNV8C/8Kl1qLVrm/sLK3t3soLa6tIzLP9pTCAcEDzQfLUyAA%2BlPhz8T/hp8YvCVv4%2B%2BEfxD0LxToV2zraa14c1aG%2BtJijFXCTQsyMVYFTg8EEGvnn9oTWf7L/4Kz/szWO/H9o/DH4mW%2BPXEnhiXH/kKuj/4J3WF1e/C7xT8U/E9nq9p4r8f%2BOrjxD400/UvBWq6FBYag9nZ26WlpBqlrbTzwQ2ttaRG68sLcTRzy4RneNPEf2o5vir4c/4La/sl3Xjnxp4fv9B1PRPiVb%2BHLDSvDU9ldWEZ0/SiyXVxJezJeMziLayQ24Xa2VfcNvLjJ%2Bzoc3nH8ZRX6nu8OYb63mnsu9Os/wDwGhWl/wC2n3bRRRXUeEFFFFABRRRQAUUUUAFFFFABRRRQAUUUUAZfjD/kEw/9hWx/9K4q4XX/ANib9jLxXrt74p8U/sj/AAx1LU9Su5LrUdR1DwDp0091PIxeSWSR4SzuzEszMSSSSTk13XjD/kEw/wDYVsf/AErir528f/8ABZT/AIJufC/x3rfw08dftHfYdb8O6vc6ZrFl/wAIhrEv2e6t5Wilj3x2jI%2B10YblYqcZBI5rhx1bLaMIvGSgk3pz8tr%2BXMnrbsVHiSpw3%2B9hjXhufS6qypc1tbXjUp3tvZt23t1PRP8Ahgf9hX/oyz4S/wDhudM/%2BMVb0D9ib9jLwprtl4p8Lfsj/DHTdT027jutO1HT/AOnQz2s8bB45Y5EhDI6sAyspBBAIORXjP8Aw/N/4JZf9HRf%2BWTrn/yFWv4B/wCCyn/BNz4oeO9F%2BGngX9o77drfiLV7bTNHsv8AhENYi%2B0XVxKsUUe%2BS0VE3O6jczBRnJIHNefDG8MOaUZ0b3VrezvfpbTe9rFf8RNxNf8AdPPJy5tLfW6rvfS1vrDve9rWd72s72fsv7TXwTsv2k/2dPHf7Peoa/LpMPjfwjqGhvqsEAlez%2B1W7wiYISA5QuG2kgNtxkZzXl/iL9ib4heP9B%2BLsvj34%2B2sXiT4t/DvTfDN9rXhPwrNpsOmyWY1ELcxRSX08jI4vwGiMwOImxIPMGz1z46/GHw5%2Bz78HvEfxv8AGWmajdaN4V0qXU9ZTSoUknis4hunmCu6BljjDysM52xttDNhT5f8Z/8Agoh8Hfgtpfi7XNU8N6nqFj4K8W2fhvWNRHiDQdKtHv7jTYtRCQ3Gr6lZwybIJ4AwD798wVFfZIU94zPOvgj/AMEpovhF4ih8TQ/EnwhYbfi4PHL6D4C%2BF8egaRAw8I3nhw2dtapeSmEN9qF20rPIzOjKR84dPQvgb%2BxR4h%2BAUfgS78I/Fyyub/wN8DdK%2BHVvLqHhd2hu/sckDG%2BaNLtWXesLAQhzsLg%2BY23a3KWv/BR3SfFPj6O/8E3FpceAtc8GfCTXfCOqxaFJPeXX/CYeINW00rMj3cKxxiKzsyrAF4GkmdkucLBVjwb/AMFGj8TP2ivB/gjwh8H/ABNZeAfEfgrxZr9p4s1TQlnbxDDpNxp0Mc%2Blx2VzNOY3%2B1St5U9uk8waBoUIJyAen/tG/ALxx8VPEHg/4mfB/wCJ%2BneEfGfgm9vH0rVNa8NPq9jPa3lq1vc209ql1au4P7mVWWZCslvHnehdG5y5/ZS%2BL3gr9j5P2T/2cf2jofBs2neB9O0Hw/42vfCbahqNncRuRe6hIEvIEkknh4QIIvImZpd0o2xLu/tSfGj4gfD3RvAvhb4OJpEPij4k%2BN7fw7oWoeJ9LnuLLTc2V5qE9zPaxzW8s221sLgLEJYiZGQFlGai/Z5%2BMPxZ%2BPf7Nd94niTw7pnjzTtc8ReGbmd7GeXSf7V0nVrzSnulgEwmNtJLZmdYfO3hJAhk3AvQBieEv2a/2ifht%2BzzoPwM%2BF/xY%2BE%2BinRoJ7F5P%2BFOX9xp72DoAqJay68ZPP3F3knluJhMZGLx7iWPnetf8En9ItPCOm/Db4cfGCDTdBufhR4V%2BHnjaXWvCi6hqmqaToE00lnLZ3a3EK2F232mcPK0M6A%2BS0ccbRAmh4j/AGz/ANrzSvhv4pi8OW/hjxLqvhT42Wfg278eeEPhJrus6dcWBsYZ7%2B6j0Wxv5bx5bO4kks5fLupEEkD5KsskUdn4sftz/FLws3ws8S%2BF/jL4Mj%2BHniLwPq%2Br%2BNPi4fgh4g1XR7e8tLvToY4ZFtNRQaFGyT3zSPfzOIjZsrspRxQB6rpH7Onx9079tXXv2nrj45%2BEJfDWteD7Pw4vhCP4c3SX0FtaS3txBJ/aB1Zo3k%2B0X0hc/ZArRoqBUbMh8w0X/glgmn6H4q1uHx14D0Dxpr2peG7ywvfh98Jk0TQLVtF1X%2B1YPP0oX0r3huLkkXLtdK0kaxKhhaIOfVLz4v8Axu0L9vvw/wDAfVb/AMJ3PgDxd8LvEXiHSI7TRrlNXs7zSr7w9bHzbo3TQSwyjWZiEW3Rk8lD5jbiK%2BZ/Cv8AwV78f22l6yPFSeBta8TXXwr1rxVp/gTQrK7tLzwXqljqOnWCaDrs0lxNvnaXVbfdIkVsUFrOwhZXiYgHuWl/sd/tA%2BFfhj4j8H%2BD/wBoTwMmr%2BPvEOs6v4/1DWPhLNeWNw9/HDCY9Pshq0Ys0WOEbhPJdiWR3dwSzArqv7Ffxf0Pxv8AAqb4P/H7w9pnhL4I6JDptvpHinwFdatqesJ9iOnzO9/FqtqkTPa7Np%2BzPsmDSN5it5S1dC%2BNn7V%2BoWPxG%2BG/ij4t/CXw54m%2BFutWlx4h8e6j4Hv20O40K40oXon%2Bwtq8clrLHL5sbs968Yjg83A8zy4%2Bf8a/teftY6Z%2Bx94G/bC0/T/A%2BjNrHh3R5rz4a614a1CbU/EmrXs6Rxafp9wLyE2TziRBCs1tcOrSjzVUI1AHoupfswfGXxd8fbH43ePfjV4UnXwnZa9B8PtN0X4dS2j2bakFTOozyalMdQSNETMcS2iyyDzGAIQJQ0T9kT40pbfF7xx4i/aK0aH4j/FLwXZ%2BHLXxR4T8BSabp%2BhJZw362d2ljLqFxJcXKSajM7SPcjesUEYCLEM81qH7Z3xys/jlNfwaD4ZuPhpF8YW%2BG8ekxadcDXZb0aWbgaiLo3PkeWb7/Rfspt93lnz/AD8/ua8h8Bf8FbvitrXw%2B1m6u7v4feIPFD/DTS/FpsPDmi38cPgF59UtbDUtP1xGupZJ5dMW9juZ9v2SUx20waC33RsQD3/4o/sL6nPpfw%2B039m/4k6L4Nh%2BHvw51PwLp2l%2BJfBh17TpNFvItPjIFut3a7LiNdNgVJS7JskmR4nDjbiat/wTR8M674k%2BF9hrOteELzwv8LbDw3BpV3e/DtJvF92dEkhntI315ro7LZrm2t5pYUtVaQo6mTbIwrjfhl/wUI%2BMHx51CD4GfBDx/wDDPW/F4%2BKeoeGJPibaeG7y48M3lha%2BHbTW2v7Wxj1ESylvt9rZ7RfFN6zTCRlVY2zNI/4Kq6/468Q%2BC/DTeI/Cvw7c/DzRfE/xBv8AXfA%2Br%2BIbOKW%2B1G%2B042kc9lNbx6ZbpPpl0DqF63lYntx5ZPmBQD1X4Zf8E1Phd8Bf2hI/j/8AArxr4n0mSy8DajoWl%2BHde8Z6/rOnW9zdXS3P2kwXWpmMwhwxNqqopZt6ujgMOc0/9g/9rqz/AGTvEv7M8X7aHhKyufE/xD1fxDfeI9E%2BE9/ZlrHVtZvdX1PTDGNfaVBLNevAlxDPFLFbgqCZSJ16jxl8Y/2rvBv7bXhv4LWHi/4e6/4U1fw14g8Tavo0Pgq8sdT0rS7NYYLRG1J9WlgaWa8u4F3NaIrRwXRCqUyPA/hZ/wAFVf2jvFvwh8ReNPEOk%2BEYbi18P%2BCdU/tfUPAWsaLZ%2BGE1vVHs72e5t7y7aTWdNsIV%2B0f2raSQWdwqOFkjVXljAPs3wl4L1z4cfs7x%2BAPENx4bkn0Xw3NZRjwh4afR9MigjjZYYreye5uTbxpEI0C%2Bc4%2BQkbQQq8p44/5SF/C//sjPjz/07eEKx/2UP2on/an/AGfPG%2Bu3fiHQNcvPCniHV/Dl54j8J2ssGla15EKTRXtpHLNMywywXELAedKudxSSRCrnY8cf8pC/hf8A9kZ8ef8Ap28IUAezUUUUAFFFcd8ePjZ4a/Z%2B%2BHUvxE8TaRqeqbtSsdM0zRdEhjkvdU1C9uorS0tIFlkjj8ySeaNd0jpGgJd3RFZgAdjRXjsP7bHwyX9nfVf2hdW8J%2BJdPXRNfbw/qvg%2B6s7dtYg1v%2B0E06PTNkU7wNNLdSwxxusxgcTxyCXy231Bpn7Y954j8Jahq3gv9ln4la34h0HxNJoXizwJYNoa6poN2tpDej7TJNqkdkyvbXVpMhhuZS63UeBncFAPaa8Z/YP/AOSIa5/2Wb4j/wDqa63XoXwc%2BLHgz48fCXwz8bPh1ezXGgeLdBtNX0aa4t2ike2uIlljLxt8yNtYZU8g5B6V57%2Bwf/yRDXP%2ByzfEf/1NdboA9mooooAKKKKACiiigAooooAKKq61rmieGtLm1vxFrFrp9lbrunvL24WKKMerOxAUfU14b8S/%2BCpH/BPb4S%2BYvi/9rTwfJJFnzIND1A6pIpHYpZLKwPtjNc9fF4XCq9apGK82l%2BbRy4nHYLBR5sRVjBf3pRj%2BbR75RXyP/wAPdfAvjU%2BV%2Bzn%2ByT8b/iRv/wBRqOieAZLfTz6Fri5ZNgPqUpf%2BGoP%2BCq/xDynw3/4JwaD4Sgf/AFGpfEH4m28mfdra0XzUx6Zri/trL5fwnKf%2BCE5fiopfied/rDlc/wCC5VP8FOpNfeoqP/k1vM%2Bt6K%2BRx8Ff%2BCxXxNPmeOv20Phl8Nkflrf4efD9tWIH93fqTAg%2B4/CuV%2BKP7K%2BufDSwGq/tX/8ABbH4i6BFIu4SW3iHTfDQk/3FAJP0XNRPNMRGLmsNJR7zlTgv/JpO3zOjC4rOsyrxoYHLq1Sctl7qk/SKdSf/AJKfcVUtc8SeHfDFmdQ8S69ZadbjrPfXSQp/305Ar8rfEXiP/gnDc6m/hvRP%2BCiP7XPxj1NeJdE8LeK9R1JpR/dDJaxRsD04kpND/ZQ%2BG/je8GqfB3/giD8R/E91L01/44/EqbSHUf35Lee4ff8A7qjNea%2BI6s3y0qcZPym6n/pqlJf%2BTI%2B3h4c%2BLMoKeIymOEi9ebF4mjh1bvao4Ta9Kbv0P0L8Yft0fsXeAUdvF/7WHw6sXjHzW8njGzM34RrIXP4CvKda/wCC03/BPKz1B9H8LfF7U/FN5H/rLfwr4Q1G82j13iAIR9GNeJ%2BD/wDgm/8Atf38kd9o/wCzr%2ByP8LokObf7J4Bk1/U4j/ty3SGPPuhr1fRf2Kf%2BCk6WCaRP/wAFPtN8PacOumeEPgjpVuo/3ZC4ZfwFL%2B0OIq3wUOVf4P8A5ZVj%2BXyH/qHmMdMZxDllB9VB4vEteV6dBQb9G159S0//AAWB%2BEurL9n%2BHH7LHx78V3chxbWujfC%2Bf96f96V0CjuSeg5rO8Qft0f8FDLuxbxP4d/4Jy6d4W0FBlb/AOJnxX0/TZph6eTjMJHU7ia0j/wS78c%2BK/8AksH/AAUm%2BP8AraN/rrPR/FkWk203s0cMRyvsCKv%2BHP8AgjH/AME9NI1Bdc8TfBu98WamPv6l4v8AFF/fySf7yvN5Z/74o9nxRX3lyr1px/8ASY1H%2BK9Q/wBU%2BD6GuO4mrVf7uFwCh/5Piqy%2B9Q%2BR89%2BPv%2BC5Xxs%2BGjvZeKfgX8HmnTIdtJ%2BPlhqHlkdQ0drHI%2BfbrXFJ/wAF4P20PiLbtF8Bv2YPCeuXTZEKabpfiDVMn0xFbxBvwYV%2Bj3gH9k39lz4Vqg%2BG37OfgfQ2TGJdL8LWkMhPqXWMMx9ySa9AREjQRxqFVRgKBgAU1lHENT%2BJj3Ff3Ypv72l%2BQpYXw4wytTWY17damKw1FP1jh8HOSv5VLr1Pyng/ar/4ODfi5aC/8I/AHUPDDSD/AI9/%2BFc2tkqE%2Bn9qXZf8xUdj8PP%2BDkr4jObXxn4sv9HikJ2XEPiHw3p4QdsizhlkH86/V2in/qxOetbG15f9vqK%2B5Iz%2BucG001TyWEvOri8wqv8ADEYeL%2BcLH5X6f/wSp/4LP%2BNLo6l8QP8AgpJe6WknS0tfiLrc5jHusUcMef8Ad4robP8A4Ib/ALZHiBB/wnv/AAVg8agfxw2sepXIb23S6kv8q/S%2BirjwllC%2BP2kvWrUf/tyOWtmGVVP4eU4KHph%2Bb73VxFW/q0fm/D/wbseFNdGz4oftwfEfXUP%2BsVESPd6/615v610Xh3/g2/8A2BdHCnVvFPxG1Zh94XniC1jU/hDaoQPxr7%2BoraPCvD0Xf6vFvz5pfnJnJ9apJ3p4XDw/w4XCp/e6E3%2BJ8e%2BGv%2BCD3/BMjw%2ByyXnwLvtWdejan4t1E8%2B6xTop/EYr0Pw9/wAErf8AgnZ4YRU039kHwXIF6f2hpv2s/iZy%2Bfxr3%2Biu2nkuT0fgw0F/25H9Uzsw2fZ1glbC4iVL/r3al/6ajS/M818P/sY/sfeEyH8MfsqfDfT2Xo9n4HsI2%2BuViBrttG8EeC/DiLH4e8IaXYKv3VstPjiA%2Bm1RWpRXbTw%2BHpfBBL0SX5JGOLzfN8e/9qxNSp/jqVJ/%2BlVJBRRRWx5wUUUUAFeM/sv/APJb/wBo7/ss1j/6hXhevZq8Z/Zf/wCS3/tHf9lmsf8A1CvC9AHs1FFFABRRRQAUUUUAFFFFABRRRQAUUUUAFFFFABRRRQAUUUUAFFFFABRRRQAV8G/8FK9V/sL/AIKs/sQapuxu1Pxla5/67jRIsf8Aj1feVfnZ/wAFi72TR/8AgoX%2BxJrqcJa%2BPdSE7Z%2B7HJqfhyNj/wCP15mcS5MunLtyv/yemfceG9BYnjTDUX9tV4/fhcX/AJH6J0UUV6Z8OFFFFABRRRQAUUUUAFFFFABRRRQAUUUUAZXjD/kEw/8AYUsf/SuKtWob%2BwtNTtHsb6ASRSDDKSR3yDkcgg4II5BFUP8AhD9J/wCfvVP/AAeXf/x2gDVorL/4Q/Sf%2BfvVf/B5d/8Ax2j/AIQ/Sf8An71X/wAHl3/8doAs69oWj%2BKNDvfDPiLTYrzT9RtJLW%2Bs7hN0c8MilHjYd1ZSQR6GvnXwT/wTB%2BFHw0%2BEfgP4YfDz41fEfStQ%2BH2t6nqml%2BOV1PT7nW7yW/SaK6F1Jc2UkEm6KbyldYUljSGIRum0k/QP/CH6T/z96r/4PLv/AOO0f8IfpP8Az96r/wCDy7/%2BO0AeDeBv%2BCYnwD%2BH/hrw94V0Txb4wktvDXhr4eaHYNd6lbPI9t4N1W71TS2kb7ON0ks95Ktw3AdFQRiFgXa18Nv%2BCd3gX4U/ETS/iB4S%2BOvxEVfC/hvXdC8B6FcXmmyWHhaz1Wa2mmS0Q2O%2BUxPaQeSbp7jYqbDuT5a9v/4Q/Sf%2BfvVf/B5d/wDx2j/hD9J/5%2B9V/wDB5d//AB2gDmPjn8A9E%2BO/g3S/Dmr%2BNNd0TVNA1q11jw94s0B7VdR0zUIAyrcxCeCW3YtHJNE6SQvG8c0ilMHjB0P9kzTvB/wKuPgJ4B%2BN3jrQLK80XWba817SruxGqzalqly13da39oktG2agbiW5lVkVYQ91IfJO2Ly/Rf8AhD9J/wCfvVf/AAeXf/x2j/hD9J/5%2B9V/8Hl3/wDHaAPJvhj%2Bxprfwc%2BA%2BnfAL4bftc/EjSrDRp4f7F1a10nwut3Y2scTJ9jVBov2aSNy3mO8kLzNJ83m8kHP17/gn/4U1b4IW/7N%2BkfH/wCI2i%2BC7jTdRs/Fuj6Zd6WzeKhqFxNcahLe3M9hJcRS3Elxcl3s5LYjz22bMJt9p/4Q/Sf%2BfvVf/B5d/wDx2j/hD9J/5%2B9V/wDB5d//AB2gDzPxD%2ByL/bn7Ufhf9qGy/aH8d6VL4R8O3mg6T4L0620T%2Bxjp15JYS3cD%2Bbpr3hEsmmWTFhchk8nEbRq7q2frn7CPgL4gz%2BLbv44fFPxp4%2Bn8U%2BE7/wAM2s/iG4sLdvD%2Bk3kqSz22n/2faW3ls0kNq/ny%2BbPus7cmU%2BWK9c/4Q/Sf%2BfvVf/B5d/8Ax2j/AIQ/Sf8An71X/wAHl3/8doA%2Bf/G//BNHwl8Qvhzf%2BB/E37TfxQn1DXfHNj4o8W%2BKnbQnvfEU1lbR29pZXkD6U1i9jGsFu4tktkV5IA77y8vmbfxF/Yb1P4lfEbwL8WNW/bD%2BKdvrvw/0m4tNJube08NSRT3E5Im1GW3n0aSFLxoSbfzoUi2QtIiBBNMZPZf%2BEP0n/n71X/weXf8A8do/4Q/Sf%2BfvVf8AweXf/wAdoA8t/wCGIfhx/wAL/wD%2BF7f8Jz4q%2Bz/8JX/wlX/CCfarX%2BxP7f8A7N/s3%2B1Nn2f7T5v2b/ll9o%2Bz%2Bb%2B/8nzv3lTeFv2R5/Dmq%2BI/G2oftJfELWvGWvaJFo9j441ZdGN9oNjHK8ywWUMOmx2agyuXdpreV5SsYkZ1jjVfTP8AhD9J/wCfvVf/AAeXf/x2j/hD9J/5%2B9V/8Hl3/wDHaAPGrj9gLwUfDVmdL%2BNfj3T/ABta%2BM7jxVL8VLWfTG1271SewOnTSTLJYvYtG1iI7YQi0ESR28BREeJHXN8R/wDBMn4Eav4T074f%2BHvGHjDw94fTwHYeC/FOj6Pf2rJ4u0GzknlgstRlubaWc/Nd3paW3kgmf7dcbpDvGPd/%2BEP0n/n71X/weXf/AMdo/wCEP0n/AJ%2B9V/8AB5d//HaAOUb9m/4d3nxQ8b/FfX2v9UvvHvhWw8N6ta306m3t9LtPthW2twiK0au9/cvISzMzOOQEUDhPhh%2BwXpvwn06%2Bfw5%2B018TJ9dbwnp/hjw94r1GXRpr7w7o9nMZYrS1U6aLeQMTiSW6huJpAF3SEqpHs3/CH6T/AM/eq/8Ag8u//jtH/CH6T/z96r/4PLv/AOO0AcZ4E%2BCPhr4CfBXXfCOg61qmr3N%2BdS1XXfEGuzRSX2r6hc75Jrqdoo449zEhQkcaRxoiRxoiIqjA8cf8pC/hf/2Rnx5/6dvCFeonwZob4Wdr6ZMgmK41a5kRvZlaQqw9iCK8u8cf8pC/hf8A9kZ8ef8Ap28IUAezUUUUAFeX/tb/AAb8Z/Gf4YWFj8NbzTIvE3hrxhoviXQI9bnkisrq40%2B/huTazyRRyPEk0aSQ%2BaschiMgkCSbNjeoUUAfNvg79mD4rr8CfiL4H%2BLnwz8BeJ9T%2BI2uah4m1XRR4zv7fT01Ge4TyLFLpNP8%2BKOC3t7QrqCRib7QjSLbxYXHm1t%2Bw3%2B2B8M/gF4p8D/AqfwjYa38Wviedf8AihDefFXWzNZaR/Zlpp7WOn65Pp91eT3c0Wn24kvp4UkT7RcNEI2ELR/bdFAHF%2BF/hbptx8BdK%2BD2u%2BEoPCVnB4ettNfQvAXii8todJiijVFt7K%2Bt1tLhI41QIkiLC21R8q9K8/8A%2BCdPh6w8Jfs3X3hbSri%2BlttO%2BLfxDtreXU9Unvbl0TxnrSgy3Fw7zTuQOZJHZ2OSzEkmvdK8Z/YP/wCSIa5/2Wb4j/8Aqa63QB7NRRRQAUUUUAFYnxC%2BJPw9%2BEvhS58c/FDxvpXh7RrNc3Oqazfx20EfoC7kDJ7Dqegr58/au/bn8WaX8R1/Y/8A2KPC9r41%2BMV/EGvjKxOleD7Y4zealKvCkAgrD95srkfMiSZ/w6/4JWeBvEHim1%2BLn7cvxQ1n45%2BM4T5kP/CU4j0PTnPJW10xP3Kp2IcMp67VNeVUzCrVqyo4KHO46OTdoRfZtXcmusYrTZtPQ8SrmlevXlQy%2Bmqkou0pN2pxfZtXcpLrGC02lKL0KGo/8FRfEPxy1Gbwp/wTr/Zk8SfFedJTDL401KNtH8NWrA4Ym6uAGnKnJMaqpYD5WNSf8Kc/4LD/ABdGfiF%2B1x8M/hZay/ftPhx4Lk1acJ/dMuosNr44LJ0PIr6y03TNN0bT4dJ0fT4LS1tohHb21tEI44kAwFVVACgDoBXg/wAfP%2BCm37IfwB13/hA73x/N4t8YSSGK28EeALNtX1WaUf8ALLy4SVif/ZldDXNiKEaVP2mY4ppdk/Zx9Eo3m/8AwJt9j1cl4J4l4rxf1fD%2B2xNS13CgnCMV1b5NVFdZ1KsF3a1ON0T/AII9/s6%2BINVh8VftR/EL4gfGjWIn8xJviF4snltIX/6ZWsBjRE/2G3jmvZfD3wJ/Y/8A2YNBl8WeHfhP8PfAmn6ege51mPR7LT1hA/ikuCq/99M3414e37RP/BUz9oVTB8Av2O9B%2BFekTjEXib4xa2ZLvYerLp1oPMikA6LJuUnrxmrPhP8A4JUeFfHviC2%2BI/7eXxq8R/HHxHBJ5sFhrsn2PQLCT/p302AiMDkg7yysMEoDWFBYZSvl%2BEu/55rlXrzTUqkvkl6o%2B5wnhnwpw0/bZ7jKFGS/5d4fkxeJk%2BzlGUqNN93VxMrfyO1i34w/4K9fsvnX5fAv7OuieL/jP4jiO19L%2BGHhyW%2BiiJ6NJcsFhEfq6s4A5rOHxd/4K%2BfHA4%2BG/wCy/wDDv4Q6bL93UPiP4nfVr4x/30t7ABY3/wBiXp39a%2BpfBvgbwV8OtBh8K/D/AMH6XoWl24xb6bo%2Bnx2sEQ/2Y41Cj8BWpXf9RzCvriMQ15U0oL/wJ803%2BB3vinhDK/dyjJoTa/5eYycsRJ%2BfsqboYePpap6vr8jn9gL9sj4qjd%2B0t/wU98dS203%2Bt0f4YaNa%2BHI0XvGJ4w8ki%2B7AEg4rq/hZ/wAEm/2CPhZqB8Qj4CWHijWZG33Ot%2BOriTWrieT%2B%2Bwu2eMN7qi19G0VUMmy2E1OVPnkus25v/wAncrfJI58V4lcbYihLD0cW8PSlvDDxhhoNdmsPCk5L/FOX36uj4e8M%2BG/COmJonhTw/Y6ZZRf6u00%2B0SGJPoiAAflV6iivTSUVZHw85zqzc5ttvdttt%2BrbbfzbCiiimSFFFFABRRRQAUUUUAFFFFABRRRQAUUUUAFFFFABRRRQAUUUUAFeM/sv/wDJb/2jv%2ByzWP8A6hXhevZq8Z/Zf/5Lf%2B0d/wBlmsf/AFCvC9AHs1FFFABRRRQAUUUUAFFFFABRRRQAUUUUAFFFFABRRRQAUUUUAFFFFABRWB8Uvib4S%2BDfgLUfiX46fUl0rSo0e7OkaFd6nckM6xqI7WzilnmYsyjbHGx5zjAJrKi/aG%2BDUv7P9v8AtSt45gi8BXXhWHxJB4hubeWJG0yW3W4jnMboJQWiZSIygkywXbu4oA7Svzl/4Lk/6B8ePgB4v6f8I%2Buq6ju/u7fEXhBM/wDkSvuz4M/HP4afH7w1deKvhlqt9NDp%2Bpyadqlnq%2BhXml32n3aIjtBc2d9FDcW0nlyRSBZY1LRyxuMq6sfhb/gvnbzDQdK1y1TdNpHwn8Q30IHqni3wICfyY15We/8AImxD7Qb%2B6z/Q%2B/8AClr/AIiXlEH9vEU4f%2BDOan/7kP0XopltcRXdvHdQPujlQOjeoIyDT69U%2BBaadmFFFFAgooooAKKKKACiiigAooooAKKKKACiiigAooooAKKKKACiiigAooooAKKKKACiiigAooooAKKKKACiiigAooooAK8Z8cf8pC/hf/2Rnx5/6dvCFezV4z44/wCUhfwv/wCyM%2BPP/Tt4QoA9mooooAKKKKACiiigArxn9g//AJIhrn/ZZviP/wCprrdezV4z%2Bwf/AMkQ1z/ss3xH/wDU11ugD2aiiigCO8vLTT7SW/v7qOCCCNpJ55nCpGijJZieAAASSelfGnjb9rv49ft4eLNQ%2BBf/AAThuRpHhOyuGs/GPx91C1LWdqRxJb6RGcfa7jH/AC1%2B6uQQVDJLVf8AaK8deL/%2BCkfxw1L9hb4C%2BIbnT/hf4XulT45%2BPdNkwbxwc/2BZyDgu2CJmGQoyp4BSX638NeGvhp8Cvhpb%2BG/DenaZ4Z8K%2BGdL2wwoVgtbC1iUlmZiQFUKCzOx9WJzk14k6lXNKkoUp8tCOkpLRza3jF9IraU1q3dRas5Hz7lis%2BxDoYaTjQT5XKN%2BapK9nCm1qop%2B7KcU5SleMLWcjj/ANlD9kT4O/sd/DtvAfwq0uaS4vZvtXiHxHqkvnajrd4cl7m6mIzI5JYgcKu47QMnPL/tV/8ABQT4Pfsy6za/C/TNO1Hx18S9WAXQfhr4Qj%2B0alcswyrTbci1ixyZJOdoLKr7TXk3iH9q/wDaO/4KCa7d/C3/AIJ5GTwt4AguGtfEvx71mwbZJg7ZIdGgfBnk6jzjgLzjYdjt7n%2Byl%2BxD8Bf2QNGuU%2BGuhT3viDVSX8R%2BNdfuDd6xrMpO5nnuG%2BYgt82xdqZ525JJijXqYimqGWRUKS09pb3f%2B4cftv8AvP3L63mz9lwvCPDvAmFg%2BI4t1klyYGlLlkluniqi5vYJ3u6UebEyT972HNc8UH7Kf7cv7bRGpftxfGE/DjwTcfMPhD8L78rPcRn/AJZ6jqfJk9HjizGw5BQ19D/AL9lH9nH9l3Qv%2BEf%2BAXwc0PwzC0YSe4sbQG5uAOnnXD7pZvq7tXoVFd2GyzC4ap7WznU/nl70vk38K8oqKPJzvjjP86wn1FSjh8Inph6C9lRXZyjF3qS/v1p1pvutkUUUV6B8gFFFFABRRRQAUUUUAFFFFABRRRQAUUUUAFFFFABRRRQAUUUUAFFFFABRRRQAUUUUAFFFFABXjP7L/wDyW/8AaO/7LNY/%2BoV4Xr2avGf2X/8Akt/7R3/ZZrH/ANQrwvQB7NRRRQAUUUUAFFFFABRRRQAUUUUAFFFFABRRRQAUUUUAFFFFABRRRQBznxc1rxB4f%2BGmtar4V%2BHmr%2BK9RSxZbTw9oNxZRXd4z4TbG99cW9upAYsfMlQYU4JOFPyz4L%2BD37RnjD/glT4N/Zg1n9nbXfC/jjwb8O/C8TaX4i1rR3ttQ1LQ5bCQ2Insb65UJctZFVkYBRHKDJsbKV9k0UAeKfsh%2BCviXaeK/ix8a/ib8OL7wbN8SPHltqml%2BFNVvrO4vbG0tdE0zTFe6axnnt/OkkspZMRTSARNCC24Mq/K3/BYD4ZeJE1XxPqur/FnxDr1nqf7PHji7sNA1W105LTRBb674NlK2zW1pFO4baCftEs5GwbSvzZ/RSvjj/gqDo39v67qmmBNzH9kz4ryIvq0dx4VkUfmorhzSHtMsrx7wn/6TI%2Bq4ExP1PjjKq/8uJw7/wDK9L/M%2BoPgnrX/AAkfwZ8I%2BId%2B77f4YsLnd677eNs/rXT15Z%2BwzrP/AAkP7FXwh1svua6%2BGOgySH/bOnwbh%2Bea9TrfCz9phac%2B8Yv74xf6nl5/hvqWfYzD/wAlarH/AMBq1Y/%2B2hRRRW55IUUUUAFFFFABRRRQAUUUUAFFFFABRRRQAUUUUAFFFFABRRRQAUUUUAFFFFABRRRQAUUUUAFFFFABRRRQAUUUUAFeM%2BOP%2BUhfwv8A%2ByM%2BPP8A07eEK9mrxnxx/wApC/hf/wBkZ8ef%2BnbwhQB7NRRRQAVzvxX%2BK/gH4I%2BAr34mfE3XG0/R7B4I5porOa5lklmmSCCCKCBHlnmlmljijijRpJJJERFZmAPRV5B%2B2v8ADfx98Q/hPpF98MvDLa7rHhPx/wCHfE8Ph1LuGB9Wi0/U7e4nto5J3SJZjCkhi810jMqxh3RSXUA27L9q34CX3wLuv2kU8dND4QsZJ4b69vNIu7e5trmG5NpJaSWUsS3SXQuVMH2VohMZcRhC5CnHv/25f2a9N%2BHVr8TbrxTrv2S88RPoNvo8XgTWZNcbVEhe4ezOkLaHUFmW3je4KG3BEC%2BccR/PXlfhX4E%2BO/E/7O3xQ8PfGT9n7xnbXfjvxveeONP0Dw5r%2BjLqWl3CX8EmnW8M7Xv2ZdSiNha3pLObQSybPOlAbPn3ws/Zd/am%2BDnjG2/a61P4ceNfHWt6j8ZNV8Sav4I1nxDoH/CRpp1z4VstCimeWKa20n7UsmmQyNDBKkUdvdMiM7xbZAD7c8C%2BN/CPxM8FaR8RvAHiC21bQte0yDUdG1Szk3RXdrNGskUqHurIysPY15d%2Bwf8A8kQ1z/ss3xH/APU11ul/Za%2BAvxD%2BGP7FfhP4F%2BJPGd14Z8UWvh1U1LVPDJtbh9JvJXM0sdsbuCaCVYnkaJWkhZWVAdgyAKH/AATp0m/0H9m6%2B0TVfE99rdzZ/Fv4hw3GsanHAlzfOvjPWgZpVt4ooQ7kbiI40TJO1VGAAD3SvmX/AIKPftE%2BP/CehaB%2ByZ%2Bzdd7viz8XLh9M8Pyxsc6Hp4H%2BmatIV5RYot21uu7LLu8sivoTx7428O/DXwPrPxF8X3wtdJ0DSrjUdTuW6RW8MbSSN%2BCqTXy3/wAE0Phx4q%2BMGpa7/wAFLvjpYgeLvipAqeENNkO4eHPCyNm0tYyf4pQFmdhw%2BUbALPnysyqVaso4Ki7SqXu19mC0k/V35Y%2Bbb%2ByeJm1WtXnDL6DanVTcpLeFNWUpL%2B878kPOTl9k95/Zd/Zs%2BHH7JXwQ0T4G/DDTxHYaRbD7TeOgE2oXTAGa7mI%2B9JI2WPoMKMKoA%2BYPil4k8Qf8FXPjXffs2fC7Wbm0%2BAPgnVFT4oeLtPmKf8JdqEZDjRrSResCnBlkU88YIHlmTuf%2BClXxn8d39j4c/YW/Z61Qw/Eb4xSyWRvosk6BoSg/b9SfbymI98adCSXKHcgB95%2BA3wQ%2BHn7N/wAItB%2BCfws0VLHRPD9gltaxqoDykcvNIQBukkcs7t/EzE965qlKGNq/UKS5aFNJTt1dtKa8rWc%2BrTUftSP2Th6lhvDzhuhncYJY2upLBxaVqFOHuSxfK73nzc1PC3VlONSv7zp0zoPDHhjw54K8O2PhHwhodrpml6Zapbafp9jAscNvCgCqiKoAVQAAAKvUUV7qSirLY/OalSpVqOc23JttttttvVtt3bbbbbbbbd2wooopkBRRRQAUUUUAFFFFABRRRQAUUUUAFFFFABRRRQAUUUUAFFFFABRRRQAUUUUAFFFFABRRRQAUUUUAFeM/sv8A/Jb/ANo7/ss1j/6hXhevZq8Z/Zf/AOS3/tHf9lmsf/UK8L0AezUUUUAFFFFABRRRQAUUUUAFFFFABRRRQAUUUUAFFFFABRRRQAUUUUAFFFFABXzL%2B2Vo3/CR/tBaZ4e2bvt/7MvxRt9vrvu/Cq4/WvpqvD/irpcet/t4fDvRZsbLz4H/ABAgfPo%2BqeEVP86zqw9pSlDumvvTX6nXl%2BJeDx9HEfyThL/wGcZf%2B2lD/glbrP8Ab3/BOz4QX2/d5fgu2t8/9cS0OP8Axyvf6%2BVf%2BCJuqS6p/wAEx/hl9oyJbWLVbWVT1UxareIB%2BQFfVVcOTT9plGHl3pw/9JR9V4k4ZYTxFzmivs4rEL/ytUf6hRRRXpHxQUUUUAFFFFABRRRQAUUUUAFFFFABRRRQAUUUUAFFFFABRRRQAUUUUAFFFFABRRRQAUUUUAFFFFABRRRQAUUUUAFeM%2BOP%2BUhfwv8A%2ByM%2BPP8A07eEK9mrxnxx/wApC/hf/wBkZ8ef%2BnbwhQB7NRRRQAUUUUAFFFFABXjP7B//ACRDXP8Ass3xH/8AU11uvZq8Z/YP/wCSIa5/2Wb4j/8Aqa63QB5l/wAFbfEet%2BMfhd4N/Yr8D6hJBr3xz8Z2ugPJAf3lto8Lrcajcgd1SJUVh/dlavozxBrnw8/Z5%2BDl3r%2BpGLSfC3grw40sgQfLa2NpBnao77Y0wB3wBXzL8Gf%2BMo/%2BCq3xA%2BNkv7/w18DNAj8FeGHPMb61dZm1KZPSSNP9Gb2Zal/4Kf6rqXx08SfDb/gnN4PvpY7n4qa8t942mtnIez8MWDCe6YkcoZXRUQ9GKMn8VfOLFOnDE5gldt%2Bzprvyvliv%2B3qjk35Rv0Onw5yGnxdxc3XnyUJSanP%2BTDYZSnWqL/wGq13l7NdUT/8ABNL4b%2BLvijf%2BI/8AgpB8ctMMPi74tIn/AAiumzHd/wAI/wCFkObK0Q9jKAs7kcPmNsBi1fWtV9J0rTdC0u20TRrGK1s7O3SC0toECpFEihVRQOgAAAHoKsV7GBwkcFhY0r3e7fWUnrKT9Xf0Vl0PZ4q4gq8TZ7VxzgoQdo06a%2BGlRguSlSj5QpqK/vSc5O7m2yiiius%2BdCiiigAooooAKKKKACiiigAooooAKKKKACiiigAooooAKKKKACiiigAooooAKKKKACiiigAooooAKKKKACvGf2X/APkt/wC0d/2Wax/9QrwvXs1eM/sv/wDJb/2jv%2ByzWP8A6hXhegD2aiiigAooooAKKKKACiiigAooooAKKKKACiiigAooooAKKKKACiiigDnfi58UvBvwP%2BFviL4x/EO/e10LwtotzqmrTxQtLItvBE0j7EXLSOQpCooLMxAAJIriPh3%2B2B4I8YeCfHPi3xt4E8UeA7z4bRNP408N%2BLba1e/0%2B3%2BxLfJcAWFxdQzRvA25TFK53JJGQskboNn9qv4K3X7Rn7N3jb4Hadr0elXnifw5dWOnanNCZY7S6ZCYJnQEF0WUIzICCygjIzmvK/Cn7Pn7Vutw/F3xf451Pwj4Q8X/ABZ0E6Vb3/g/xHd6jH4UW10w21hcQtcWNub2U3M91cPuWARr5MY80qzkA7v9mn9rrwv%2B0rqmseHLL4Z%2BKvCWraNo2k6xLpfipbBnn03U1uGsruOSwu7qErJ9luB5bSLKnl5eNQ6FqXjj/lIX8L/%2ByM%2BPP/Tt4QrjP%2BCf/wCxx4t/Zb8ReLdd1D4Y/Dn4eaRr2g6Dp9t4D%2BFmoXFzpjX1iLwXOtSvNZ2mLu7S4tonAiZtmnxGSaZiNmlf/DHw34O/4KbeC/Gek6l4hmvPEPwe8cSX8Oq%2BLtRvrSIpq3hLAtrW5nkgsgdxytukYbA3A7VwAcl/wRe/0D9jq98IdP8AhHviT4k07Z/d26hI%2BP8AyJX1pXyX/wAElP8AiXeHvj34Qbj%2BxP2mvFlrGnpHvt3U/Q7jX1pXk5FplFFdlb7pSX6H6B4q6%2BIuZ1P56in/AODKVCp/7kCiiivWPz8KKKKACiiigAooooAKKKKACiiigAooooAKKKKACiiigAooooAKKKKACiiigAooooAKKKKACiiigAooooAKKKKACvGfHH/KQv4X/wDZGfHn/p28IV7NXjPjj/lIX8L/APsjPjz/ANO3hCgD2aiiigAoorN8YeMvCHw88L3/AI48f%2BK9N0PRdLtmuNT1jWL6O2tbOFRlpJZZCEjQDqzEAUAaVFc5pvxh%2BEes/DIfGvR/in4cu/Bh0978eLbbXLeTTPsiAl7j7UrmLylCtl920bTk8Vz11%2B15%2BydY/C6D44Xv7T/w7h8FXV8bK28Xy%2BNbBdLmuRuBgW7MvlNINj/IG3fK3HBoA9Erwb9kXxNaeCv2XvGfjK/x5GkfFP4nXs2Txsi8Y665/Ra9x0rVdL13S7bW9E1K3vLK8t0ns7y0mWSKeJ1DJIjqSGVlIIIOCCCK%2BNvGPjX/AIV9/wAEmfj34mWby5B4n%2BLNrBJnBWW48Xa7boR7hpVxWGKrfV8LUq/yxk/uTf6HNjcQsLgqtd/YjKX3Rb/Q6n/gjV4Vfw5/wT58KeONfk3a142vNS8UeJdRmOGvLq6u5W89z6mFIRn0WsX/AIJ1Qy/tOfHv4p/8FHdaiaTT/EeoN4R%2BFzSjiPw7YSlXnjz0W4uVLkdmjfsad8ZfGEv7H3/BFeJ7IvDqmmfBzTNDsBGP3h1G7tILNWUDkuJZjJgf3T6V75%2ByP8GYf2ef2YfAXwTSFUl8N%2BFrOzvdnR7oRKZ3/wCBTGRv%2BBV4OCoc1XC4Z7UacZv/AByXLG/pepL1dz7vhOj/AKseElTErStjJU8JF9VSp04YjE2/x1JUKcn1SkvtM9Eooor6U%2BNCiiigAooooAKKKKACiiigAooooAKKKKACiiigAooooAKKKKACiiigAooooAKKKKACiiigAooooAKKKKACiiigArxn9l//AJLf%2B0d/2Wax/wDUK8L17NXjP7L/APyW/wDaO/7LNY/%2BoV4XoA9mooooAKKKKACiiigAooooAKKKKACiiigAooooAKKKKACiiigAooooAKKKKACvGfHH/KQv4X/9kZ8ef%2BnbwhXs1eA/FTxjp%2Bg/8FNPgp4ZvmCvrvwd%2BIkNmSeWli1HwjNt/wC/aSH/AIDSlJRV2TKUYK7/AKvocT/wTe/4lH7Qn7U/hDp5Hxsk1HZ/192kb5/HZX1pXyX%2Bxf8A8Sf/AIKSftc%2BFTwv9qeDtRiH977RpMhYj8VAr60rysl0wHL2nUX3VJ/5n6F4ne9xZ7X/AJ%2BYfBz/APA8Fhn/AO2hRRRXrH5%2BFFFFABRRRQAUUUUAFFFFABRRRQAUUUUAFFFFABRRRQAUUUUAFFFFABRRRQAUUUUAFFFFABRRRQAUUUUAFFFFABXjPjj/AJSF/C//ALIz48/9O3hCvZq8Z8cf8pC/hf8A9kZ8ef8Ap28IUAezUUUUAFeIft/eG/EWu/BPRtW0TwpqWv2nhv4l%2BFdf8QaHo%2BnSXl1eabY61aXNwYraJWkuXhWP7SIUVpJPs%2B1Fdyqn2%2BigD4S8R%2BFfGnjD9hn40%2BH9F%2BD3jWI%2BNfiTeeKvDWgv4Qv7bUdP0afXLYyajDbSQqTfK0F3q0enOPPkZ41lhzMyHzmH4bfFS1v4fiPeXnxy07RpPjvrmsWvxs0z4USTeNbuGbwlZWKXFz4f/smSOKOSdbiwEv8AZUaiHTrd/LRpzdt%2BmdFAHiH7HPgb4teDf%2BCfnw0%2BHFjoOleA/F2k/DjSrCHTtX0ie%2BttJmito4wk1sLuOVyFX5o/tO5WJBkbGT8kftLP4uf/AII%2B%2BIvhV4j1yyvPEHjX9ofxJ4dur/SdPe0guLqX4i6m8rQwSTTNEjeS%2BI2lkKqcF2xk/pNX5x/Ef/ir9L/Z%2B%2BDa/N/av7b/AI41qaL/AJ6Q6Z4u8QTOD6r%2B8Gfwrys81ymrD%2BZKP/gUox/9uZ4nEeuR14fzpQ/8DlCH5SZ69/wUUtbb4o/Hj9m/9jLS4h9j1z4hf8JNrtrGPl/svRIDOYpPRJGcKPUxgDmvr6vkX4Mf8X0/4K5/FX4pP%2B%2B0z4ReA9M8GaS55jN7eub66dP9tMeUx9CBX11U5X%2B9q4jE/wA03Ff4aa5F%2BPOz9d44/wCE7LsoyRaeww0as1/09xcniJX81S%2Brx9NNNgooor1z89CiiigAooooAKKKKACiiigAooooAKKKKACiiigAooooAKKKKACiiigAooooAKKKKACiiigAooooAKKKKACiiigArxn9l/8A5Lf%2B0d/2Wax/9QrwvXs1eM/sv/8AJb/2jv8Ass1j/wCoV4XoA9mooooAKKKKACiiigAooooAKKKKACiiigAooooAKKKKACiiigAooooAKK8//ar%2BNVz%2Bzn%2Bzf42%2BOOn6Cmq3nhjw5dX2n6ZLMYo7u6VD5ELuASiNKUVnAJVSTg4xXnngD9qT4k/D7RvjNpP7Ucnh/VdV%2BDejw69fax4H0WfT7XU9Ll017xdlrc3Vy8MyPb3cRBndXCRyfJvMaAH0HXwb/wAFLvH8nwq/4Kn/ALE3jkzMkEuoeMdEuTn5duonQrMbvYNKpyehANe4fsE/tR%2BKv2lvD%2Bo6p49%2BI/hW/wBWGlaXqo8M6B4D1fRJdHtr1JnjJl1Odjq1s5jdIdQgiggnNvMUXqqfKf8AwWm8afDz4oePLKH4TfErw9rXjT4PfDPxJ4jv9I0rWoLi70W4t/Efg1h9pijcvbkwi4IDhSdhx0NebnEpwyyrOG8Vzf8AgLjL8os8jPpVKeT1qkN4Ln/8AcZ/lFnvXwJ/4kn/AAWB%2BPGmfd/tz4deF9Rx/e8lZLfP64r60r40ufF2neDf%2BCsnw3%2BMcEgbw98efgpNpGkztwFvrKRdRTLdPmt5FUA9WPB7V9l1lk8lyVoLpUn90mpp/NSuj9X8QGsRPKsdDWFbA4Vp9G6UJ0Jr1jKkov5dwooor1z8/CiiigAooooAKKKKACiiigAooooAKKKKACiiigAooooAKKKKACiiigAooooAKKKKACiiigAooooAKKKKACiiigArxnxx/wApC/hf/wBkZ8ef%2BnbwhXs1eM%2BOP%2BUhfwv/AOyM%2BPP/AE7eEKAPZqKKKACiiigAooooAK/N/wCDtzB4s/4KAfB7w5cyDyPA3ir44%2BJ7pT0VbjxhrFkrt9Cpx6Gv0gr8qP2bvFX/ABk5%2B1R8WvM%2BX4W/Dv4j6aHzxE9x428Ral%2BBITr6V42d1FChST61Iv5R5qj/APSDz8ZhJ5ljcBl8N6%2BJoQXzqJ/nY%2Bo/%2BCM9jc%2BJf2UdU/aR1qMjVvjB8Q9d8Wahv5aPzLx7eOLP91VtwVA4AfivrSvBv%2BCXnhb/AIQ7/gnn8H9I8vZ5vgWyvsY/5%2BU%2B05/Hzc/jXvNb5NTdLKaEXvyRb9WuZv5uTfzP0bxJxkMd4g5rVh8CxFWMV2hTm6UIryjCjCK8ohRRRXpHxIUUUUAFFFFABRRRQAUUUUAFFFFABRRRQAUUUUAFFFFABRRRQAUUUUAFFFFABRRRQAUUUUAFFFFABRRRQAUUUUAFeM/sv/8AJb/2jv8Ass1j/wCoV4Xr2avGf2X/APkt/wC0d/2Wax/9QrwvQB7NRRRQAUUUUAFFFFABRRRQAUUUUAFFFFABRRRQAUUUUAFFFFABRRRQBzvxc%2BFng344fCzxF8G/iHYSXWheKdFudK1aCGZopGt54mjfY64aNwGJV1IKsAQQQK4L4Z/sdeGvAdt4kj8V/Fjxd45n8bCVPHN54wGmPJr8Js4rKKCYWllAkUUMEZCJbrCGaaZ5PNeQtXr9FAHk37Ov7Ivhf9nfXtQ8WRfE/wAXeMNWvPD2m%2BH7bUvGFzZvJYaPp7XDWljELS2t1KI11OxllWSeQuPMlfau3hP2ufhtD8ZP2lND%2BEk8asvif9m74maVhugNxfeE4gfbBYHPbFfSleM%2BOP8AlIX8L/8AsjPjz/07eEKipCNWm4S2aafo00/zIq04VqUqc9pJp%2BjTT/Bs%2BLtZ8T6947/4Iu/BD9rrw1bST%2BJvgNq2laoIV4meHS7ttNurd89FaFRI4PVY6/Snwz4i0fxh4c0/xb4dvVudP1Sxiu7G4TpLDKgdHHsVYH8a%2BOP%2BCfXw/wBB1rwj%2B09%2Bwx4vhzpml/FPXbSO0x/q9G1iASQKAf8AZaY5967b/gkN8QNe8R/saaf8KvG82fEvwp12/wDA3iGPP%2Brl0%2BYpEuDzgW7QD/gJr5nJZypVqSl/y8ppP/HRbg/vhZ/I%2BuyOpPPfBfCynrVy2t7OXf2WITX3RxOGkvL2vmfT9FFFfUnygUUUUAFFFFABRRRQAUUUUAFFFFABRRRQAUUUUAFFFFABRRRQAUUUUAFFFFABRRRQAUUUUAFFFFABRRRQAUUUUAFeM%2BOP%2BUhfwv8A%2ByM%2BPP8A07eEK9mrxnxx/wApC/hf/wBkZ8ef%2BnbwhQB7NRRRQAUUV8/f8FLjpg/Zrtf%2BE08v/hCv%2BFheF/8AhZH2j/j3/wCEe/tm0%2B2/as8fY/L/AOPnd%2B7%2Bzef5n7vfQB9A0V%2Bd%2Bo%2BKPhy//BMz40eCPhj4n0%2BHwVN44v3%2BHdvo9xG1nY%2BFJ9bgtzf%2BQmS%2BgR3P293EYEL2EUqRMIyhHklhZ6PB8ObHwgvj74Ir8Fz%2B0nqw13xleeG9nwtu1/4RK2nsjb6Ut8sKWC3nm27QNfPA2qxPP5rSsluAD9a6/H74XA%2BDv2Yf%2BCkXxiYlRq/xh8TeG1lP%2BxrN/CVH/gwH51%2Bj/wCy7498aeM/2IfBHjv4e/BTw9oOr3PguzfRvBMt7NpOk26rGqRRRyLayyW1qY1DRD7OzLGUBQHOPz48ReD/ABRp/wDwSp%2BM3h7xfolrpus/Fz9s7xNDqFlpt89zAlw/jR4ZI4Z3iheeMNYMqyNFGXVQSiZKjwOI4SeBc19mNR/N05RX4zPp/D/LoZl4ocPwqfBHF05y8lH3m/koyfyP05/Z58K/8IL8AfA3gny9n9j%2BD9MsdmPu%2BVaxx4/8drsKRESNBHGoVVGFAHAFLXuU4KnTjBbJJfckv0PBxmJnjcZVxM/iqSlJ%2BspSk/xkwoooqzmCiiigAooooAKKKKACiiigAooooAKKKKACiiigAooooAKKKKACiiigAooooAKKKKACiiigAooooAKKKKACiiigArxn9l//AJLf%2B0d/2Wax/wDUK8L17NXjP7L/APyW/wDaO/7LNY/%2BoV4XoA9mooooAKKKKACiiigAooooAKKKKACiiigAooooAKKKKACiiigAooooAKKKKACvGfHH/KQv4X/9kZ8ef%2BnbwhXs1eM%2BOP8AlIX8L/8AsjPjz/07eEKAPJdC1GH9nP8A4LEeJNO8SI1lpH7QPgKwuNCvmGIbrWtHVoZLbPaQWrb/AH3KOpxVfwhrMX7Gf/BUTxX4P8XQtZeDP2jYrTUvCOok4tofElpF5V1Zsf4JbhSsoJ%2B8xRVySQPTf%2BCjP7MviD9pL9nqWT4Y3Bs/iH4J1GHxN8OdTiwJINVtDvSME9pVDREH5csrHO2uTNj8OP8Agr7/AME9tO1Zpjoms6jbpc2d3DuW58K%2BJ7QlSy9HQxThh/Czwv23g18vVoVqOJlRpfHGTrUu0k9KkPvb9OaL6M9Xw5znL8hz/GZHmzawWPhJSkldwjOcZ%2B0ivtSw2IjCry7zpTqRVm0z6nor58/4J6ftU%2BJ/j98ONT%2BG/wAbLJdM%2BLHw2v8A%2Bw/iLo7YBe4QERX0YGAYbhF8xWA27t4X5QpP0HX0GFxNLGYeNans/vXRpro00010aZWfZJj%2BG84rZbjElUpu107xkmlKM4S2lCcHGcJLSUZRfdIoooroPICiiigAooooAKKKKACiiigAooooAKKKKACiiigAooooAKKKKACiiigAooooAKKKKACiiigAooooAKKKKACvGfHH/KQv4X/9kZ8ef%2BnbwhXs1eM%2BOP8AlIX8L/8AsjPjz/07eEKAPZqKKKACiiigAooooAK/OX4wZ8Q/C74G/DJOf7Z/bz8UXNzH/wA9La08Z%2BIpZR9OV/Kv0ar85fDufFH7WX7NXgBRuig%2BPHxy1u8X%2B59m8Rax5Lfi7EV5Od65e4fzShH76kP8j9A8MP3fGEMT/wA%2BaOKq/wDgvCYlr8ZL52P0aooor1j8/CiiigAooooAKKKKACiiigAooooAKKKKACiiigAooooAKKKKACiiigAooooAKKKKACiiigAooooAKKKKACiiigAooooAK8Z/Zf8A%2BS3/ALR3/ZZrH/1CvC9ezV4z%2By//AMlv/aO/7LNY/wDqFeF6APZqKKKACiiigAooooAKKKKACiiigAooooAKKKKACiiigAooooAKKKKAPMP20/i94q%2BAf7JnxD%2BMfgaO1Ot%2BH/Cl5daO99EXt4boRkRSyqCC0SOVd1yMqrDIzkeffCn49eI/gHdfHLw1%2B0x8bNQ8W6B8HtMsvEU3jnWdJsre9XTJtMe6uIZ49Ot4IHeF7ad1McKsY5olYOyl3998aeDfCvxF8Hat8PvHWgWuq6Jrumz6frGl3sQeG8tZo2jlhkU8MjozKR3BNch8HP2W/g38Bd7/AA00/XoJri9lvL%2B71Xxpqup3GozvBDb%2BZdzXtzLJdlIbeCKLzmfyUjCx7BkEA8H/AOCXH7aut/tb%2BKPjHa%2BK/wBoHwZ4vuNG8W6ddaHofg/WdNvYvDml3uj2Vylj51kW%2B1eTO9xC9y7OJJ4ZwhVFWNOzv/id4b8Y/wDBTbwX4M0nTfEMN54e%2BD3jiO/m1XwjqNjaSl9W8JYNtdXMEcF6BtOWt3kC5G4jcufafC3wx8D%2BCvFfibxv4Z0P7NqnjHUoL/xJdfaZX%2B2XENpDZxvtdiseILeFMIFB2biCxJPm/jj/AJSF/C//ALIz48/9O3hCgD2aviL4gXnif/glh%2B0v4o%2BPaeGJ9R/Z/wDirrUN940OlxNJL4J11wI5NQMKglrW4O0yFckNgDBWNJft2quuaHo3ibRrvw54j0m2v9Pv7Z7e%2BsbyBZYbiJ1KvG6MCGVgSCCMEGuHHYN4qEZQly1IO8Zb2drNNdYtaSXVbWaTPOzLASxsIypy5KsHzQla9nazTXWMlpJaXWqaaTPmv9p39kRvjnq%2Bj/tr/sT/ABNsfDXxWs9Ljk0XxNZzCXSvFenlQyWV%2BqZWeB12hZRkr8p52pt2v2Qf2/PB/wC0DqV18F/izof/AAr74w6Axg8TfDvWZwkzSKuTcWTE4urdh86shJCkE5Uq7eVD4KftZf8ABMvV9R1j9kfwnJ8UvgldXr3tz8KZLxhrfhgud0p0qR8i4hyS32dssTgKCzPKend/%2BCdX/BXzwTEy3UUninRSfKKyf2X4s8LXCNk4H%2BtjKP8A78JZf4sV4lOrVp4puklTrvWVOTtCo/5oS2v/AHkrtWVSF1zH3WQ8eZNnmApcPcYQnCdJctGtFKVWilf3Y8zisVhbvmVJzjVo3bpOF5U5fWVFfG9pf/8ABUD9iOM6XqHh%2B3/aT%2BH1mcW2o2l0LHxfZQDtKj5jvyowAVzLIckleg9C%2BCP/AAVJ/Yw%2BNmp/8Ii/xQXwZ4qik8q88G/EO3OjalbTf88ik5CO/wDsxu9erSzfCymqde9Kb%2BzPS/8Ahl8Mv%2B3ZfJHpY/w8z%2BlhpY3K%2BXH4WOrq4Zupyr/p7SS9vRfdVaSSd17SW7%2BhqKSOSOaNZYpFZGUFWU5BB6EGlr1D4TYKKKKACiiigAooooAKKKKACiiigAooooAKKKKACiiigAooooAKKKKACiiigAooooAKKKKACiiigArxnxx/ykL%2BF/8A2Rnx5/6dvCFezV4z44/5SF/C/wD7Iz48/wDTt4QoA9mooooAKKKKACiiigAr83/2Vb%2B01n/gplo1hfThYPB2kfFnWXYgkI118SNZsxjH8RwAAOTxX6QV%2BaP/AATb/wCKs/4KE/H3xB97/hEvEur6Hu/ufaviJrF7t/HGa8nNfeeHp96sP/JVOX6I/QOAf3NPOMX/AM%2B8BiF86ssPRX/pyS%2BZ%2BjP/AAmGk/8APpqn/gju/wD41S/8JhpP/Ppqv/gju/8A41Xzt4%2B/4LI/8E3vhf471r4aeOf2jfsOt%2BHdWudM1iy/4RDWJfs91bytFLHvjtGR9row3KSpxkEjmsn/AIfl/wDBLT/o6H/yydb/APkKqlnmSwk4yxNNNf34/wCZnR8LfEzEUY1aWSYuUZJNNYeq000mmmoWaaaafVNPqfT/APwmGk/8%2Bmq/%2BCO7/wDjVH/CYaT/AM%2Bmq/8Agju//jVfO3gH/gsj/wAE3vih470X4aeBv2jft2t%2BItWttM0ey/4RDWIvtF1cSrFFHvktFRNzuo3MQozkkDmu%2B/b%2B%2BMHxM/Z9/Ym%2BKfxx%2BDdpps3ifwl4H1DVdHXV5mS3WWCFpN77Y5N21QzBNuHZQhZAxdevC43B42Llh6kZpb8rTt62Pn884Z4k4YrQpZxgquGlNNxVWnOm5JOzaU0m0no2uuh6X/wmGk/8%2Bmq/%2BCO7/wDjVH/CYaT/AM%2Bmq/8Agju//jVfPep/tufG3wr8Q/HPgv4hfArwJoWn/DL4eWnibxz4nu/ipdGxt3u4tUa3trbGjiWdQ%2BnxiWV0iKJcFo45nQRScz8Nv%2BClWr/FXVPDOh6t8J9X8L63F8aJfB3iHSFlvLaGRD4P1DX4Z9usaPaXrwukMSbfs9pIJUDLLJCpW46Twz6q/wCEw0n/AJ9NV/8ABHd//GqP%2BEw0n/n01X/wR3f/AMar55/ZK/b5%2BJP7Q%2Bn6JceOf2YP%2BEfu/Fnwm0X4g%2BE9L8PeNYdVnutOvmCPBObiCyit7iEvExUPIjo%2BQ4ZTHXU/tV%2BLPirqXxa%2BF/7PHwt%2BK%2BoeBG8bXWsXWreK9G02xur2K3sLISLbQLf29xbq0k00LMzxOfKglVdrMJEAPXf%2BEw0n/n01X/wR3f8A8ao/4TDSf%2BfTVf8AwR3f/wAar5yg/aE/aR%2BJ/wDwTI8IfH/4fWlz/wAJzrukeHZvEN34V0Nb24t7SW/tItY1DTrKRZBPKlmby5t4Csu5ljXZOcRvwPhX9pf4g%2BNf2ZfiF438Z/tVfEvwVD8LPiNf%2BHtO8RH4f6RD4i8YeZaWNxpsMum3mmMguZJL9LZLaC2t5pnWNSsTsyUAfZf/AAmGk/8APpqv/gju/wD41R/wmGk/8%2Bmq/wDgju//AI1Xw5%2B0D%2B1X%2B3b8CLDQ/iL8XbTxTo13pXgTwVezeF/BXgeHUfD%2Bv61c3Zi8RWd/qLW0zWAhUxrbgXFrkurIbtiYV9M%2BIvi745eBv24JPD3hf9rTX7jwtoHwy13xv468PeK9K0MaLpMcrm20a386102K%2BSEyRalOXa4dymllWL72oA%2Blv%2BEw0n/n01T/AMEd3/8AGqv2F/aanaJfWM4kikGVYAjvgjB5BByCDyCK%2BQ/%2BCZX7QH7TnxN8Y614P/aX1vxWLiX4a%2BF/Emmad470rRbe9knvGv1vLqyOjRrF/ZbNDbrDFdf6fGyyfaEjDxbvq3wf/wAgmb/sKX3/AKVy0AatFFFABRRRQAUUUUAFFFFABRRRQAUUUUAFFFFABRRRQAUUUUAFFFFABRRRQAV4z%2By//wAlv/aO/wCyzWP/AKhXhevZq8Z/Zf8A%2BS3/ALR3/ZZrH/1CvC9AHs1FFFABRRRQAUUUUAFFFFABRRRQAUUUUAFFFFABRRRQAUUUUAFFFFABRRRQAV4z44/5SF/C/wD7Iz48/wDTt4Qr2avGfHH/ACkL%2BF//AGRnx5/6dvCFAHs1FFFABXh37Sf/AATq/ZR/ak1geNPHnw%2BbS/FsJDWfjjwpdtpusW8ijCyC4hx5jKOB5ocDsK9xorDEYbD4un7OtBSj2av/AE/NWfmc%2BKwmFx1L2WIgpx7NX%2Bfk/NNNdGfIEPwT/wCCrv7NC%2BR8E/2jfCvxo8OW5/caH8VrKSz1lIv%2BeaahbnE8n/TSfA5PHSuK%2BM37Vvw38b6T/wAI1/wUz/4JP%2BNtLECGOXXrfwzB4m0y0Hdk1G1xJDnkjyxnrzX3pRXmVMokoOFGtJR/lmlVj909V/4EzlwWGzbJcTHE5Pj6uHnH4WpOVvRuUakflV%2B8/Mn4ZaJ/wTjvdtx%2BwR/wVp8T/B6Vm/0TwxqfixjpUT5%2B7/Z2sBGcg8Y3nvXuPh/UP%2BCwHgnTU1XwX8Rvgb8c9DH3L1km0bUboeqtblrRc/U9q%2Bivib%2By7%2BzZ8aDJJ8W/gF4O8SSyfeuNa8N21xKD6iR0LKfcEGvENd/4Iuf8E%2Bb3UX13wb8KtV8Hak//ADEfB3i7ULF19NqCYxr%2BCV5v9j5hh/4Civ8Ar3UqU/8AySSq0/kkkfcf8RO8Raumb0MHma74iivaP/uKowq383Wk%2Bt2ykP8Agon%2B1H8PRs/aE/4JafFXT/L4nufh9d2nieLH98eQ0ZC9/UCrOmf8Fpf2CY71NI%2BI3jfxJ4F1Bzj%2Bz/GngnUbSRT3DMsLouPdsVX/AOHXvxE8Jc/Bz/gpb8ftFVf9Ta674oi1m2i9Asc0S4X2zVfU/wBkj/gqRplk%2Bm6V/wAFJPDfi2yYYGneNvg3YKhH913gcs/1IzT9pxJQ%2BzKXrGlP8YTpP/yUP9c%2BEcT/AMjDherSfV4TG6fKGIjVXy5vK6PYfBX7fn7EPxDCL4R/a0%2BHt1LJ9y2fxZawzn/tlI6v%2BleoaH4j8PeJrQah4b16y1CA9J7G6SVD/wACQkV%2Bf3jT9gf9urWy7%2BLf2Xv2KvGytnfdXHgy/wBO1CT/ALaRRgDP1rzDW/8Agmr8XbK7Opy/8EgPAk96ucXvw/8Aj9faQw/3Fnl2L%2BK0f2znNL%2BJhr/9u1F%2BSqIX9qeE2I%2BJ5phn/fwlDEJfOjXpya8%2BW/kfq7RX5K/8M4/tc%2BDPm0j9lT9rPwVs6ReBv2nbDUYl9tpgO8e2eaX/AITX/goN4IH/ABK9b/basNnT7X8N9K8T4/OWPf8A1o/1nnD%2BJhpr0v8ArTiHs/DKt/C4h5PKvl%2BPp/e4Qrr7kfrTRX5LD9uX/go/4Q/4/vjR8ZpAv8PjX9kOCzx7MbO5c/jS/wDD4P8Abp8K/wDIR8e/DOZV%2B9/wlnwg8VWTY9/sqOAaP9cMtj/EhOPyX/ySD%2ByuEan8HiXL3/jqYij/AOnsFG3zP1oor8mof%2BDgb41aNILfxDJ8EdQlHWOxh8UWRP43NkQPxNbOn/8ABxf4xhIF3%2BzR4J1Ud20/4uR2X44urQVUeMuH3vUa/wC3X%2BjZUeG8JW/3fOctqemY4Rf%2BnJUvxsfqZRX5r6Z/wcT%2BH2UNr37LVrb/AN77F8X9GuMfTOzNa0H/AAcbfs3Wg3eIvgZ4qhx97%2Bztf0a7/LF4ua3XFnDz/wCYhL1Ul%2BhpHgzNqrtRrYWp/gx2Al%2BWMifolRXwFo3/AAcbfsP6udrfDH4qwHOCx8O2Ui/gY71s10%2Bm/wDBfL9g6%2BANzbfECzB73PgyU4/79s1bQ4l4fn8OJh97/wDkTSXAfFkdsOn/AIa2Fl/6RjJn2tRXyDa/8F0f%2BCcEgzqPxW1ywHc3fgjU%2BP8AviBq07D/AILcf8EvtRwIf2pLdD3Fx4V1eLH/AH3aCtln2SS2xNP/AMDX6tCXAPG8leGW1pf4Yc3/AKRKZ9V0V83WP/BXz/gmzqOPs/7Wnh1c/wDPeC6i/wDQ4RWxY/8ABUL/AIJ56hjyP2wfAq5/5762kX/oeK2jm2VS2xEP/A4//JEy4C45irvKsT/4IrP8qbPeaK8dsv8AgoZ%2BwZf48j9s74XLn/nt46sI/wD0OUVq2f7av7G%2Bo4/s/wDa0%2BGU%2Benk%2BPNObP5TVqsfgZbVof8Agcf/AJI4qnCfFdH%2BJl2IXrQrr/3Cem0Vw9p%2B05%2BzZqGPsH7QngefPTyfFlm38pK07T4zfB%2B//wCPH4reGp89PJ123b%2BT1qsRh5bTT%2Ba/zOGplGb0f4mGqR9adRfnTR0tFZtp4y8IX%2BPsPivTZs9PKvo2/ka0Ip4Z13wTK6%2BqMCK1UovZnFOlVpv34teqa/NIdRRRTMwooooAK8Z8cf8AKQv4X/8AZGfHn/p28IV7NXjPjj/lIX8L/wDsjPjz/wBO3hCgD2aiiigArxD9v7xJ4i0L4J6NpGieK9S0C08SfEvwr4f1/XNH1CSzurPTr7WrS2uBFcxMr2zzLJ9mEyMrx/aNyMjhWHt9ZvjHwZ4P%2BInha/8AA/xA8KabruiapbNb6no%2BsWMd1a3kLDDRyxSApIhHVWBBoA%2BM/EfxM%2BI3hX/gnz8ZtG8NfF3XzL4Y%2BKt94O8BeKtQ164nvriGTWbW0htJdSkkM6BLi5l05r9naa3SIzMzyQlj5L8Q/wBob9oP4U/su/F34AapqPxP0zWLP4ha3p2r%2BIvBVx4k8cnwNpsHhvTNTSztddjtnv5HuWvIdt3dpbNam8vQjKLGAyfoPpv7O37P2jeEW8AaR8C/B1poL6EdEfRLbwxaR2jaYXdzYmFYwhty0kjeTjZl2OMk1b8F/BT4NfDj4fyfCb4efCXwzoPhWWOZJfDOi6Db2unus2fOU28SLGQ%2B5tw2/Nk5zmgDkf2f/iprHiD9jfwT8WtK8J%2BKfFWoXXgXTbv%2BynthZ6tqUxto9%2BV1WS2CyM25t07xhvvbjkE/F/8AwRftL/XPih%2B1p8VdV8L3ujXOtftJXNrPpWpvA9zZPBr99I1vK1vLLCXQ3O1jHI6ZB2uwwT%2Bjul6Xpmh6ZbaLounQWdnZwJBaWlrCscUESKFVEVQAqgAAADAAAFfFv/BKHwu2jeAf2hNfmT59a/bR8cTo5HWOPxIIQPoGjf8AM1wYun7TFYd/yyk//JJL9T6zIMasHkGcRvrVo0qf34qlN/8AptH2zRXzF4//AOCmv/CBeO9b8C/8O%2Bf2nta/sXV7mw/tjQPhP9psL/yZWj8%2B2l%2B0jzYX270fA3KynAzWR/w9h/6xqftaf%2BGb/wDuqspZ1lkZOLqar%2B7P/wCVn51LiHJoScZVdVp8NTpp/wA%2Bj60rF%2BI/w88GfFz4fa58KviNoMWq%2BH/EukXOl65pk7MqXVpcRNFNEShDAMjMMqQRnIIPNfPngH/gpr/wnvjvRfAv/Dvn9p7Rf7a1e2sP7Y1/4T/ZrCw86VY/PuZftJ8qFN293wdqqxwcV7N%2B0n4w%2BJ3w8%2BAXi/4g/Bnw5aaz4n0HQLnUtH0W9hd01KSBDKbUBHQh5VRo0bdhXdWIYAqevDYzDYyLlRldLfSS/wDSox/U7cHj8HmEXLDy5ktHpJef2ox/C5jQfsa/s8L4V8U%2BDtT8Ialq9n418N2%2Bg%2BKpfEXivU9TutSsIPtPkxyXN3cyT70%2B1z4lDiUbl%2Bf5E253gf8AYK/Za%2BHupLrnh/wFqU2pDxcPFEura14x1bUry41caRNowu5ri8upZZ2Gnzy2%2BJGZdpU43IjL4b4j/wCCj/xN%2BJHha58Y/suNoeq2HiPx3NpHwoli8JLqjeINOsNIW61W9ka51vSraGOK78%2BAO1wu0WbgJK0g8vifBv7dXxG%2BLniPRPjxZfabXTvHnwy/Z31WPwo2v3v2HSp/EXi7Xba/kg%2BzTxbnMXkozHKTrawrMksS%2BUek7D7D8MfsnfAjwTY6JYeDvCd7pS%2BHPA1p4O0SbTvEeoQzWmi2rxvBarKk4c7TFHmQsZGAIZ2DMDo/G/8AZ6%2BFP7ROiafofxS0fUZhpGom%2B0i/0TxFfaRfWNwYZYGeG8sJobiLdDNNE4SQB0kZWBUkV8m/BP8Aap/ag%2BN37Unwg8Yan4q8I/2J47%2BFvj/W/Dnw90q6vdPa1ks7/RoLaDVpTNcJdSx%2BaUa4S2iNtI9wixSZyfbv239W8ST6Z8KPhvL4q1Xw7pHjv4r2Gh%2BM9S8N67cafdQ2Z0%2B/ukghvbdop7fz721s7XzI2jkZbgqpUuKAPQpP2d/hYngMfDDRrHWNF0CLw5YaFZaZ4Z8V6jpUen2NmSbdLT7HcRGzdQdplgKSuiIjOyxoq8X4l/4J6/sq%2BK/CnhPwdqPhLxJb23gnXrvXPDt3pHxH16wvotUullW4v5ry2vY7m7uZBPMGnnkkkPnSfN87Z4H4Raj%2B0L8U/wDgm3430P4T/Em7n8aWepeO/DngHxZrGqlri4t9P17VNP0y4kvJQ5aU2ttAPtbhy7YnbfuOfMfhv8RtFsPCvxs8KftGv8Y/CfgLwF4z0IeGdEm%2BMGo33iqbVLvS4t2hrqOmalNc3MstxNbzRWaXsrE3sIJVWEMYB9XeIP2S/gp4u8QeGPEfi608TatJ4Qt7CLR7LVfH%2Bs3Ni72Unm2txdWkl21vf3UcuJRdXUcs/mIjmQsisOgtfgp8LrTxX4s8bf8ACIQTal45s7Wz8VzXksk66hbW8UkUMDRyMyJEqSy/u0VVJmkYgs7E/CH7T2ift4fBb9kjTfil8R9c8dajeeDfgfrN4knhn4opp0vhvxMkhuLK61l/tMH9uQw24htnG28E0sEpNrN9pDDf8d/tbfFvXP8Ago98EvDvjGy%2BKvg7SrfxvL4ak8L2fgPxBHo3iKS58KaldXN9cXcdqbO8hjvRZxQoZW%2BzCxu7l9sbF4gD6x%2BA/wCyX8CP2arm9vvhH4Y1K3ub/TrTTpbvWvFOpavPFY2vmfZrKGTULiZ7e1iM0pS3iKRIZGIQEmu08H/8gmb/ALCt9/6Vy1qVl%2BD/APkEzf8AYVvv/SuWgDUooooAKKKKACiiigAooooAKKKKACiiigAooooAKKKKACiiigAooooAKKKKACvGf2X/APkt/wC0d/2Wax/9QrwvXs1eM/sv/wDJb/2jv%2ByzWP8A6hXhegD2aiiigAooooAKKKKACiiigAooooAKKKKACiiigAooooAKKKKACiiigAooooAK8Z8cf8pC/hf/ANkZ8ef%2BnbwhXs1fOH7R%2Br/GvR/28PhPP8Dvh/4W8Rak3wj8drd2nivxhc6LBHB/anhIl0lt9PvWd920bDGowSd%2BQFIB9H0V4z/wnH/BQv8A6Nf%2BDP8A4fjVv/mXo/4Tj/goX/0a/wDBn/w/Grf/ADL0AezUV4z/AMJx/wAFC/8Ao1/4M/8Ah%2BNW/wDmXo/4Tj/goX/0a/8ABn/w/Grf/MvQB7NRXzjpP7R37dusfGfX/gdb/sofCRdU8O%2BF9I128uX%2BOuqeRJBqNzqVvCiEeGNxdW0ucsCoADx4LEsF6j/hOP8AgoX/ANGv/Bn/AMPxq3/zL0AezUV4z/wnH/BQv/o1/wCDP/h%2BNW/%2BZej/AITj/goX/wBGv/Bn/wAPxq3/AMy9AHs1FeM/8Jx/wUL/AOjX/gz/AOH41b/5l65fwD%2B0d%2B3b8RPFfjfwho/7KHwkhuPAfiiLQtVkufjrqgSeeTStP1MPFt8MElPJ1GFSWCnejjGAGYA%2BjqK8Z/4Tj/goX/0a/wDBn/w/Grf/ADL0f8Jx/wAFC/8Ao1/4M/8Ah%2BNW/wDmXoA9morxn/hOP%2BChf/Rr/wAGf/D8at/8y9H/AAnH/BQv/o1/4M/%2BH41b/wCZegD2aivnH4RftHft2/GXwpd%2BL/Dn7KHwktrez8Ua3oUkd78ddUVzPpeq3WmTuNvhhhsaa0kZDnJRlJCnKjqP%2BE4/4KF/9Gv/AAZ/8Pxq3/zL0Aex3FtbXcZhurdJUPVJEDA/gaxtQ%2BGPw21bP9qfD3Q7nPX7RpML5/Na81/4Tj/goX/0a/8ABn/w/Grf/MvR/wAJx/wUL/6Nf%2BDP/h%2BNW/8AmXqZQhL4lcmUIT%2BJJ%2BqT/Q7C%2B/Zo/Zx1PP8AaX7P/gm4z18/wpZvn846x739if8AYz1LP9o/skfDG4z18/wFpz5/OGsf/hOP%2BChf/Rr/AMGf/D8at/8AMvXL/BH9o79u348fBjwh8cfCv7KHwktdL8Z%2BF9P13TbbUPjrqizwwXdtHcRpIE8MMocLIAwVmGQcEjmsZYTCS3pxf/bsf/kTnlgcDP4qUH6xi/8A206u7/4J4fsFXufO/Yw%2BFy5/54%2BBbCP/ANBiFZd3/wAEwv8Agnre/wCu/Y78BLn/AJ5aBFH/AOggVo/8Jx/wUL/6Nf8Agz/4fjVv/mXo/wCE4/4KF/8ARr/wZ/8AD8at/wDMvWTy3Lpb0Yf%2BAR/%2BRMZZRlMt8PT/APAIf/IHO3X/AASY/wCCcV3/AK39kXwmP%2BuUEqf%2BguKz7n/gjn/wTQus%2Bb%2BydoYz/wA89QvU/wDQZxXZf8Jx/wAFC/8Ao1/4M/8Ah%2BNW/wDmXrl/jd%2B0d%2B3b8B/gx4v%2BOPir9lD4SXWl%2BDPC%2Boa7qVtp/wAddUaeaC0tpLiRIw/hhVLlYyFDMoyRkgc1m8oymW%2BHh/4BH/IxeQ5HLfC0/wDwXD/5Exrj/gif/wAEwLr/AFn7K1kP%2BufiXVU/9BuhVGb/AIIZf8Et5uV/ZjMZ9Y/GmtD/ANvMV6f/AMJx/wAFC/8Ao1/4M/8Ah%2BNW/wDmXo/4Tj/goX/0a/8ABn/w/Grf/MvUPI8le%2BGp/wDgEf8AIzfDnDzf%2B50v/Bcf8jyW4/4IP/8ABMOf7vwDvo/9zxnqp/8AQrk1Sn/4IF/8EzZf9X8IdZi/3PF9/wD1lNez/wDCcf8ABQv/AKNf%2BDP/AIfjVv8A5l6P%2BE4/4KF/9Gv/AAZ/8Pxq3/zL1D4fyJ/8wtP/AMBRtDI8np/BQivRNflJHh03/Bv1/wAE2ZfufD/xHH/ueLLn%2BpNVZv8Ag3r/AOCckv3PDfi6P/c8VSf1U16n8Xf2jv27fg14UtPF/iP9lD4SXNveeKNE0KOOy%2BOuqM4n1TVbXTIHO7wwo2LNdxs5zkIrEBjhT1H/AAnH/BQv/o1/4M/%2BH41b/wCZeofDmQP/AJhYf%2BAo3jl%2BEh8MWvSdRflVR89y/wDBu7/wTuk%2B5aeN0/3fE4/rEarv/wAG6f8AwT7J3Qaj8QYT2MfiaLP625r6M/4Tj/goX/0a/wDBn/w/Grf/ADL0f8Jx/wAFC/8Ao1/4M/8Ah%2BNW/wDmXqXwzw8/%2BYWH3f8ABNo0FH4Z1F6Va6/Kuj50X/g3h/YkgObL4k/Fe39PI8WW4/8AbSp4v%2BDf79lO2/48f2gvjbb%2Bnk%2BNbYY/8k6%2BhP8AhOP%2BChf/AEa/8Gf/AA/Grf8AzL1y/j79o79u34d%2BK/BHhDWP2UPhJNcePPFEuhaVJbfHXVCkE8elahqZeXd4YBCeTp0ygqGO90GMEsouGsgW2Gj%2BP/yQOgpb1Kn/AIOr/wDzQeXQf8EI/gJaf8eP7XH7QcHp5PxBt1x/5JVft/8Agih8NrIf6B%2B3T%2B0vB6eV8TYV/lZ17V/wnH/BQv8A6Nf%2BDP8A4fjVv/mXo/4Tj/goX/0a/wDBn/w/Grf/ADL1a4eyRbUF98v/AJMwnluFqfE5v/uLX/8Amg8fi/4I7aTa/wDHj/wUU/aihx02/FRR/K2FHwJ/ZIuP2WP%2BChPg1Zv2mfip8RV1z4M%2BMto%2BJniw6p/Z3k6t4Wz9m%2BRfK8zzfn67vKj/ALtewf8ACcf8FC/%2BjX/gz/4fjVv/AJl6oeB/A/7VnjH9qzw58bvjd8OPh74Z0bwz8PfEOhww%2BFfiHfa1dXd1qV9olwjMlxpFikUaJpcoLB3YtKgC4yR0YfKcuwtVVKVO0l5z/Jza/AmjleBw9ZVYRfMu86j/AAlUkvwZ7rRRRXonoBRRRQAUUUUAFfOX7EPhnTvC/wCzx4svLHzCL39obx/qd87DOD/wnmqb24HRUjH4LX0bXyV%2ByV4s/bO0/wCHviiz%2BGPwD%2BGGr6Enxp%2BIv9n6jr3xd1HTbuZf%2BEz1ksZLaLQLlIiG3AATPkAHIJ2hNJtPsXGpOMJQT0la/nZ3X3PU%2BoP%2BE58E/wDQ4aX/AODCP/4ql/4TnwT/ANDhpX/gwj/%2BKry3/hOP%2BChf/Rr/AMGf/D8at/8AMvR/wnH/AAUL/wCjX/gz/wCH41b/AOZemQepf8Jz4J/6HDSv/BhH/wDFUf8ACc%2BCf%2Bhw0r/wYR//ABVeW/8ACcf8FC/%2BjX/gz/4fjVv/AJl6P%2BE4/wCChf8A0a/8Gf8Aw/Grf/MvQBqX3wM/Yo1T4caT8HdT%2BDvwtuPCOgXv2zQvCs/h7TX03TbndI3nQWxTyoZN0sp3ooOZHOfmOdDT/hx%2ByjpNra2WleA/h7bQ2VppNpZQ2%2Bl2KLbwaXPJcaZEgCgIlpPLLLbqMCCSR3jCsxJ8z%2BCP7R37dvx4%2BDHhD44%2BFf2UPhJa6X4z8L6frum22ofHXVFnhgu7aO4jSQJ4YZQ4WQBgrMMg4JHNdR/wnH/BQv8A6Nf%2BDP8A4fjVv/mXoA1bH4H/ALFWl%2BKdb8c6Z8IPhdb634lguofEesQeH9NS61WO6x9pS5lCb51l2r5gckPgbs4roPG%2BlfAD4meCLn4ZfEjTfB3iDw3eQpFd%2BHtchtLuxnjRlZEeCUNGyqyqQCuAVBHQVxX/AAnH/BQv/o1/4M/%2BH41b/wCZej/hOP8AgoX/ANGv/Bn/AMPxq3/zL0AdUPBP7MI8PW/hEeEfAY0m08Nz%2BHrXS/sFl9nh0icRrNpyR7dq2sghiDwAeWwiQFTtGOf1H9nH9g7V/hhY/BHVvgP8I7rwXpmp/wBo6b4RuPC%2BlvpdpeYcfaYrVozFHLiWQeYqhv3j8/Mc8b8bv2jv27fgP8GPF/xx8VfsofCS60vwZ4X1DXdSttP%2BOuqNPNBaW0lxIkYfwwqlysZChmUZIyQOa6j/AITj/goX/wBGv/Bn/wAPxq3/AMy9AGg3wD/YfeDwtav8FvhSY/A0jyeCYz4c0zb4fd5FlZrEeX/ohMiq5MW3LKG6gGuy1a/%2BEWvappet67eeG7290O7e60W8u5LeSXT53gkt3lgdsmJ2hmmiLKQSkrqThiD57/wnH/BQv/o1/wCDP/h%2BNW/%2BZej/AITj/goX/wBGv/Bn/wAPxq3/AMy9AHqP/Cc%2BCf8AocNL/wDBhH/8VR4MO/QzOoOya%2Bu5YiRjcj3MjK30KkEexry7/hOP%2BChf/Rr/AMGf/D8at/8AMvXL/F39o79u34NeFLTxf4j/AGUPhJc2954o0TQo47L466ozifVNVtdMgc7vDCjYs13GznOQisQGOFIB9HUV4z/wnH/BQv8A6Nf%2BDP8A4fjVv/mXo/4Tj/goX/0a/wDBn/w/Grf/ADL0AezUV4z/AMJx/wAFC/8Ao1/4M/8Ah%2BNW/wDmXo/4Tj/goX/0a/8ABn/w/Grf/MvQB7NRXzj4%2B/aO/bt%2BHfivwR4Q1j9lD4STXHjzxRLoWlSW3x11QpBPHpWoamXl3eGAQnk6dMoKhjvdBjBLL1H/AAnH/BQv/o1/4M/%2BH41b/wCZegD2aivGf%2BE4/wCChf8A0a/8Gf8Aw/Grf/MvR/wnH/BQv/o1/wCDP/h%2BNW/%2BZegD2aivGf8AhOP%2BChf/AEa/8Gf/AA/Grf8AzL1y%2BrftHft26P8AGfQPgdcfsofCRtU8ReF9X12zuU%2BOuqeRHBp1zptvMjk%2BGNwdm1SAqApBCSZKkKGAPo6ivGf%2BE4/4KF/9Gv8AwZ/8Pxq3/wAy9H/Ccf8ABQv/AKNf%2BDP/AIfjVv8A5l6APZqK8Z/4Tj/goX/0a/8ABn/w/Grf/MvR/wAJx/wUL/6Nf%2BDP/h%2BNW/8AmXoA9mor5x0n9o79u3WPjPr/AMDrf9lD4SLqnh3wvpGu3ly/x11TyJINRudSt4UQjwxuLq2lzlgVAAePBYlgvUf8Jx/wUL/6Nf8Agz/4fjVv/mXoA9morxn/AITj/goX/wBGv/Bn/wAPxq3/AMy9H/Ccf8FC/wDo1/4M/wDh%2BNW/%2BZegD2aivGf%2BE4/4KF/9Gv8AwZ/8Pxq3/wAy9cv4B/aO/bt%2BInivxv4Q0f8AZQ%2BEkNx4D8URaFqslz8ddUCTzyaVp%2Bph4tvhgkp5OowqSwU70cYwAzAH0dRXjP8AwnH/AAUL/wCjX/gz/wCH41b/AOZej/hOP%2BChf/Rr/wAGf/D8at/8y9AHs1eM/sv/APJb/wBo7/ss1j/6hXhej/hOP%2BChf/Rr/wAGf/D8at/8y9W/2Vvhz8afB%2BsfFDx38dNA8L6Tqnj74hRa5Z6V4T8S3OrW9raxaDo%2BmKr3FxZWbNI0mnSuVEW0LIg3Mc4APW6KKKACiiigAooooAKKKKACiiigAooooAKKKKACiiigAooooAKKKKACiiigAr5X/ae/a0%2BLnww%2BMfizWvAPh3wfJ4Y%2BD/h/w/e%2BNTrWkXE2q6pb6vfypcwWFxHcRpZeRbWcdxmSKcXMhSMiHy/NP1RXjPxn/Yh%2BHHxu%2BKR%2BJmueOfFWlxaja6Ra%2BL/DWjXVqmneKYNLvZL2xivllt5Jgsc00ufs8sBljkMUxljCoAD2aiiigAooooA%2BY/Dn7SvxMh/b/wDFHwf%2BI2seHvCfhtfEFpongyLUfhFrKXXjGAaBBqOIPEbXa6c0sd3c6gBaCF5PLtJgFBZpF%2BnK8r8WfstQeP8A4yaR8U/Hvxv8a6vpXh7XY9a0DwBcHTItGsdQjt3gjnDQ2SXsuzzJJFSa6kjEj7tnyIF9UoAKKKKAPF/%2BCgvxd%2BOH7P37I/jT49fAK98KR6x4J0K71y6g8YaLc31td2lrbSzPboltdWzJK7IiiQuVQFiUfgV5/wCPP2tPi54L%2BPHi3U/Cnh3whF8PPCHxj8I/D7xlZzaRcHW9V1XXYNFSPUIbtLhYY44P7c0mMxSW8ryJDPiWPagr2H9rH9nGy/a0%2BBGvfs%2B618VfFPhHSfE9lLY65f8AhBdO%2B13NlLE8U1tuv7S6jRHV%2BWRFkBUbXXnPFwfsA%2BDp/iLZ/EXxV8cfH2usdZ0nXPE2jahLpUVj4n1zTEjSx1a9jtrCJluIhBaYW2aCBjY2xeJjHkgHvdFFFABXi/7ZPxd%2BOHwStfAPjH4WXvhT%2BxtQ%2BJnhzw94vsfEGi3NzdXNrqus2Omg2csN1CltJGtzLJvkSdSURdnJNe0V5V%2B1d%2By2/wC1V4b0LwvP8ffG/ga30LxJYa6jeC4dHZ7u9sbyC8s2lOpafeDbFcW8bhYwgblZN6naADzj9nn9pX4ma3%2B1V4t%2BCPxQ1fw94T06HxTrdv4J8JSfCLWdMudetoXSU39vrVxd/YNQdjJNLLFbQF%2BS7FcMT9OV5LpP7KIf4yaL8ZfiP%2B0B478azeF7u8u/CeheIRpMNho91c28lrJcRLYafbSyv9nmnhXz5JVRZ32gEgj1qgAooooA8P8A27vi58eP2fvg1q/x1%2BFHjHwLY6f4W0W5vL3RfFnhm9v7nxDe5RbPTLOS2vYPs81xKRbo3lXTNLPEFhY/K3n/AMEf2vvjPrnxL8Ff2t4M8JaR8NPG/wAT/FHw28K%2BGtO0uaPV9Ev9Ah1bfPPci4a3mgkbw/qaLDHbxGNWtj5kmWA9P/aV/ZBg/aS8eeCPiBN%2B0D478IXPgG7ub3RbHwxFo09nJeyoI1vJoNT068R54Y/MWGQBTGJ5SPmbIq%2BA/wBhr4e%2BA/jLb/F2H4i%2BLtSg07XdT17RPCGpXNl/ZOla3qMbx6hqkCRWqT%2BfOJ7ssrzPCjX1yY4o/M4APa6KKKACvl/9rn48ftL/AAW%2BImn%2BFNKh8AeNdH8cw61baL8OYvB99JrCWtpod1dyX9xOL14rq2F1Fb20kItYgft8KCYyMiSfUFeHTfsTXEf7R/iv9prRP2q/iXp2r%2BLdNh0650uGDw/PaafZwwNHDbWbXOky3NvEsrvdbFm2vO5dw4O2gBn7CH7Qfjf49/D28uviv4%2B0a%2B8XacLNtf8ADdl8LtX8I3mgPPbLKILmy1e6nuHBbf5dwAkciodobaTXuleb/A79m7Tvgz4n8SfEPWPil4p8ceKvFcVjb6x4n8XNYLcvaWYm%2By2qRafa2ttHFG1zcuNsIZmuJCzNkY9IoAKKKKAPjn/goJ%2B3H8VP2MPHP9p65ougeMfCL6NqOt2/hWX4c6nZS26abo19qSSf8JFNdPpk939r00bLFYEuhHMsoG2FpG9e/Zo%2BLvxz1b4qeN/2ev2jrnwpqHifwjpOh61HrXgrSLmwsbmx1QXkaRGC5ubl1liuNOu1L%2BbiRDE2yMkqK3x1/YS8EftOa1dWvx/%2BLfjXxR4LuZLiRfhleSabDosUk1jNZM2%2B3so76QCO4mYJLdOgd9235EC9P%2Bz5%2BzNpHwDvNe8RXfxQ8WeOPEfiQ2cereKvGtxZvfS21pEYrW1H2O2t4ViiDysMR72eeV3Z2cmgD0qiiigAr4j/AGp/2yv2s/g38avEHwo8HeG/DnjXU7DRbjXfDAT4H%2BII5NFA1HTLVDC325x4mkFjqlx539l%2BU8LQlZRGJhHX25Xh%2BvfsW6n4l8en4na1%2B1z8UZtb0%2BC8i8G3hTQAPCq3U0Mk/wBkjGk7J2aOBbfderdMsTOFKu7OQDqv2WPiw/xk%2BEcHiy9%2BJmjeKr%2BHUbqy1S%2B0bwZfeHRbXEUrK1rNpuoXE91ZzxjCvHM4fPzbVDAV6NXDfAP4C%2BHvgB4Z1PRtK8U634g1HX9euNb8SeJPEc0DXuq38wRGnlFvFDAmI4oYlSGKONUiQBRgk9zQAUUUUAFFFFABRRRQAUUUUAUfFHiGw8JeGtR8V6qHNrpljNd3IiXLeXGhdsDucKa%2Bc/2Jv2k/jX4/8U6P4M%2BNnh7wZZjx18LbL4jeGYfBmlXFoNMjvLgm70%2B7M1xKLuaN7m2f7YggE7SzEwR7QX%2Blru0tb%2B1lsb23SaGaNo5opVDK6kYKkHggjjFeQ/szfsV%2BAv2YNVfV9A%2BIPi3xLLbeGLHwz4dHiy9tZhoGhWbyPb6bam3t4S0amT5pZzNcSCOLzJn8tcAHsVFFFABXC/tQePPiL8LP2aPiJ8Tvg/4UXXvFvhzwLq%2BqeFtDaxmuhqOo29nLLbWxhgZZZhJKiJ5cbB23YUgkGu6rO8W6Jf8AiXwxqHh/S/Feo6Fc3tpJDb61pCwNdWLspAmiFxFLEXU8gSRumR8ysMggHl37FPxan%2BKHwzvrLVviF4f1nU/Duqrp15pmifDDU/Bz6GgtoJIrO40rVLme5hcI4kV28tHili2Jgb39irzz4D/s7aT8DrzxL4jufiJ4k8Y%2BJPF%2Bow3niLxT4rezF3dGG3S3giEdjbW1tFFHGgCrHCmSzsxZmZj6HQAUUUUAfLn7VH7WPxQ/Zw%2BL3jiy%2BJWjeEvEXwvsP2d/F/j220K30S4TVXbRBpaz21xcyXL280U6304CC2QqETLvlhXb/sz/ABf%2BPmqfFzxl%2Bzr%2B0s/hK88UeGPDHh7xLHqvgrSbmxspLLVn1K3W2MNzc3LmWG40i7BlEgWRHiby4zuWoPjH%2Bwr4d%2BOnx1b4y%2BPPjt45l02bwVqfhG%2B%2BHsMGi/2Jd6NqS232%2B0kL6a16RO1pA7OLoOpQhGRGZD0n7O/7Luh/s%2B32teI5/ih4t8b%2BIdftbCyv/E/ja5tJL02Fiki2dmPsltbx%2BVEZ7hwShkd7mV3d2bNAHp9FFFABXyJ8a/2l/wBrbwZrv7QHgS38K%2BDPFl74C8P%2BFPEnw2sdJ%2BH%2Bp386x6jqupQhLy1ivHl1GeBdNjnU2wtyXJCr8qtX13Xhcv7FHiGL46eNvj/oX7aHxW0rVvG%2BkWOmXNjZWfhhrTTbayuLmezS2EuivJ%2B6N5dKDM8pdZyJPMKoVAOr/ZU%2BLc3xl%2BFI8Taj8TtG8U6ja6rc2OrXWj%2BCL/w2bO4ib5rWfTNRuJ7q0nRSu5JmDEMrbVVhXpNcJ8A/gHoHwB0LWbHT/FuueI9V8TeIJdc8T%2BJvEktu17qt/JDDB5sgtoYYIwsFvbwqkUUaKkKALnJPd0AFFFFAHxt%2B0t%2B13%2B0t%2Bzx8ZoPhtrKfDPxrfa3BBN4Rh07wte2kvgu81LxDpnh7SJtTle%2BmF1FO2rzgtEtnI4sbpYwy%2BYYvcf2Vfi/8SPiMPH/w%2B%2BMR0SfxV8NPHjeGtZ1Xw1p01nYan5ml6dq1vcQ28088lvm11S3R42mlxJHJhiCMcLbf8E1fCTXXxDfxD%2B0v8TtZt/iTrx1zWLfUjoXmWepRXEM%2Bn3NtdRaWl0psHt7cWkbzSRRLCgZH5z6x8A/gLofwD8Patptl4v1zxJq3iLXpta8T%2BKPEr2xv9XvpI4ofOmFrBBAuyCC3gRIoo0WOCNQvBJAO6ooooAZc/afs0n2PZ52w%2BV5udu7HGcc4zXxB8Vv2uf20/hp8RNc%2BG1vbeA/GeveGL3w1b6t468EfBXX9Wj8OW%2BrNePe2EulWepT3dzNHDZWN0TFOn7u6haWBAYmk%2B3ruGS4tZbeG6kgeSNlWeIKXjJGAy7gVyOoyCPUGvnv4MfsBeIPgJ8Nrj4afDv8Abq%2BMUUd1qz6nNrN5ZeE59Qlu5XlkuZ5pn0I/aZJ3l3SSTiR8xpsKAYIB6z8BPiHZfFb4O%2BH/AIhWHxA0bxUmp6eJH1/w/pM1haXcgJWQpazzTS2xV1ZGhkkd42VlY7lIHX1yXwL%2BC/hL9n34X6d8KfBVzf3FlYS3VxNfarcia6vru6uZbq6upnCqGlmuJ5pX2qq7pDtVVwo62gAqj4nh8SXPhvULfwbqdjZavJZSrpd5qdg91bQXBQiOSWGOWJpo1bBZFkjLAEB1J3C9Wb4x0G/8UeFr/wAO6X4t1LQbm8tXig1rRxAbqxcjiaIXEUsRdTyBJG6HHzKwyKAPh74b/t2fta/GD4p638EvhZpvw%2BTxnptrrt9J4z8V/C7WtDXVNM0i10WVLGXRLy%2BTUNPle78Q7EmnmePyoZLhIXWdAfsb4BfFrTfj58CfBXx10bTZbOz8a%2BEtN160s5n3PBFeWsdwsbEAZKiQAn1FeLav/wAEyPA%2Bta5ffEW7/aU%2BKafEDVkvLXWviTbXukQ6tf6ZdW1rbTaYUTTRZw2xSytGHkW0UqyQLKsocsx%2Bg/Bfg/w18PPB2k%2BAPBmkxafo%2Bh6ZBp%2Bk2EOdltbQxrHFGuecKiqo%2BlAGnRRRQBy/xp1Hxxo3wt1rW/hz4hsdL1awszdQ32oeD73xAiRxkPKBp1jPBc3kjRK6pFDIHLsuFc/I3xb8Jf8Agoj8fvEnjTQ9T8b3HhHwJ4M1KedfEHji8%2BBniKa21i/h1%2B60hEuZVvo08MzyWtpa/uNUaSWB5VjfOwJX238TPBmu%2BPfCU3hzw38Utf8ABt5JLG8Wv%2BGYrF7uDawJVVv7a5gYMAVIeJuCcYOCPFbr/gnN4U1DwfcfDbVv2kPibd%2BGNc1Ca/8AHmgTXGjiLxhdz3jXVxNfSrpouIvNLLC0dnLaxCGJI1RRu3AH0TRRRQAUUUUAFFFFABRRRQAUUUUAFFFFABRRRQAUUUUAFFFFABRRRQAUUUUAFFFFABRRRQAUUUUAFFFFABRRRQAUUUUAFFFFABRRRQAUUUUAFFFFABRRRQAUUUUAFFFFABRRRQAUUUUAFFFFABRRRQAUUUUAFFFFABRRRQAUUUUAFFFFABRRRQAUUUUAFFFFABRRRQAUUUUAFFFFABRRRQAUUUUAFFFFABRRRQAUUUUAFFFFABRRRQAUUUUAFFFFABRRRQAUUUUAFFFFABRRRQAUUUUAFFFFABRRRQAUUUUAFFFFABRRRQAUUUUAFFFFABRRRQB//9k%3D\">"
            ]
          },
          "metadata": {
            "tags": []
          }
        }
      ]
    },
    {
      "cell_type": "markdown",
      "metadata": {
        "id": "71pVEN6V8OyP"
      },
      "source": [
        "# Submit a linear model"
      ]
    },
    {
      "cell_type": "code",
      "metadata": {
        "collapsed": true,
        "id": "RkqiTGbb8OyP"
      },
      "source": [
        "## GRADED PART, DO NOT CHANGE!\n",
        "# Testing shapes \n",
        "grader.set_answer(\"9XaAS\", grading_utils.get_tensors_shapes_string([W, b, input_X, input_y, logits, probas, classes]))\n",
        "# Validation loss\n",
        "grader.set_answer(\"vmogZ\", s.run(loss, {input_X: X_val_flat, input_y: y_val_oh}))\n",
        "# Validation accuracy\n",
        "grader.set_answer(\"RMv95\", accuracy_score(y_val, s.run(classes, {input_X: X_val_flat})))"
      ],
      "execution_count": 38,
      "outputs": []
    },
    {
      "cell_type": "code",
      "metadata": {
        "collapsed": true,
        "id": "zTCpDqYW8OyP",
        "colab": {
          "base_uri": "https://localhost:8080/"
        },
        "outputId": "42c9656c-1cc2-4780-ed8d-6f5291a5844f"
      },
      "source": [
        "# you can make submission with answers so far to check yourself at this stage\n",
        "grader.submit(COURSERA_EMAIL, COURSERA_TOKEN)"
      ],
      "execution_count": 39,
      "outputs": [
        {
          "output_type": "stream",
          "text": [
            "Submitted to Coursera platform. See results on assignment page!\n"
          ],
          "name": "stdout"
        }
      ]
    },
    {
      "cell_type": "markdown",
      "metadata": {
        "id": "LUY8iPLb8OyQ"
      },
      "source": [
        "# MLP with hidden layers"
      ]
    },
    {
      "cell_type": "markdown",
      "metadata": {
        "id": "5m20pAbA8OyQ"
      },
      "source": [
        "Previously we've coded a dense layer with matrix multiplication by hand. \n",
        "But this is not convenient, you have to create a lot of variables and your code becomes a mess. \n",
        "In TensorFlow there's an easier way to make a dense layer:\n",
        "```python\n",
        "hidden1 = tf.layers.dense(inputs, 256, activation=tf.nn.sigmoid)\n",
        "```\n",
        "\n",
        "That will create all the necessary variables automatically.\n",
        "Here you can also choose an activation function (remember that we need it for a hidden layer!).\n",
        "\n",
        "Now define the MLP with 2 hidden layers and restart training with the cell above.\n",
        "\n",
        "You're aiming for ~0.97 validation accuracy here."
      ]
    },
    {
      "cell_type": "code",
      "metadata": {
        "collapsed": true,
        "id": "mXM1qPX_8OyR",
        "colab": {
          "base_uri": "https://localhost:8080/",
          "height": 309
        },
        "outputId": "5921ebe7-4b10-4473-e57a-06a8ac1ca82e"
      },
      "source": [
        "# write the code here to get a new `step` operation and then run the cell with training loop above.\n",
        "# name your variables in the same way (e.g. logits, probas, classes, etc) for safety.\n",
        "### YOUR CODE HERE ###\n",
        "hidden1 = tf.layers.dense(input_X, 256, activation=tf.nn.sigmoid)\n",
        "hidden2 = tf.layers.dense(hidden1, 256, activation=tf.nn.sigmoid)\n",
        "logits = tf.layers.dense(hidden2, 10, activation=tf.nn.sigmoid)\n",
        "# logits = tf.add(tf.matmul(input_X, W), b)\n",
        "probas = tf.nn.softmax(logits, dim=1)\n",
        "classes = tf.argmax(probas, axis=1)\n",
        "loss = tf.reduce_mean(tf.nn.softmax_cross_entropy_with_logits(labels=input_y, logits=logits))\n",
        "\n",
        "step = tf.train.AdamOptimizer().minimize(loss)\n",
        "\n",
        "s.run(tf.global_variables_initializer())\n",
        "BATCH_SIZE = 512\n",
        "EPOCHS = 40\n",
        "\n",
        "# for logging the progress right here in Jupyter (for those who don't have TensorBoard)\n",
        "simpleTrainingCurves = matplotlib_utils.SimpleTrainingCurves(\"cross-entropy\", \"accuracy\")\n",
        "print(X_val_flat.shape, y_val_oh.shape)\n",
        "\n",
        "for epoch in range(EPOCHS):  # we finish an epoch when we've looked at all training samples\n",
        "    \n",
        "    batch_losses = []\n",
        "    for batch_start in range(0, X_train_flat.shape[0], BATCH_SIZE):  # data is already shuffled\n",
        "        _, batch_loss = s.run([step, loss], {input_X: X_train_flat[batch_start:batch_start+BATCH_SIZE], \n",
        "                                             input_y: y_train_oh[batch_start:batch_start+BATCH_SIZE]})\n",
        "        # collect batch losses, this is almost free as we need a forward pass for backprop anyway\n",
        "        batch_losses.append(batch_loss)\n",
        "\n",
        "    train_loss = np.mean(batch_losses)\n",
        "    val_loss = s.run(loss, {input_X: X_val_flat, input_y: y_val_oh})  # this part is usually small\n",
        "#     print(batch_losses[-1])\n",
        "    print(X_train_flat.shape, s.run(classes, {input_X: X_train_flat}))\n",
        "    train_accuracy = accuracy_score(y_train, s.run(classes, {input_X: X_train_flat}))  # this is slow and usually skipped\n",
        "    valid_accuracy = accuracy_score(y_val, s.run(classes, {input_X: X_val_flat}))  \n",
        "    simpleTrainingCurves.add(train_loss, val_loss, train_accuracy, valid_accuracy)"
      ],
      "execution_count": 40,
      "outputs": [
        {
          "output_type": "display_data",
          "data": {
            "text/html": [
              "<img src=\"data:image/jpeg;base64,/9j/4AAQSkZJRgABAQEASABIAAD/2wBDAAIBAQEBAQIBAQECAgICAgQDAgICAgUEBAMEBgUGBgYFBgYGBwkIBgcJBwYGCAsICQoKCgoKBggLDAsKDAkKCgr/2wBDAQICAgICAgUDAwUKBwYHCgoKCgoKCgoKCgoKCgoKCgoKCgoKCgoKCgoKCgoKCgoKCgoKCgoKCgoKCgoKCgoKCgr/wAARCAEgA2ADASIAAhEBAxEB/8QAHwAAAQUBAQEBAQEAAAAAAAAAAAECAwQFBgcICQoL/8QAtRAAAgEDAwIEAwUFBAQAAAF9AQIDAAQRBRIhMUEGE1FhByJxFDKBkaEII0KxwRVS0fAkM2JyggkKFhcYGRolJicoKSo0NTY3ODk6Q0RFRkdISUpTVFVWV1hZWmNkZWZnaGlqc3R1dnd4eXqDhIWGh4iJipKTlJWWl5iZmqKjpKWmp6ipqrKztLW2t7i5usLDxMXGx8jJytLT1NXW19jZ2uHi4%2BTl5ufo6erx8vP09fb3%2BPn6/8QAHwEAAwEBAQEBAQEBAQAAAAAAAAECAwQFBgcICQoL/8QAtREAAgECBAQDBAcFBAQAAQJ3AAECAxEEBSExBhJBUQdhcRMiMoEIFEKRobHBCSMzUvAVYnLRChYkNOEl8RcYGRomJygpKjU2Nzg5OkNERUZHSElKU1RVVldYWVpjZGVmZ2hpanN0dXZ3eHl6goOEhYaHiImKkpOUlZaXmJmaoqOkpaanqKmqsrO0tba3uLm6wsPExcbHyMnK0tPU1dbX2Nna4uPk5ebn6Onq8vP09fb3%2BPn6/9oADAMBAAIRAxEAPwD9/KKKKACiiigAooooAKKKKACiiigAooooAKKKKACiiigAooooAKKKKACiiigAooooAKKKKACiiigAooooAKKKKACiiigAooooAKKKKACiiigAooooAKKKKACiiigAooooAKKKKACiiigAooooAKKKKACiiigAooooAKKKKACiiigAooooAKKKKACiiigAooooAKKKKACiiigAooooAKKKKACiiigAooooAKKKKACiiigAooooAKKKKACiiigAooooAKKKKACiiigAooooAKKKKACiiigAooooAKKKKACiiigAooooAKKKKACiiigAooooAKKKKACiiigAooooAKKKKACiiigAooooAKKKKACuN%2BOP7QHwm/Zx8JW/jT4veJ5dPtL7U4dN0u2stLub%2B91K9lDGO1tLO0jluLudlR2EUMbvtR2xhWI7KvFv2u/gP8VPiX4h%2BGfxl%2BBd14fl8X/CrxjPrWmaJ4tu57bTdYhudLvdMubaW4ghmktH8q9aSOdYZtrR7TGyu2ACjpH/AAUr/Y71rxm3w8tvHviCDW7fSodU1bTtR%2BHOvWkmi2EhuAt3qXn2SDTIAbWcNLdmFEKYYqWUGbwn/wAFH/2NfGfg/wAQ%2BOtM%2BLFza6f4Y0e11fVBrnhPVdMuJNPuXMdreWtvd2sU19bzyAxwy2ySpM5CRlmIB86vP2GPjP8AHW0/aRP7Qt74V8My/tB/CPTvBskfgrWLrUzo7RWusWsr%2BbcWtqZ1VNRiZDsXeyygogxuy9Y/Y2/at%2BM%2Btaz8UP2lPh38G9X1e0%2BE6eBtB8E6d4n1QaRrSy6jaXt5fXd2bBJ9PYmyg%2BzxQw3BtnDP50hIwAeyX/7fP7N2k%2BAbH4h6tdeOLSHVPED6Jpeh3Xwj8SR67e3yW5uXjh0dtPGoShYAZTIluUCKzFsA49P8JeOfDfjbwTY/EPRbi5i0rULBbyCTVNPnsZY4iu7MsFykcsDAfeSRVZSCGAIIr41tv2Gf2tJfgpJ4W8feGPCnjS%2Bh%2BIcut%2BC9B1n9ofxXb3fgOxOmxWoi0/xbHp7atcSGUXcreZDGBHeGENsjGfUvB/7Bmq%2BKfgJo3hb9pz46%2BOPEfj5PhtdeFtf8Q6T8Q9at9Muhc2tzbyTPpa3SWN5MiXTBbq4tmmdoopWKuibADc8Mf8FJP2MvF/h7xJ4s0b4tXK6Z4W8GXni6/vr7wlqtpFe6BaruuNU09p7VBqtogK5nsvPQmSMAkyIG4n40f8FdP2YfAf7M/wATf2gfhW%2Bs%2BM7v4b%2BDYfEjeGW8L6xps2r2Nw7R2t3avNYFrixlkRh9vgjmtkVWdnCqSPHfC/8AwSh%2BNC/BPxf8LPFnh3w9J4h/4UL4j8A%2BC/Hmo/tD%2BNvECSXGpWEdp5h0jVUkttGtpDDE8scEl0yeVGqFggz6P%2B1L/wAE5vih%2B0BYeKtE0Pxj4d0q2179le%2B%2BGlrLM87GDVpLiOWGdo1iANqNhBIbzBnhO9AHqkv/AAUU/ZZt/E3hrwJeav41tvEni7TpdQ0HwpefCTxLDq8tnFd/Y5LmSwk08XNvCkxG6SaNEVGWUkRsrmXwN/wUT/Y7%2BJGqarpXhD4tyXB0rQ9Q1lbufw1qVvaapp1iwS8u9NuZrdYdVhhYqHeyedVLqCfmGcXwR8APjz4x/apsf2oPjn4f8HeH5JPg5f8Ag/VNE8J%2BK7vVTBcy6tHcpJDcz6fZl4mgiUsTGjJIdoV1USHwGb9hz9pf4bfs8%2BF/Cnxo1rwIPCP7N3wP8SaB4L1PwrfXcmpeKd2hHTLe4vbeW2ii04JZozSQxS3QknZXDxqgQgH0D4U/4Kl/sL%2BNPBus/ELQ/jLdrouheDj4tutRv/BmsWcdzoIKB9Vs/PtEN/ZxmRBJPbCWOLcPMZc167a/GD4c3vxcuPgVZ%2BIxN4qtPDUGv3emRWsrCHTp55beGd5QnlL5ksE6ohfe3kyEKQjEfFX7I/7P3xC8WfBL4Q/Hb9t/Uvhlovww%2BG/7L9z4fgk07W5wmr6bqmnaWby%2B1X7VBDDpkEVppyq0CS3CZleRplWNVrsP%2BCK3wr8d6P8As76n8evit4tbxFrHjW%2Bg03w54hlgaOS%2B8I6JF/ZWiXBD8/6VDDNqhPd9WcgKCFAB9lUUUUAFFFFABRRRQAUUUUAFFFFABRRRQAUUUUAFFFFABRRRQAUUUUAFFFFABRRRQAUUUUAFFFFABRRRQAUUUUAFFFFABRRRQAV4jpH/AAUY/Y91K716z1P4pXnh5vDnhy58QahJ418I6roMc2k27pHPf2smpWsC31ujyRK0tsZUBljGcuufab2K5ms5YbO6EEzxMsUxj3%2BWxHDbT1wecd6/MTV/%2BCOX7cvxf1bwvrnxu%2BOOhvrfhrwfqFnqHijUPit4m8TjxDrf2zSr611E6XfRQ2Wk20lzpi%2BfYWQCiOTassgVAoB9sv8At/8A7MNr8NG%2BLGseIPFWlaW2uQaNY2eufDLX7DVNTv5kMkMFlptxYpe37SIGdfs8MgZUdgSEYjovAf7VnwP%2BI%2Bv2XhPw54h1SHV7/wAKT%2BJIdI1rwrqWmXaabDd/ZJZZYby3ikgdZ/kMMirL32bea8m%2BJ3wc/bd%2BMTfD342654N%2BFWh/EP4UeOptY8P%2BGbXxxqV/ouuWdxpN3plzHcXz6VDNYzFL2SSN0tbgRmIKfMEjYq/En4Dftwa/8ZfDv7TXgfRvhXaeLL74Yar4L8Y6FqXivUpLDSFuL%2BG6tb%2ByuE04SagYhG6yW8sVoJS4xLFjkA7jSf8Ago3%2ByB4j17wL4W8K/EbVdZ1P4k%2BDdK8W%2BDdO0TwPrN7PeaHqL7LXUZEgtGa1t92PMknEa24ZTN5QYE7Hw1/bc/Zu%2BK/xGufhP4Z8X6tZ6/b6Xc6nDZeJ/BmraIt/Y28iRz3dlLqNrBHfwRvLEHltmkRfMQkgMpPlH7Cn7CXxY/Zh1/4caz488QeGrs%2BDv2UvCPwxv30i5nlZtW0t5muZovMgj3Wrb02MxV22/NGmBXjXw0/4JV/tjeJ/ij4X8TftTfGGz1SLT/AHivwv408TQfF/xJrV54il1exS2/tO10y%2Bhj0/QjlSxtLRSi5UCZxGq0AfUvhP/gov%2ByP410WPxVoPjvXP7DuNV0vT9P8AEt78P9btdK1GXUr2OyspLS%2Bns0tryCW5mijFxBI8IMqFnCsCfS/C3xd%2BHnjX4geKfhd4X8Q/a9c8FyWcfie0S0mC2Ml1B9ogjMrII3doSshRGZkWSMsFEibvmHxx4E%2BIvhX/AIJ7eNPgR/wUM8T/AAq8EeAtB%2BGkWgW3xM8O%2BLbsM06RpbWupPaXVnAmmzLMLeSGCO4umM5REcnaG7X/AIJX/D74seG/2RNK%2BKv7RVglv8TvixfS%2BOviJCtu0X2e/v1jMNpsb5k%2By2MdlZ7TkgWuDQB9G0UUUAFFFFABRRRQAUUUUAFFFFABRRRQAUUUUAFFFFABRRRQAUUUUAFFFFABRRRQAUUUUAFFFFABRRRQAUUUUAFFFFABRRRQAUUUUAFeL/Hrx/8AtF/8NF%2BBfgR8BfGfgrw%2Bmv8AgrxLr2r6n4v8F3etEnTrvQ7eGGGO31Kx8sN/akrMzM%2BfLQALyT7RXhXxF1pLL/gpV8IdFkUYvfgn8Q2Rs87o9W8GnH5Mx/Ck2luXCEqjtHs392rL/wDwg/8AwUL/AOjoPgz/AOGH1b/5qKP%2BEH/4KF/9HQfBn/ww%2Brf/ADUV7NRTIPGf%2BEH/AOChf/R0HwZ/8MPq3/zUUf8ACD/8FC/%2BjoPgz/4YfVv/AJqK9mooA8Z/4Qf/AIKF/wDR0HwZ/wDDD6t/81FH/CD/APBQv/o6D4M/%2BGH1b/5qK9mooA8Z/wCEH/4KF/8AR0HwZ/8ADD6t/wDNRR/wg/8AwUL/AOjoPgz/AOGH1b/5qK9mooA8Z/4Qf/goX/0dB8Gf/DD6t/8ANRR/wg//AAUL/wCjoPgz/wCGH1b/AOaivZqKAPGf%2BEH/AOChf/R0HwZ/8MPq3/zUUf8ACD/8FC/%2BjoPgz/4YfVv/AJqK9mooA8Z/4Qf/AIKF/wDR0HwZ/wDDD6t/81FH/CD/APBQv/o6D4M/%2BGH1b/5qK9mooA8Z/wCEH/4KF/8AR0HwZ/8ADD6t/wDNRR/wg/8AwUL/AOjoPgz/AOGH1b/5qK9R8ZjfoYgYnZNfWkUoBxuR7mNWX6FSQfY15jr/AO1B/wAE/fCmu3vhbxT%2B0R8HNN1PTbuS11HTtQ8XaVDPazxsUkikjeUMjqwKsrAEEEEZFZVa9Cgk6k1G/dpfm0d2ByvM80nKGCw9Sq4q7VOE6jS2u1CE2lfS7SV9L30Gf8IP/wAFC/8Ao6D4M/8Ahh9W/wDmoo/4Qf8A4KF/9HQfBn/ww%2Brf/NRVf/hr/wD4Jwf9HRfBH/wttH/%2BO1b0D9qD/gn74r12y8LeFv2iPg5qWp6ldx2unadp/i3Spp7qeRgkcUcaSlndmIVVUEkkADJrJY7At2VWH/gcf/kj0J8K8U04Oc8vxCSTbboV0klq226CSSSbbbSSTbaSbGf8IP8A8FC/%2BjoPgz/4YfVv/moo/wCEH/4KF/8AR0HwZ/8ADD6t/wDNRWj%2B1X8S/hV%2Byh%2Bzf41/aS8U/C5dW0/wV4euNVutN0jRBNcXKxLnYixxsRk4y5G1Fy7lVVmHP6T%2B1n%2Bx/rnjeX4a6X4a1%2BXxDbeHF17UNF/4U1rq3Wn2Dx3bxS3UbaeGtWl%2Bw3KxRzBJJnjEcau7ordR4Jf/AOEH/wCChf8A0dB8Gf8Aww%2Brf/NRR/wg/wDwUL/6Og%2BDP/hh9W/%2BaiqWmftOfsweJpPDv/CK6ZYIdZ8dTeFb2w8S%2BEtR0fUbG%2Bj0a61cwtZXNgJklNrbrMq3C28bwyeYsrMYo5m/BT9r/wDYX/aC0abxH8NvE2l/2dF4f0/XUv8AxF4Ru9FgudLvmZbW9gk1G2gW5t5HUoJYi6h8ISGIFAF//hB/%2BChf/R0HwZ/8MPq3/wA1FH/CD/8ABQv/AKOg%2BDP/AIYfVv8A5qKg/bQ%2BJV1%2By98ELv40%2BBf2d/DPi%2BLSLuFtdstR1ldK%2Bz2LNteeJ1s7nzpQxQLEVQNuOZEAzXffEi6%2BDfwl8A6x8TfHui6TY6NoWnS3upXR0tHKRRqWO1VUs7HGFRQWZiFUEkCgDiP%2BEH/4KF/9HQfBn/ww%2Brf/ADUUf8IP/wAFC/8Ao6D4M/8Ahh9W/wDmory/Q/2ufG/if9i7Vf2vrT9kDwDoH/CKaj4ti8c%2BHfG3j17P%2BxrbQtQvbSaQXFppF2s0jCyd2j2KqE7VklA3HY8YftC/FD4bfDvwF8YPiP8AsV%2BD9L8PeI4vC1t4rtP%2BE1D6xo2razd29mbK2tDpix34t57qJWdp7d5AHKRFgEYA7j/hB/8AgoX/ANHQfBn/AMMPq3/zUUf8IP8A8FC/%2BjoPgz/4YfVv/mori/BP7V/h/wAU/GzTvCep/s5aFp/gPxJ498ReCfCPjX%2B1o5Lq913RI7576OewNoq21vnStVWOYXEjMbL5o4xIprM%2BGH7Zmh/Gzwb8WfHPgD9n/wADaXpfw81S0Oh634%2B8XppGm63os1nFeDWJ7lNPnOnwNA7TRApNvi8p3aIyMsYB6P8A8IP/AMFC/wDo6D4M/wDhh9W/%2Baij/hB/%2BChf/R0HwZ/8MPq3/wA1FfPHxB/4KofDjwT8B/BXxof4CfDu1h8XW3imaHUfE3xAj07QL06JdpbCHStU/s6X%2B05tQDm40%2BPyYftVvFLJlNm09Xrv/BQDwPo/7U%2Bgfs1yfs3%2BHbS71m%2B0G1/sbXPEENn4qmGp2ouGvbPRvsji8sbMF0urkXKeU1rdjY3kjeAeuf8ACD/8FC/%2BjoPgz/4YfVv/AJqKP%2BEH/wCChf8A0dB8Gf8Aww%2Brf/NRXJ%2BF/j54n079pvxD8C/jp%2Bzn8M/Deg%2BGfhxL4x1nxlonjuTUE02za8eC0W7huNItFg89LbUJd4mcILCQHIIYZHwq/bW8HfEf4GeNfi7qf7LaaLqeh%2BPz4V8H%2BDruSI3/AIiubi2sp9MV1aBfsU0630PmxMHFqFlaRysTlQD0P/hB/wDgoX/0dB8Gf/DD6t/81FH/AAg//BQv/o6D4M/%2BGH1b/wCaivO/Cv7XN34v%2BGf7NXxm0z9lDwynhv4%2B6fosuqTz%2BJlFz4auNT0ltRhhiiFgRfqoR0aRntugYKc7RqfDf9qDw38Sf22/iB%2ByTZfDX4TWUPw/1uHT7v7Z8QUHia/jk0HTdVF7BoY07BtQ%2BpJbmU3QGYJWxkCMgHYf8IP/AMFC/wDo6D4M/wDhh9W/%2Baij/hB/%2BChf/R0HwZ/8MPq3/wA1Fed/sc/tV6l%2B2d8Itc%2BJPw7%2BCvwSk1Czgj/szw3pnxZN/c29w0kim31fytGDaW%2BxNwCrckncMALuPMP/AMFBNN8M/Ca%2B8Z/Fb9nj4X%2BGtXm%2BMWpeAPDEl78SVj8OX0unW0st9f3OrXOlwNZ28MtnqNsf9FlZprVUUMZlwAe1/wDCD/8ABQv/AKOg%2BDP/AIYfVv8A5qKoeB/HH7Vng79qzw58Efjd8R/h74m0bxN8PfEOuQzeFfh5faLdWl1pt9oluis9xq98ksbpqkpKhEYNEhDYyD2nh2PSfEvwTtviHN4W8L2eo3fh77ek3hPUl1CySQxeYr2t6IYTcRdGSXy49ykHaM4rmvHH/KQv4X/9kZ8ef%2BnbwhQB7NRRRQAUUUUAFFFFABXzj8JvFX7d/wAddH17x34X%2BN/wk0DS7f4heKtD0vSr/wCD%2BqX9xFa6Xr1/pkLS3CeIoFlkeOzV2ZYo13OQFAAr6OrwT9kIeZ%2BzrrduxOyb46ePIpQDjcj%2BPtWVl%2BhUkH2NAGr/AMIP/wAFC/8Ao6D4M/8Ahh9W/wDmoo/4Qf8A4KF/9HQfBn/ww%2Brf/NRT9f8A2oP%2BCfvhTXb3wt4p/aI%2BDmm6npt3Ja6jp2oeLtKhntZ42KSRSRvKGR1YFWVgCCCCMiqn/DX/APwTg/6Oi%2BCP/hbaP/8AHa5XjsCnZ1Yf%2BBx/%2BSPehwrxTUgpwy/ENNJpqhXaaeqaaoNNNNNNNpppptNMsf8ACD/8FC/%2BjoPgz/4YfVv/AJqKP%2BEH/wCChf8A0dB8Gf8Aww%2Brf/NRT9A/ag/4J%2B%2BK9dsvC3hb9oj4OalqepXcdrp2naf4t0qae6nkYJHFHGkpZ3ZiFVVBJJAAyavftV/Ev4Vfsofs3%2BNf2kvFPwuXVtP8FeHrjVbrTdI0QTXFysS52IscbEZOMuRtRcu5VVZhrSr0K6bpzUrdmn%2BTZ5%2BOyvM8rnGGNw9Sk5K6VSE6ba2ulOEG1fS6TV9L30M7/hB/%2BChf/R0HwZ/8MPq3/wA1FH/CD/8ABQv/AKOg%2BDP/AIYfVv8A5qKoaT%2B1n%2Bx/rnjeX4a6X4a1%2BXxDbeHF17UNF/4U1rq3Wn2Dx3bxS3UbaeGtWl%2Bw3KxRzBJJnjEcau7orO0z9pz9mDxNJ4d/4RXTLBDrPjqbwre2HiXwlqOj6jY30ejXWrmFrK5sBMkptbdZlW4W3jeGTzFlZjFHNqcJd/4Qf/goX/0dB8Gf/DD6t/8ANRR/wg//AAUL/wCjoPgz/wCGH1b/AOaiqHwU/a//AGF/2gtGm8R/DbxNpf8AZ0Xh/T9dS/8AEXhG70WC50u%2BZltb2CTUbaBbm3kdSgliLqHwhIYgVd/aN%2BIjfCvX/B/w0%2BEHwA8NeLvGfja9vE0rS9a1VdIsYLWztWuLm5nuks7p0A/cxKqwuWkuI87EDuoA7/hB/wDgoX/0dB8Gf/DD6t/81FH/AAg//BQv/o6D4M/%2BGH1b/wCaiue1/wDak%2BFsH7Fvhr9r/wAJ/BSyvB4vHh230bw7qhgs/Iv9Yv7TT4ILu5Eci28cVzeIs0qrJtWOQosh2q3FWv7bi%2BIr6y%2BFngn9mbwFefEpPF3iDQPEWjX3jlbbQtOn0e1t7u52aoNNeSdmgvLR0jNpG3zTeZ5Qgc0Aerf8IP8A8FC/%2BjoPgz/4YfVv/moo/wCEH/4KF/8AR0HwZ/8ADD6t/wDNRXQ/s9eNPg3%2B0p8B/Bn7QngHwdYDRfG/hex1zS0uNPh8yOC6gSZUfaCN6h9pwSMg4Jrsf%2BEG8E/9CfpX/gvj/wDiaAPLf%2BEH/wCChf8A0dB8Gf8Aww%2Brf/NRR/wg/wDwUL/6Og%2BDP/hh9W/%2BaivSbbSNL0Pxja2%2Bi6dBaR3GmXLTxW0QRXZJIApIXAJAdufet2gDxn/hB/8AgoX/ANHQfBn/AMMPq3/zUUf8IP8A8FC/%2BjoPgz/4YfVv/mor2aigDxn/AIQf/goX/wBHQfBn/wAMPq3/AM1FH/CD/wDBQv8A6Og%2BDP8A4YfVv/mor2aigDxn/hB/%2BChf/R0HwZ/8MPq3/wA1FH/CD/8ABQv/AKOg%2BDP/AIYfVv8A5qK9mooA8Z/4Qf8A4KF/9HQfBn/ww%2Brf/NRR/wAIP/wUL/6Og%2BDP/hh9W/8Amor2aigDxn/hB/8AgoX/ANHQfBn/AMMPq3/zUUf8IP8A8FC/%2BjoPgz/4YfVv/mor2aigDxn/AIQf/goX/wBHQfBn/wAMPq3/AM1FH/CD/wDBQv8A6Og%2BDP8A4YfVv/mor2aigDxn/hB/%2BChf/R0HwZ/8MPq3/wA1FH/CD/8ABQv/AKOg%2BDP/AIYfVv8A5qK9mooA8Z/4Qf8A4KF/9HQfBn/ww%2Brf/NRR/wAIP/wUL/6Og%2BDP/hh9W/8Amor2aigDxn/hB/8AgoX/ANHQfBn/AMMPq3/zUUf8IP8A8FC/%2BjoPgz/4YfVv/mor2V3SNDJI4VVGWYnAArjPFn7SP7O/gLf/AMJ18e/Bei%2BX9/8AtbxTaW236%2BZIMVE6tOkrzkkvNpfm0dWFwWNx1Tkw1KVSXaEZTf3RjJ/gcb/wg/8AwUL/AOjoPgz/AOGH1b/5qKP%2BEH/4KF/9HQfBn/ww%2Brf/ADUVkeJf%2BCpn/BO/wozLqn7X/gmXZ1/s3VRe/l9nD5/CuNu/%2BC2n/BORrhrLwz8Z9U8QXKnBttC8E6rOx%2BhNsqn864J5zlFN2liIL/t%2BP6Nn1eF8NfETGx5qGT4qS7/V6qX3yhBL5tHpP/CD/wDBQv8A6Og%2BDP8A4YfVv/moo/4Qf/goX/0dB8Gf/DD6t/8ANRXmJ/4K5eBtd/d/Cz9jL9obxezfcm0b4XyrB9WklkTaPfFH/De37b3iHn4d/wDBJfx5chv9X/wkvjXTdIJ/3hKG21n/AG3lj%2BCbl/hhOX5Q/U6/%2BIXcb0/94w8KP/X7EYWl%2BE8TdfOKPTv%2BEH/4KF/9HQfBn/ww%2Brf/ADUVb/ZW%2BI3xp8Yax8UPAnx01/wvq2qeAfiFFodnqvhPw1c6Tb3VrLoOj6mrPb3F7eMsiyajKhYS7SsaHapznyb/AIaL/wCCuWsfNp3/AATj8H6Pu6Lq3xetbgr9fIj5/Cuh/wCCder/ABl13W/jzqv7QXhHR9B8XzfGaD%2B19J0G/a6tLfHhHw2IgkrAFswiNm9GZh2row2PpYqo4whNaXvKEor75W18jx874Tx2Q4VV8RiMPO75eWliaNaa0bu40nK0dLOV7XaXU%2Bk6KKK7j5cKKKKACiiigAooooAKKKKACiiigAooooAKKKKACiiigAooooA5j40aH4t8R/C3W9I8C/ErUvB%2BqyWZe08R6RZWlxc2RRg7GOO8hmgZmVWT95G4G/OCQK8P8O/GX9pjxp/wSi8FfHjwDNca38TNf%2BEnhvWL29sdIgmuZZ7q1tJL%2B7t7QKsMtwsUlxNFbhdjyKkYQg7T758Rvh/4f%2BKngnUPh94qudXh07VIRFdyaD4hvdKuwoYNiO7sZYriEkgAmORSQSpyCQeJ%2BGv7HXwR%2BEPwjh%2BBfw9bxpY%2BGLTQP7FsLGT4o%2BILiWxshjZHb3E1889u0YVVjkidXiVQsbKoAoA4r/gn/wDHzxn8Yx8UvBnizXfFuuW/w/8AiDFo%2Bh%2BJPHfhRNE1fUrOfRdM1ENd2aWtoIZEkvpUUG2gZoVgYoSxd%2BD%2BLfxl8Oa7/wAFkPgH4C0iw8QQXenfDj4kWOoS6r4T1GwtZ2d/Dcy/Zbm5gjgvlH2c7mtnlVPl3Fdy5%2BmPg/8ABX4cfAjwrJ4O%2BGmjXNta3F/LfX1zqOrXWoXt/dSY33Fzd3cktxcykKq%2BZLI7bURc7VUD5b/bO1dtI/4LGfsW7mxHd%2BH/AInW0hz/AHrDRyo/76Va5cZP2dDm84/jKK/U93hzDfW809l3p1n/AOA0K0v/AG0%2BzqKKK6jwgooooAKKKKACiiigAooooAKKKKACiiigDL8Yf8gmH/sK2P8A6VxVwuv/ALE37GXivXb3xT4p/ZH%2BGOpanqV3JdajqOoeAdOmnup5GLySySPCWd2YlmZiSSSScmu68Yf8gmH/ALCtj/6VxV87eP8A/gsp/wAE3Phf471v4aeOv2jvsOt%2BHdXudM1iy/4RDWJfs91bytFLHvjtGR9row3KxU4yCRzXDjq2W0YReMlBJvTn5bX8uZPW3YqPElThv97DGvDc%2Bl1VlS5ra2vGpTvbezbtvbqeif8ADA/7Cv8A0ZZ8Jf8Aw3Omf/GKt6B%2BxN%2Bxl4U12y8U%2BFv2R/hjpup6bdx3Wnajp/gHToZ7WeNg8csciQhkdWAZWUgggEHIrxn/AIfm/wDBLL/o6L/yydc/%2BQq1/AP/AAWU/wCCbnxQ8d6L8NPAv7R327W/EWr22maPZf8ACIaxF9ouriVYoo98loqJud1G5mCjOSQOa8%2BGN4Yc0ozo3urW9ne/S2m97WK/4ibia/7p55OXNpb63Vd76Wt9Yd73tazve1nez9l/aa%2BCdl%2B0n%2Bzp47/Z71DX5dJh8b%2BEdQ0N9VggEr2f2q3eETBCQHKFw20kBtuMjOa8v8RfsTfELx/oPxdl8e/H21i8SfFv4d6b4Zvta8J%2BFZtNh02SzGohbmKKS%2BnkZHF%2BA0RmBxE2JB5g2eufHX4w%2BHP2ffg94j%2BN/jLTNRutG8K6VLqesppUKSTxWcQ3TzBXdAyxxh5WGc7Y22hmwp8v%2BM//AAUQ%2BDvwW0vxdrmqeG9T1Cx8FeLbPw3rGojxBoOlWj39xpsWohIbjV9Ss4ZNkE8AYB9%2B%2BYKivskKe8ZnnXwR/wCCU0Xwi8RQ%2BJofiT4QsNvxcHjl9B8BfC%2BPQNIgYeEbzw4bO2tUvJTCG%2B1C7aVnkZnRlI%2BcOnoXwN/Yo8Q/AKPwJd%2BEfi5ZXN/4G%2BBulfDq3l1Dwu7Q3f2OSBjfNGl2rLvWFgIQ52FwfMbbtblLX/go7pPinx9Hf%2BCbi0uPAWueDPhJrvhHVYtCknvLr/hMPEGraaVmR7uFY4xFZ2ZVgC8DSTOyXOFgqx4N/wCCjR%2BJn7RXg/wR4Q%2BD/iay8A%2BI/BXizX7TxZqmhLO3iGHSbjToY59Ljsrmacxv9qlbyp7dJ5g0DQoQTkA9I/bb%2BAHxM/ah/Z61b4G/DH4qaF4On12SOLU9Y17whNrSfZFJdo4oYr%2BzKSmRYiJGkdQquvlkuGS/4%2B/Z9n%2BPnw4h%2BF37S2v2WuaY9tpd1f8A/CIJqnhydtZs7pbpb23uLbUmntohNFbvHCsjPG0RLTShgFh/bA%2BIPxf%2BHH7LXjH4t/ATUPDtp4g8OeGbvWrVvGWh3V5aNFbW7zvG9vDcW0u9lTaP3ibSckHG079v8YfD/hz4AwfHj4o6ra6Vptt4Tj1vXbtUbyraP7MJpSq/MxA5wo3MeAMk0AeKeEf%2BCaPh7wV%2BzBrP7K2l/GHXrvQ/E3xbuvF3iS41%2B/1DVpr3TrjxCdWl0YPfXszoksIWzmmDHzt9xO0fnXDtXS/Gr9l346/FH9qfwj8dtK%2BO/hOLwt4MtFOjeAvEnw7utRS31J2dbjVI7iHVbZftZtn%2BzwvJDKLdWlZVJmevFz/wUN/asg%2BEXinxL4v%2BHGgeGtesfj5Z%2BDbW0g8Jalr1zoekXehWOrQmfSrG5F1q2ox/bFt5YrJ1AO%2BZVMUDloLH/got%2B0Lqnhn4WfEHxNrPhLwR4O8ReFdZ1Dxr44vPhHr2uaZZ3Nnq8NlDHPJaX0SeHhLbmeeRdQkY2rxvDK2%2BGTIB6Vc/8E3tP8T%2BMLrQPiT8UY9Z%2BFK%2BJvFfiPSPAEGizWV9b6n4ittQt9TaXVIrzdJCV1jVzEkUMMkZvs%2Bc3lJVz4TfsBat%2BzL4m%2BIvjf8AZj%2BN%2BoWOqeOb3SXso/iPfa94ttNMt7O0jtmhaO71lZJ2fYWWUSxNGpSP50jC1maX%2B3XqHiv9tzXvgFa/EDw34c8PeE/GVr4UuLPVvAOrXlxr2py6Tb6jsi1iKeLT9MkIu0jitZ0mnnNvKygK8Zrl/Hf7af7XngPWvjR8NtB0XQ/GvibwN8NZ/EPhj7D8INe0gyagty0MVnHZ3F7LN4ghYDcbnT3SMMgjJDzIAAbF3/wTb%2BJWn6HY3fgv9pLRYPEdxp/jOy8VXGu/Dk3%2BkXcXiXUIb%2B9Nlpwv4vsLRywKsW%2Ba4Uo7iZZ2beLNh/wTT1XQfE1no/h/4%2BBvAaeKvB3iPUNH1fwubvXHvvDdrp0Fmlvqv2pFt7aX%2ByrV5ojayMxmvNsiC5bbq2n7SXxV8R/stap8VfBnx/8ADOo634Y8SPaeKLqy/Zs8U3VxZqET/QH8Mxal/asV2PPtpizOcQOJPJCMJBxPif8A4KQ/F%2B4%2BDfwQ8V%2BAvAPhl/EXjO98AXvxRgmuXvLHQdI8Q6/p%2BjBbeSCUZuppbyd7fczoqWFyZAxRVkAPZZf2KvAPjCf4xD406rc%2BJrX4w6raHVLe0mudLex0m0sre3tdNjntpxMFSSO4uDIroWkvZuFU4rhfh7/wSf8A2ffCdx4ml8T%2BNfiRrf8Aa3xIfxfoN3/wt/xVbX2iTtpUemlFvU1U3ErmL7QGlLqZEnEbAiJMbfiP4p/tY6H%2B3R4V%2BAOmfED4d6p4W8QeH9e8Q6rYp8Pr%2BHUtE0y1EFvaF73%2B13imlkvbyAY%2BzRiSK3utoQruXzTxb%2B2L%2B2X8KLT463XiTXfhx4vs/hZN4V0ex1fw/wDDzUtPKazqU8L38b2javdyah9k0%2B%2B065jtbd457qW4%2Bzx4kZNwBt6d/wAE5/jR8OP2av2ev2b/AIGftO6BYW3wJTTZ5tW8beA9R16bXb6zspLVZFzrkDWdu3nzsLYPKsSmGKJo4oQh9O8efs1fFH4p/H7wn8RfHvxc8OHwl4G8WN4j8NeHtH8CyW2rfbDp1xYqtzqb38qSQ7LqYlYrWFnAjRnKhxJ4r8Kv24v2rPj1HoHwk%2BGU3gOy8barrvi7d4l8TeBdWs7RtM0M2EZM2hTX0d/pl1NPqlonk3M5dIlafY6yRx1ctf8Agpf43%2BJsf7P2r/BfwDpKad8RV8L3vxMl1gyznQYtcsmntNNt2ieNWvTtklZ23rHDDGWjP2uF1APV/hj%2BzN8YtF%2BNGo/tC/Fv40eF9a8Uf8IMfC/h/wD4Rb4fS6PZWtqbj7SZbqKXUbqS8kEqx7QJYkRfNCqDKzVgx/sBDw38Bvg38PPh98R9Pi8YfBXVU1jQfGHiXwsdRt9S1WSwvbLULy7s47qBma5/tG8nIjuIyk7o4ZghVvJ9B/4Kj/EeD4l674O1/wD4QLUdVk03x0%2BlfDezWbT9X8M3egvK1nFrN5cXTwrHf20LzLK0FsqAq0ZuYt0y6v7PH/BR/wCKnjbwL4zm8Y6NpWv%2BJLNvD9n4B0238D6r4QutZ1fVreZ4rKXTNVmnu0tomi8xtSX9xJAl1IikWcpoA9%2B%2BDfwLs/2a/wBlaL4MWfiF9W/snSNQkudRNotus9xcST3MzRwqSsEXmzOI4QWEcYRNzbcnL8cf8pC/hf8A9kZ8ef8Ap28IU39lz4yeO/2g/wBhjw38Z/idb6TF4h8Q%2BDJLrWE0G1lgshcbJFfyY5ZZXRCVyFaRyM8sad44/wCUhfwv/wCyM%2BPP/Tt4QoA9mooooAKzfGHjLwh8PPC9/wCOPH/ivTdD0XS7ZrjU9Y1i%2BjtrWzhUZaSWWQhI0A6sxAFaVeIft/eG/EWu/BPRtW0TwpqWv2nhv4l%2BFdf8QaHo%2BnSXl1eabY61aXNwYraJWkuXhWP7SIUVpJPs%2B1FdyqkA9M0z4w/CPWvhkPjXo/xS8OXfg06e9%2BPFttrlvJphtEBL3H2pXMXlKFbL7to2nJ4rEv8A9q39lzSvhTa/HfU/2kvANt4Hvbn7PZ%2BMp/GNkmlTzbmXy0uzL5LvuR12hicow7Gvmzw18PbT4k/sn/Fvw94v0Lx14R07xP8AEu/8eeE7b/hWWqXV3Z2sWswXdrK%2Bmi38yZri9s3vJNOwty8N2Q8cbSHHkY%2BGn7RU1xH8fPiNq3xL0iy8RftF6l4n0/x58O/g/dR65oNl/wAIXbaMssXhq6ttSntYLu6t7pCLq3uJESRJnEUlx5sQB%2Bkmi61o/iPR7TxD4e1a2v8AT7%2B2juLG%2Bsp1lhuIXUMkkbqSroykEMCQQQRXh37H/wDyb1q//Ze/HP8A6sDVam/Yu8CfFrwZ/wAE/Ph38O7DRNN8D%2BLNM8C2VnbWmu6NPeQ6fIkYVDc2gu45S5QBnh%2B0Bkd2XedvOV%2Bwzb%2BJbT9li4tfGWrWN/q8fxv8aLqd9pmnPaW1xOPH2q%2BZJFA80zQoWyQjSyFQQC7YyQDu9f8A2Jv2MvFeu3vinxT%2ByP8ADHUtT1K7kutR1HUPAOnTT3U8jF5JZJHhLO7MSzMxJJJJOTVT/hgf9hX/AKMs%2BEv/AIbnTP8A4xXnfj//AILKf8E3Phf471v4aeOv2jvsOt%2BHdXudM1iy/wCEQ1iX7PdW8rRSx747Rkfa6MNysVOMgkc1kf8AD83/AIJZf9HRf%2BWTrn/yFXgzxvDCm1KdG93e/s736303ve5p/wARNxND90s8nHl0t9bqq1tLW%2BsK1rWtZWtaytZezaB%2BxN%2Bxl4U12y8U%2BFv2R/hjpup6bdx3Wnajp/gHToZ7WeNg8csciQhkdWAZWUgggEHIrW/aa%2BCdl%2B0n%2Bzp47/Z71DX5dJh8b%2BEdQ0N9VggEr2f2q3eETBCQHKFw20kBtuMjOa8a8A/8FlP%2BCbnxQ8d6L8NPAv7R327W/EWr22maPZf8IhrEX2i6uJViij3yWiom53UbmYKM5JA5r3H46/GHw5%2Bz78HvEfxv8ZaZqN1o3hXSpdT1lNKhSSeKziG6eYK7oGWOMPKwznbG20M2FPoYGtltaEng5QaT15OW1/PlS1t3JlxJU4k/ezxrxPJpd1ZVeW%2BtryqVLX3smr726nkfiL9ib4heP9B%2BLsvj34%2B2sXiT4t/DvTfDN9rXhPwrNpsOmyWY1ELcxRSX08jI4vwGiMwOImxIPMGzhvgj/wAEpovhF4ih8TQ/EnwhYbfi4PHL6D4C%2BF8egaRAw8I3nhw2dtapeSmEN9qF20rPIzOjKR84dPRfjP8A8FEPg78FtL8Xa5qnhvU9QsfBXi2z8N6xqI8QaDpVo9/cabFqISG41fUrOGTZBPAGAffvmCor7JCnI2v/AAUd0nxT4%2Bjv/BNxaXHgLXPBnwk13wjqsWhST3l1/wAJh4g1bTSsyPdwrHGIrOzKsAXgaSZ2S5wsFdxJ1fwN/Yo8Q/AKPwJd%2BEfi5ZXN/wCBvgbpXw6t5dQ8Lu0N39jkgY3zRpdqy71hYCEOdhcHzG27W6z9o34BeOPip4g8H/Ez4P8AxP07wj4z8E3t4%2BlaprXhp9XsZ7W8tWt7m2ntUurV3B/cyqyzIVkt4870Lo3mHg3/AIKNH4mftFeD/BHhD4P%2BJrLwD4j8FeLNftPFmqaEs7eIYdJuNOhjn0uOyuZpzG/2qVvKnt0nmDQNChBOfSf2pPjR8QPh7o3gXwt8HE0iHxR8SfG9v4d0LUPE%2Blz3FlpubK81Ce5ntY5reWbba2FwFiEsRMjICyjNAFPw7%2ByxrHgL9l21/ZW8GeKfC%2BoaHpngew0Kx/4TvwS2sR3k8e4XdzqEC3kEd3HcJtzAgh2OZG3urqied2f/AATXi8N/s8v8F/CN78JHvNW8ZTeJPEc/ib4Hw6joyXbwJbxHTNJF/FHpxt4IbaKAvJcbUg%2BcSs7Oeh0r9rr4pv8AsE%2BNf2j3%2BHdlrHjjwL/wlemX2iaPDcCz1DU9D1K%2B02WaGMGSdbeWSyM4iBklWN9mXcZPJ/BH9sz4j/Hrwf8AEzR/BX7TXwgur/4YahZXeofFLS/A17feGdR0efTzdM0dsmsqySwyJPG8i3s0Y8g5UOzRxAH0V8DfhB4U/Z9%2BDHhT4F%2BBTcHRvB/h2z0bTHvJA80kNtCsSPIwA3SME3M2BliTjmuqr4aH7df7Yeg/DX4IePvjNqPhDwJpXjf4a6l4q%2BIXjCf4JeIdX0vRJBdac1haXH2TUwmig2V5O8095PJEslpIQyqCK9AX9u6%2B8Qftva7%2Bz5Y/ELw14b8P%2BEPFmm%2BGL6DWPAWrX82vald6Va6kkcWrwzxafpbMl7BFDDcLNLcSRTbFAKEgH0jd/wDI7af/ANgq8/8ARltWpWXd/wDI7af/ANgq8/8ARltWpQAUUUUAFFFFABRRVfVNV0vRLCXVda1K3s7WBd01zdTLHHGvqzMQAPrQ2krscYynJRirtliivAPit/wVN/4J%2BfByV7PxZ%2B1J4ZurtW2fYPDk76tOX6BNlkspVs8YbHviuH/4ei%2BNviP%2B6/Za/wCCfHxj8bh/%2BPfVdZ0iPw/pc/oVurpjx65QYrzKmc5XTnye1Updo3m/ugpP8j7bB%2BG3HWNw6xH1CpTpP/l5W5cPT/8AA8RKhF/Lm9D63or5H/tz/gtB8X%2BNN8D/AAb%2BD9hL986tqVzr%2BqQZ/u%2BQBbMR3zQP%2BCcX7R3xL/fftM/8FOvitrIk5m0/4fx23he1Yf8APNlt1cuvbnBPtUf2liKv8DDTl5y5aa/8mbf/AJKdX%2BpOUYHXNc7wtJ9Y0nVxc/8AyhCNO/8A3Gt5s%2Bn/ABp8Rvh78NtNOs/ETx3o2gWYBJu9a1SK1j46/NKyj9a8E%2BIH/BXr/gnZ8Pbz%2ByZv2ldK1y/ZtsFj4RtLjV3nb%2B6jWkckZP1YD3qr4L/4I6f8E9/Cepf8JBrPwNPizVmIM2qeNdbu9UkmI7uk8piP/fFe9/D/AOD3wk%2BE9l/Z3ws%2BF3h3w1bhdvkaBokFmmPTESKKL55V6U6a/wC3pv8A9siHL4WZfu8ZjJeSoYWD%2B/6zVt8k7dmfNi/8FTfEvjLn4Gf8E8Pj14ohb/UalfeEk0qym90mnkOR7lRS/wDDUH/BVfxx8ngX/gmnofhiJv8AVX/jb4rWkoPu0FqnmL9M19a0UfUMfP8AiYuX/bsYR/ST/EX%2BtnCeG/3Ph%2Bh5OtWxVd/Ne0oQfpy2Pkk%2BBv8AgtL8RTs8RfHX4IfDiB/uv4S8M3ur3MQ/2hfERlh7cUD/AIJvftEeNvn%2BOX/BUz4zamz/AOvTwQ9r4bjf1ASBJNo9hX1tRR/Y2Fl/FlOf%2BKpP8k4L8B/8RKz%2Bhpl9DC4X/rzhMOn/AOB1IYif/kx8lx/8EV/2IdYcTfFO18deO5c5ebxf8Q9RnZz6t5MsYP5V2nhP/glX/wAE6/Be3%2Bx/2QvBk2zp/a2nm/8Az%2B1NJn8a%2BgKKuGTZRTd44eF%2B/Km/vfM/xOXFeJfiJjafs6ub4nl/lVapCPyjTdOK%2BUUcR4a/Zm/Zv8FqieDv2ffBGkhPuDTfClnBt%2BmyMYrsrSys9PgW1sLSKCJfuxwxhVH0AqWop72ztf8Aj5u4o/8ArpIB/Ou%2BFKlSVoRS9El%2BSR8lisfjsdLmxVadR95zlJ/fKUvzJaKqRa7oc7bINZtHPolwpP8AOpZdQsIF3z3sKD1eUCruu5yc0X1Jq8Z/Zf8A%2BS3/ALR3/ZZrH/1CvC9eieIvi98JvCCGTxZ8UPDulqBktqOtwQAD/gbivKf2MPGXhD4gfE79obxb4D8V6brelXXxntBa6npF9Hc28xTwb4ZjfbJGSrbXVlODwykHkGpVSnKXKpK/a6v917/gQqtKU%2BRSTfa6v917/ge8UUUVZoFFFFABRRRQAUUUUAFFFFABRRRQAUUUUAFFFFABRRRQAUUUUAFFFFABXwZ/wUu1T%2Bwv%2BCq/7D%2BqbsbtU8Y2uf8Arv8A2HFj8d1fedfnX/wWOvJdI/4KDfsS6%2Bhwln491E3Df3Yn1Tw3Gx/8frzM4lyZbOXblf8A5PTPuPDegsTxphaL%2B2q8fvwuL/yR%2BilFFFemfDhRRRQAUUUUAFFFFABRRRQAUUUUAFFFFAGV4w/5BMP/AGFLH/0rirVqG/sLTU7R7G%2BgEkUgwykkd8g5HIIOCCOQRVD/AIQ/Sf8An71T/wAHl3/8doA1aKy/%2BEP0n/n71X/weXf/AMdo/wCEP0n/AJ%2B9V/8AB5d//HaALOvaFo/ijQ73wz4i02K80/UbSS1vrO4TdHPDIpR42HdWUkEehr518E/8EwfhR8NPhH4D%2BGHw8%2BNXxH0rUPh9rep6ppfjldT0%2B51u8lv0miuhdSXNlJBJuim8pXWFJY0hiEbptJP0D/wh%2Bk/8/eq/%2BDy7/wDjtH/CH6T/AM/eq/8Ag8u//jtAHg3gb/gmJ8A/h/4a8PeFdE8W%2BMJLbw14a%2BHmh2DXepWzyPbeDdVu9U0tpG%2BzjdJLPeSrcNwHRUEYhYF2tfDb/gnd4F%2BFPxE0v4geEvjr8RFXwv4b13QvAehXF5pslh4Ws9VmtppktENjvlMT2kHkm6e42Kmw7k%2BWvb/%2BEP0n/n71X/weXf8A8do/4Q/Sf%2BfvVf8AweXf/wAdoA5v9oD4Jt%2B0B8Dtd%2BBt58UvEnhm38R6U%2Bm6nr3huPTzftbSIY50X7ZaXEC%2BZGWRj5OQHJQowDDO8Mfs06DZ/CTSvgf8UfG%2BqfEfw1Y%2BHrjR9V0zx5o2j3MOvQvLE0LXsUFhDE7QRxGGNY0jjZJHMyTSBJE7X/hD9J/5%2B9V/8Hl3/wDHaP8AhD9J/wCfvVf/AAeXf/x2gD5%2B0P8A4JT/ALKfw7fVtT%2BAGjT/AAv1fUPiNb%2BNdO1r4e6RpNjLo2oQ6O2jrFbRNZPbtbG0mvQYZ4plD6jdOu1nBXT13/gnn4S1r4Kf8M5xftCfEix8Fala6rD430O0udK/4q9tUvLi81OW%2BuJNPa4ikupru6MhspLUATsECYXb7d/wh%2Bk/8/eq/wDg8u//AI7R/wAIfpP/AD96r/4PLv8A%2BO0AeV6/%2Bw58NvEHxnk%2BLL%2BOPFFrp934t0/xVq3gWzns00bUtdsbWC2tNRlzbG6EkcdrZ/u47hIGa0iZombcWZoX7Gl7pnim/wDiPrX7VfxM1zxdJ4al0HQPFmqroQuvDtjNcwXM6WkUGlx2rtLJbWxd7qG4ZhAgzjOfV/8AhD9J/wCfvVf/AAeXf/x2j/hD9J/5%2B9V/8Hl3/wDHaAPKNA/Y0v8Awf4Z1iy8E/tW/E3SfEfifxUfEHi3x1Amgzanrdz9it7FEmjuNKksooktrS1jVYLaLHkKc5aQvy/jj/gkh%2BwL8R/hl4Y%2BGvjb9nnw1q0nhWfQ2svFOr%2BHbC%2B1q5i0zUodQW2uLy6t5JJYLmSJ47iPgSRXVwg2eZke/wD/AAh%2Bk/8AP3qv/g8u/wD47R/wh%2Bk/8/eq/wDg8u//AI7QBg%2BHfgh4U8O/HLxR%2B0HHqGo3ev8AinQtL0a4F5LG0FlY2D3ckMNuqoGQNLe3EjlmYszDkBFUcbqX7EPwt1L4M%2BIfg43ijxLEfEfxBk8bXHiiG9gGqW2tjV49WtrmJzAYSLWeC2jhjkidPItYopFlG7d6h/wh%2Bk/8/eq/%2BDy7/wDjtH/CH6T/AM/eq/8Ag8u//jtAHhs3/BOnwWunpq%2Bj/tA/EnTPHL%2BItR1jUfihp95pa63qEt9aW9ndRSq1g1ksLW9nYxhIrWPy/sUDoVdN5TxT/wAEqf2BvFY8CT3X7M3g%2BG%2B%2BHl1osmh6ynhawl1CaDSrZbaytLi6ngkmmgSKOJdpYHEMeGG0V7n/AMIfpP8Az96r/wCDy7/%2BO0f8IfpP/P3qv/g8u/8A47QB5P43/YZ8A/F7X/FOqfHn4meMPHVh4k8Ma54ds/D%2BvT2ENloOmauojvrezFjaW8pLxKkKzXEk8yRqVWRfMl309D/4J2/ADVJdZ1D9pG3l%2BOWoa3HpcNxqHxj0TSNT8mDTVvRZRRQQ2MFshiOpagwl8ozMbybdIwIA9k/4Q/Sf%2BfvVf/B5d/8Ax2j/AIQ/Sf8An71X/wAHl3/8doA89%2BCf7Mfwk/Y7/ZXj/Z7%2BCOgR6d4e0HRbtbZFtbeF5ndXd5ZRbxxo0jMxJYIM96z/ABx/ykL%2BF/8A2Rnx5/6dvCFeonwZob4Wdr6ZMgmK41a5kRvZlaQqw9iCK8u8cf8AKQv4X/8AZGfHn/p28IUAezUUUUAFFFFABRRRQAV4J%2Bx//wAm9av/ANl68c/%2BrA1Wve68T/YesLTU/gLr9jfQCSKT4y/EYMpJH/M7a0QcjkEHBBHIIoA9sorK/wCEP0n/AJ%2B9U/8AB5d//HaX/hD9J/5%2B9V/8Hl3/APHaANSqmvaFo/ijQ73wz4i02K80/UbSS1vrO4TdHPDIpR42HdWUkEehqt/wh%2Bk/8/eq/wDg8u//AI7R/wAIfpP/AD96r/4PLv8A%2BO0AfP3gn/gmD8KPhp8I/Afww%2BHnxq%2BI%2Blah8Ptb1PVNL8crqen3Ot3kt%2Bk0V0LqS5spIJN0U3lK6wpLGkMQjdNpJseBv%2BCYnwD%2BH/hrw94V0Txb4wktvDXhr4eaHYNd6lbPI9t4N1W71TS2kb7ON0ks95Ktw3AdFQRiFgXb3n/hD9J/5%2B9V/wDB5d//AB2j/hD9J/5%2B9V/8Hl3/APHaAPEPht/wTu8C/Cn4iaX8QPCXx1%2BIir4X8N67oXgPQri802Sw8LWeqzW00yWiGx3ymJ7SDyTdPcbFTYdyfLXpHxz%2BAeifHfwbpfhzV/Gmu6Jqmga1a6x4e8WaA9quo6ZqEAZVuYhPBLbsWjkmidJIXjeOaRSmDx0//CH6T/z96r/4PLv/AOO0f8IfpP8Az96r/wCDy7/%2BO0AcX8Nv2bbD4RfDCH4V/D34q%2BKrC1TTtXW41EmwmvLrVNSumvLjWpHltGU3v2mW4mACi2L3Mm6BwIwnM3P7CvgDXfgr8Qfg747%2BJ/jLxHN8VW2%2BP/F2qXNjHqmrW/kRWxtD9mtIraC3NrF9n8uGCMbJZWGJZHlPrX/CH6T/AM/eq/8Ag8u//jtH/CH6T/z96r/4PLv/AOO0AcF%2B0b%2BzCv7SPhuf4f6x8cvGvhrwpqejT6T4l8LeFTpkVtrdlMpSWGaW4sZrmANEzx7rWaBwrnDBgrLi%2BIv2FPhh4g%2BLLfElPGniew0u68T6R4l1rwJp89mmj6trWlw20NhqE%2B62a6EkKWVgAkVxHE32GDfG21t3q/8Awh%2Bk/wDP3qv/AIPLv/47R/wh%2Bk/8/eq/%2BDy7/wDjtACXf/I7af8A9gq8/wDRltWrVLTfD2l6VcNeWyzvMybDLc3cszBc52gyMxAzzgelcT8e/wBrL9m39l/RzrXx7%2BM%2Bg%2BGkMZkhtb69Bup1/wCmVum6aX/gCNWdWtSoU3OrJRit22kvvdjswGXZhmuLjhcFRnVqy0UIRlOT9IxUm/u9Wj0Oivi7xN/wUv8Aj78XtMfU/wBjr9llrLw4QSPin8bdRHh7QgvaWKFmE91Ef7yFSMHK188fEH4%2B%2BAPiZrZ8NftY/wDBUvxZ8Rb2fJb4W/sweHporKRR96Jry3RjdxknGHdW5HPp4WJ4jwVJfulzX2bahF%2Bkp2cv%2B3YS8rn1eM4Ry/htKXFea4fL3/z6lP2%2BJ9Pq9BzcZeVWrTae8Vsfenx//wCCgv7Gv7MU76b8ZPj/AKFp%2Bpodp0Ozma91Dd2BtrYSSrk8AsoGe9eUn/go/wDtA/GUfZv2N/8Agnl8QvEUMvEHibx%2B0XhvSyP%2Be0bTlnnQeihWPQV5T%2Bz34j/4U7FHP%2Bwb/wAELvF0Lhfl8QfEPUrLw/qMi/3jPfmedgeu3fjngCvWm%2BOH/BYnxSPs%2BgfsNfDTwq8nCXHif4l/bo4vd1s0DMP92uT%2B0cZitXUlFdqVGcn/AOB1IxXzUEef/rr4WZVpluWYnHzW1TEKrTpt91Qw8YaeU8S/MjT9nn/gqt8dj9q%2BN/7Z/hn4XadLy3hz4ReGftExU9A19enzI3A6mMFSenGKtaX/AMEbf2TtXv4tc%2BP/AIk%2BIfxc1KJt63nxI8d3d2A/qI4WiTHorBhj1qAfAn/gsJ8Rv3/jf9uj4c/D3dy9p8PvhsNUUeqh9SZWH160P/wTU%2BO/jQfZ/jT/AMFQ/jTq1s//AB823ha5ttBWYd1PkI5CnuO4prCU6ussHUqvvVnH8pTaX/gBMvGPj%2BMXDKMM8FDZLDww%2BE085x9pXfm5Vm31uex6D8Mf2Lv2QNKTUdE8G/Dj4c2yof8AiYG2sdMLgdS0zbWc%2BpZia4Xxx/wV0/4JufD26az1/wDa38M3DrnJ0MXGpr%2BDWcUqn8DVDwP/AMEdv%2BCfHhDUDr%2Bs/A0eLdWcg3GreONZutVlnI7us8hiP4IK908CfA74K/C62Wy%2BGfwg8L%2BHYVA2xaHoFtaKMe0SLXpU6ebqHLThSpR7Lml%2BEVTifE4zH8Y5viHXxdSHO95VJ1a8/nKUo/n6Hzk3/Baz9iXWR5XwvPj/AMcXDf6m08J/DrUZZJf90TRRA/nSD/gox%2B0/4z/efBf/AIJUfF3UIm/1T%2BNbuz8OFvQkTtJtFfW9FafVM1n8eJt/hpxX4yc/yOX6jnVT%2BJjOX/BSgvxnKb/A%2BSh%2B0T/wV31n/S9O/wCCdHgvRoz0tNX%2BLlvcSj6tAm2g/GX/AILIah/o9n%2Bxl8KdPc/8vF/8RJJox/wGJN1fWtFH9m13viqv3wX5Uw/sjEvfG1vvpr8qR8lH/h%2BH4k%2BX/jGjw3C3Vh/bl5cL9P8AlmaT/hnn/grz4n/5Dv8AwUQ8EeGN33h4a%2BE0F7s%2Bn2txn8a%2BtqKP7Jpy%2BOtVl/3Ekv8A0lRD%2BwqUv4mIrS9asl/6SoHyV/w78/bG8Q/8lE/4Kx/Em53ff/4Rrw1p%2Bj5%2BnlbttA/4JLaRqf7zxl%2B39%2B01rTt99Ln4rMkX0CJANo9s19a0Uf2Jlr%2BKDl6zqP8AOYf6u5Q/jg5f4qlWX51P0Pkr/hzV%2BzLP82rfFf4w37n70l58Trws3124o/4cu/sdHl9b%2BJTHuzfEnUMn/wAfr61oo/sPJ/8AnxH7n/8AJB/q3kH/AEDQ%2B5/rJnyV/wAOUP2Frv5fEGkeNtWj/wCeWo/ETU2X6fLMtS2//BDz/gl3B8zfswiV%2BrPP4x1lyx9Tm8r6woo/sLJf%2BgaHzin%2Bdw/1b4e64Sm/WCf53PlWX/giT/wS9mXa/wCyvagf7HinVlP6XdRRf8EPv%2BCXELbk/ZaiJ/2/F%2Bst/O8r6vop/wBh5L/0DU//AACP%2BQ/9W%2BHv%2BgOl/wCC4f5HzX4e/wCCP3/BNXww4k039kvw/KQc/wDEwubu7H5TzOK0/wBhn4bfD/4Q%2BPP2gfh18LfBum%2BH9B074y2gsNI0i0WC3g3%2BDfDMj7UQADc7ux9WYk8mvoGvGf2X/wDkt/7R3/ZZrH/1CvC9dWHwOCwjvQpRg/7sUvySO3C5bl2Bd8NRhB7e7GMfxST/ABPZqKKK6jtCiiigAooooAKKKKACiiigAooooAKKKKACiiigAooooAKKKKACisD4pfE3wl8G/AWo/Evx0%2BpLpWlRo92dI0K71O5IZ1jUR2tnFLPMxZlG2ONjznGATWOf2jfgun7Ptr%2B1PL43jTwHfeGbbxBaa7JZzr5un3EKTQSLCU84vIkibYtnmlnCBNx20AdvX5y/8Fy/9A%2BOHwF8X9P%2BEeg1XUd393b4j8Hpn/yJX3T8F/j18Mf2gNF1LXPhlquoSjRdWbS9asNZ8P3ulX2nXghin8i4s76GG4gcwzwSqJI13RzRuuVdSfhv/gvlazP4d07V7Rcz6V8I/EV7B7Mni3wJk/8AfJavKz3/AJE2IfaDf3Wf6H3/AIVNf8RLyeL2niKcP/BjlT/9yH6K0VHZ3UN9aRXts26OaNXjb1UjIqSvV3PgWmnZhRRRQIKKKKACiiigAooooAKKKKACiiigAooooAKKKKACiiigAooooAKKKKACiiigAooooAKKKKACiiigAooooAKKKKACvGfHH/KQv4X/APZGfHn/AKdvCFezV4z44/5SF/C//sjPjz/07eEKAPZqKKKACvMP2tvjJ4y%2BDHwwsL74a2emS%2BJfEnjDRfDWgSa3BJLZWtxqF/DbG6njikjeWOGOSSbylkjMpiEYePfvX0%2BuN%2BPHwS8NftA/DqX4d%2BJtY1PS9upWOp6XrWiTRx3ul6hZXUV3aXcDSxyR7454Y22yI8bgFHR0ZlIB4nf/ALY/xn8M/sh/ET4ka74e8PXvjn4b%2BN5vC2t31hpt0mjALfW0X9stbedJOlrDZXcd9PAJmZBDNGJjgS15hH/wVb13UPCY8FeFfHngvxD4nf4yz%2BBrP4g%2BFPAuraxouowReHYfEDahZaPYXU15enyrhLTyYbpgZEln83ykK19L/Dn9lgfCn4e6t4G8F/HrxxBda5JeXupeJpV0mXUJtWurp7ifVSXsDD55LiMReV9lSKKNEgULWCf2DPBEXhe0j0/4weN7XxpaeN5vFzfFKOTTH1y41eawbTZZ5FksWsWVtPYWgh%2ByCJIootiK0aOoB23w/wDjj4Duv2ddH%2BPXjb4zeE7jQpdAhv8AUvG9v/xKtIkUqN9wFuppDaRls/u5ZWaM/IzFga4n/gnT4n8NeNf2br7xh4N8Q2Or6Rqnxb%2BId3pmqaZdpcW13BJ4z1po5YpUJWRGUhgykgggg16V8Efg94R%2BAPwq0X4QeBWvH03RLYxxXGo3HnXNzI7tJLPM%2BAGlkld5HIABZzgKMAcH%2Bwf/AMkQ1z/ss3xH/wDU11ugD2aiiigAooooAKKKKACiiigAorhPj/8AtN/AT9lrwcfHnx%2B%2BKWleGdOORA19MTNcsOSkMKBpJ277Y1Y45xivifXP%2BC2Hxe/aW8Wz/Cz/AIJjfsf63431GNtkvinxTEbfT7TPAeSNHUIh6hppoTxjaeleXjs5y7L5qnVn772jFOU36Rjd/fYzhUlXryoYaEqtSK5nGnFzcY/zSt7sI/3qk6cf7z2P0N1LUtO0bT5tW1e/gtbW2iMlxc3MoSOJAMlmZiAoA6k18kfHH/gtF%2Byn4C8SH4YfAOy1340eNpSyWnh34a2DXsbuBnm5UFGX1MImI7rXI6b/AMEs/wBor9rEW/ib/gqF%2B1zrXiWDek8fwy8ByjTtDtmViyrKyopuCAxXcESRe0zjmvrL4Ffsz/AL9mXwwPCHwE%2BEuieF7Iqon/syzCzXO3gNNM2ZJ2H96Rmb3rm9rneO/hRVCHedpT%2BUE%2BWP/b0pPyMPbY%2BT5Y0VB95yU/uhTaT/AO3qqj5M/PT4jeOv%2BC/H7ad0dM8D/BOT4M%2BErrK4h1u306%2BVSPlMtzMWuwRnJMMMWQMYzWv8Bv8Ag3uiTWh8Qv2qP2ldXv8AXZphcXEPgZ3gkE%2B3aWbUrvzLmUHuAIua/S2iuePC2Bq1va4yc68v78tF6RjypHuVs84jxWXvAVMbOOHas6VFRw1OX/XyOHVOdX/uNXqr%2B6fLPhr/AIIw/wDBO7RNTTX/ABB8E7nxTqSEFtQ8W%2BJ9Qv2kx/eSSbym/FK%2Bh/h58Kfhf8I9FHhz4VfDjQvDWnqBiy0DSYbOLjp8sSqDW/RXs4bL8Bg3ehSjF91FJ/fa/wCJ8/hMryzAO%2BGowg%2B8YpP77X/EKKKK7DvCiiigAooooAKKKKACiiigAooooAKKKKACiiigAooooAKKKKACvGf2X/8Akt/7R3/ZZrH/ANQrwvXs1eM/sv8A/Jb/ANo7/ss1j/6hXhegD2aiiigAooooAKKKKACiiigAooooAKKKKACiiigAooooAKKKKACiiigDnPi5rXiDw/8ADTWtV8K/DzV/FeopYstp4e0G4soru8Z8Jtje%2BuLe3UgMWPmSoMKcEnCn5V8NfCb9pHxd/wAEj9A/ZJ1n9mLW9D8YaP8ACPRNA1TSPEWs6I6XctjHaW93Ba3FpfXEcdxLFDM9rO%2B1I3MLuY2UqPs2igD57/4J8/Brx38ING%2BI03ibwB4j8LaR4n%2BIJ1fwxonjnxTHrviCK2/srT7aV9R1FLu8a5dri2nMXmXVw8duII/MVESCH5y/4K8/DLxImseKNV1b4s%2BIdes9T/Z18dXdhoGq2unJaaILfXPBsrLbNbWkU7htoLfaJZyNg2lfmz%2BiNfHn/BTjRv8AhIPEep6Uqbmf9kv4sNGvq63HhZ1/8eUVw5nD2mWV494T/wDSZH1PA2J%2Bp8b5XX/lxOHf/lel/mfTPwK1r/hI/gj4O8Q7932/wrp1zu9d9tG2f1rqq8o/YQ1n/hIf2I/g/rJfc0/wx0FpD/t/2fCG/wDHga9XrbCT9phKc%2B8Yv74xf6nm8QYb6lxBjMP/ACVq0f8AwGrVj/7aFFFFdB5AUUUUAFFFFABRRRQAUUUUAFFFFABRRRQAUUUUAFFFFABRRRQAUUUUAFFFFABRRRQAUUUUAFFFFABRRRQAUUUUAFeM%2BOP%2BUhfwv/7Iz48/9O3hCvZq8Z8cf8pC/hf/ANkZ8ef%2BnbwhQB7NRRRQAUUVzvxX%2BK/gH4I%2BAr34mfE3XG0/R7B4I5porOa5lklmmSCCCKCBHlnmlmljijijRpJJJERFZmAIB0VFed2X7VvwEvvgXdftIp46aHwhYyTw317eaRd29zbXMNybSS0kspYlukuhcqYPsrRCYy4jCFyFNcftgfs8x/A3xB%2B0ZqXji403wr4U89fEk2s%2BH7%2BxvdNlhClreawuIEvEnIePZAYfNl86Ly1fzE3AHpleM/sH/wDJENc/7LN8R/8A1Ndbr1TwZ4v8O/ELwfpPj7whqP2zSdc0yDUNLu/JePz7aaNZI32uAy5RlOGAIzggHivK/wBg/wD5Ihrn/ZZviP8A%2BprrdAHs1FFFABRRRQAUUV4B%2B3l/wUb%2BAH7Afgb%2B2fiRqn9peJL6Bm8P%2BDdOmX7ZftyA7Zz5EAI%2BaVhjghQ7DacMVisPgqEq1eSjGO7f9fct2ZVa1OhDmm92krJtttpKMUk5SlJtKMYqUpNpJNtI9Z%2BMHxm%2BFnwB8AX3xS%2BMvjmw8PaBpqbrvUtRl2qCeiKBlpHY8KiAsx4AJr86fjJ/wW8%2BPP7SPjaX4Cf8EuP2etV1rV5wUHinWdNEkkSnjzktSfLt4wcETXThcH5oxXNfCv8AYr/bW/4LD/ESw/aU/b08Q3/gn4ZW83n%2BFfBdgGgmmtzyv2eJ8%2BSrjBa6lBlkGNgCFWX9Lvgb%2Bzz8E/2afBMXw7%2BBXw10vw1pMWC1vp0GHncDHmTSNl5nx/HIzN718yqudZ%2B70G8Ph3tJr97Nd0npBPo3r1PoI5Ng8vhz57KftOmFpSUJL/sKxC53Sb64fDqVaK0rV6M704fB/wCz1/wQz8TfFHxov7QP/BT/AOM%2BpeP/ABPdESP4ZttVla3iGSRFPc/KzqM48mARRrjAZ14r9Cfh78N/h98JvClr4F%2BGHgrS/D%2BjWa4tdL0exS3gj9SEQAZPc9SeTW1RXtZdk%2BX5XF%2Bwh7z3k9ZS9ZO7f4LyMMVm2IxGFWDpRjRw8XzRo0o8lNS25nFNuc2t6tWdWq%2BtRL3Qooor0zywooooAKKKKACiiigAooooAKKKKACiiigAooooAKKKKACiiigAooooAKKKKACiiigArxn9l/8A5Lf%2B0d/2Wax/9QrwvXs1eM/sv/8AJb/2jv8Ass1j/wCoV4XoA9mooooAKKKKACiiigAooooAKKKKACiiigAooooAKKKKACiiigAooooAKKKKACvmn9r/AEX/AIST9ozSPDuzd9v/AGafifbbfXfeeFFx%2BtfS1eI/E3T4dW/b3%2BHGlXH%2Brufgj4/if6NqnhEH%2BdRVh7SlKHdNfemv1OrA4h4PHUsQvsTjL/wGUZf%2B2mV/wSk1n%2B3v%2BCdHwhvt%2B7y/B8Nvn/rizw4/8cr6Dr5T/wCCJOoTXv8AwTL%2BG9rd8T2B1eznX%2B6Y9WvFA/75219WVwZNP2mT4eXenD/0lf5H1niVh1hPEbOaK2jisQv/ACtUf/twUUUV6R8SFFFFABRRRQAUUUUAFFFFABRRRQAUUUUAFFFFABRRRQAUUUUAFFFFABRRRQAUUUUAFFFFABRRRQAUUUUAFFFFABXjPjj/AJSF/C//ALIz48/9O3hCvZq8Z8cf8pC/hf8A9kZ8ef8Ap28IUAezUUUUAFeQftr/AA38ffEP4T6RffDLwy2u6x4T8f8Ah3xPD4dS7hgfVotP1O3uJ7aOSd0iWYwpIYvNdIzKsYd0Ul19fooA%2BT/CvwJ8d%2BJ/2dvih4e%2BMn7P3jO2u/Hfje88cafoHhzX9GXUtLuEv4JNOt4Z2vfsy6lEbC1vSWc2glk2edKA2fMIP%2BCe/wC2H45%2BFHjfxZ/wtqTStb8W/EnUPGcnhL4saDaa/eajKnhzT9F09b1tH1CxsYLiNrBrqNYGktoXktTtZ7VXr7/ooA8m/Zz%2BFXxd8N/sW%2BBvg38RPHcvh/xjpngTTdM1PW/CmnWqSafcxW8aEQx3ZvoGdAuws/mo5DMAAwAxP%2BCdOk3%2Bg/s3X2iar4nvtbubP4t/EOG41jU44Eub518Z60DNKtvFFCHcjcRHGiZJ2qowB7pXjP7B/wDyRDXP%2ByzfEf8A9TXW6APZqKKKACikZlVSzEAAZJPavzY/bl/4KY/FP9qH4ww/8E8/%2BCZV617rmtXD2fiX4iWMxENlCvE4tZlzsjjXPmXQ6Y2xZYq1ebmeaYbK6CnV1k3aMVrKUuiS/XZbsKcMTicTDC4Wm6lad%2BWCsm%2BVc0pNu0YQhFOVSpNxhTgnKT%2BGM/W/21/%2BCn%2BreF/iMv7G/wCwf4ST4i/GfU3a3lS1Al0/w5jh5bl8hDImclCwSPrKwwI3Z%2Bx5/wAEhPB/w58cN%2B01%2B2Z4vb4tfF3UZlu7vVNZzLp%2Bmz8EC3icfvGTgLI6gKFXy44ttet/sI/8E/8A4I/sF/DQeFPh1pwvvEGoRI3ijxdexg3mqzjk5PPlwhidkQOF6ksxZ291riw2V1sZVjisztKa1jDeFP8A%2BSn3k1ptFJavXDRllmJ9vTqc9dJr2iulC6aao3tKKabi6rtWqJtL2NOXs5FFFFe%2BZBRRRQAUUUUAFFFFABRRRQAUUUUAFFFFABRRRQAUUUUAFFFFABRRRQAUUUUAFFFFABRRRQAUUUUAFeM/sv8A/Jb/ANo7/ss1j/6hXhevZq8Z/Zf/AOS3/tHf9lmsf/UK8L0AezUUUUAFFFFABRRRQAUUUUAFFFFABRRRQAUUUUAFFFFABRRRQAUUUUAFFcx8aND8W%2BI/hbrekeBfiVqXg/VZLMvaeI9IsrS4ubIowdjHHeQzQMzKrJ%2B8jcDfnBIFcF%2Byx4k%2BI/7RH7Avwv8AHHif4oappfivxl8KtA1TVvFuiWNgt0l9c6fbzzXEcU9tLaqzO7naYGjAYgKMDAB7JXjPjj/lIX8L/wDsjPjz/wBO3hCsf/gnP4r%2BLfxE%2BDGv/En4mfGjW/HGl618QNY/4V/qniDTtMt7oeH7af7DbO39m2lrDItw9rNeo5j3eXeRqT8oArX/AMTvDfjH/gpt4L8GaTpviGG88PfB7xxHfzar4R1GxtJS%2BreEsG2urmCOC9A2nLW7yBcjcRuXIByX/BGX/iX/ALJuteEOn/CPfFPxLp2z%2B7tv3fH/AJEr60r5L/4JOf8AEtsv2hPCDcf2R%2B054rjhX0hc2zofxy1fWleTkWmUUV2TX3Smv0P0DxU97xEzKp/POM//AAZRw9T/ANyMKKKK9Y/PwooooAKKKKACiiigAooooAKKKKACiiigAooooAKKKKACiiigAooooAKKKKACiiigAooooAKKKKACiiigAooooAK8Z8cf8pC/hf8A9kZ8ef8Ap28IV7NXjPjj/lIX8L/%2ByM%2BPP/Tt4QoA9mooooAKKK8h/bX%2BJHj74efCfSLL4ZeJW0LWPFnj/wAO%2BGIfESWkM76TFqGp29vPcxxzo8TTCF5BF5iPGJWjLo6gowB69RXylYfGX9qif9kP4oWHg3xBqPirx38PviNd%2BGbfxRa6Day6lfaXFfWrTX8dnDElvPfwadcy4iSIRzXNqAIQJPKrk/h/%2B0n4y8cfA34s638QP2s/ib4H0b4P/Es6RbeN774f6TZ%2BJPEdpPomk39tBPpt7pRRLhrnVfs8UEVlDPOEtgFDykMAfbNeM/sH/wDJENc/7LN8R/8A1Ndbre%2BD/wAQviboP7KPhP4lftQeHLu18Yx%2BCtOu/HWleG9Cub%2BaHUmt4zdRQ2lks8shEpceXEJMYOCwG48n/wAE6fENh4t/ZuvvFOlW99Fbaj8W/iHc28Wp6XPZXKI/jPWmAlt7hEmgcA8xyIrqchlBBFAHulFFQ6hf2WlWE%2BqaldxwW1tC0txPKwVY0UEsxJ6AAEk0bA2krs%2BLf%2BC5X7Zsv7Nf7Ks/wp8Fav5Hi74jw3Gn2zxSBZLLTETN7cg5GCUYQpyCWnyvKV0n/BI79gPwv%2Bx1%2Bz7p3jPXtJV/iB4z0i1u/El5NDtfT4mRXj02IclEiyN/JMkoZmJwoX4wisNV/wCCnP8AwUQ8HeOvE1pM/h7xjrcmoaLplypAtPAWh3DbHkQ9F1HUVYHjKtCcHa4r9g6%2BRylLOM5rZlNXhC0KXl1lL1d16Jo%2BlwqqZPwZSxcXy1s1vPzWBpTcKEO6jia8K2KmtFOFPDqXNGKQUUUV9cfNBRRRQAUUUUAFFFFABRRRQAUUUUAFFFFABRRRQAUUUUAFFFFABRRRQAUUUUAFFFFABRRRQAUUUUAFFFFABXjP7L//ACW/9o7/ALLNY/8AqFeF69mrxn9l/wD5Lf8AtHf9lmsf/UK8L0AezUUUUAFFFFABRRRQAUUUUAFFFFABRRRQAUUUUAFFFFABRRRQAUUUUAYnxG%2BH/h/4qeCdQ%2BH3iq51eHTtUhEV3JoPiG90q7Chg2I7uxliuISSACY5FJBKnIJB5X4L/srfB79n34dWXwn%2BFieKbXw9pmh/2Ppunal8Qda1IWdlgBYomvLuV49igJGykNGgCIVUAV6LRQBi/Df4d%2BC/hD8PNB%2BFHw30CLSvD3hjRrXStC0uBmZLSzt4lhhhUsSxCxoq5YknHJJ5ry3x9qFnB/wUZ%2BFOmyzhZrj4LeP2hQ/xhNW8Hbse43Dj6%2Ble2V8U/t2/E2T4Vf8ABWf9jbVJ7ny7HXNN8feH70ZxvN4ugrAv/f8ASE/hWGJrxw1L2ktk1%2BLS/U5sXiY4Sg6stk4r75Rj/wC3I6L/AIJ0/wDEo/aZ/aq8IdPJ%2BMKajs/6%2B7NHz%2BOyvrSvkv8AY7/4k3/BTb9rbw0eEmn8F6jbj%2B95ukyiQ/8AfQAr60rgyXTA8vadRfdUn/mfpPib73FSrf8APzD4Kf8A4FgsN/8AIhRRRXrH5%2BFFFFABRRRQAUUUUAFFFFABRRRQAUUUUAFFFFABRRRQAUUUUAFFFFABRRRQAUUUUAFFFFABRRRQAUUUUAFFFFABXjPjj/lIX8L/APsjPjz/ANO3hCvZq8Z8cf8AKQv4X/8AZGfHn/p28IUAezUUUUAFc78WPhP4B%2BN/gK9%2BGfxN0NtQ0e/eCSaGK9mtpY5YZkngnhngdJYJopoo5Y5YnWSOSNHRlZQR0VFAHnHhb9lH4L%2BCPh7dfC/whZ%2BJNN0i9tJ4boWfjzWI7qV57qS6nuzdC7%2B0fbZJ5ZJHvfM%2B0uW%2BaUgADm/En/BPX9lXxX4H8P8Aw/1bwl4kSy8MeKZfEulXlh8R9etNROsyJJG%2BoT38F6l1d3GyV182eWRgCMEYGPa6KAM/wp4Z07wZ4asfCekXOoTWunWqW9vLq2rXF/cuijAMtzcySTTv6vI7Ox5JJryn9g//AJIhrn/ZZviP/wCprrdezV4z%2Bwf/AMkQ1z/ss3xH/wDU11ugD2avn3/gqj8WZ/gz/wAE/vif4p0%2BRhfX3h1tF01Ys%2BY1xfutkmwDksPPLDH93PavoKvzy/4OEfivJoHwm%2BHfwj0/UBBc6n4hvvEsw6h4tIspJlif0V55oB7leK8jP8V9TyavVvZ8rS9Ze6vzf3HNisHi8ypxy/CfxsRKFCH%2BOvUhRj9zq39Is1v%2BCJ3wlg1K38YftMzoktjHbWHw/wDAVwvKPo%2BjwpDNcxH%2B7dXavK3%2B2jdK%2B968h/YD%2BFSfBT9ir4X/AA0NoIJ9P8FWD38QXGLuaIT3H/kaSQ/jXr1XkmF%2Bp5XSpveyb9ZWb%2B66XpFH2/HeOwmM4qxFPB6Yag1h6C7UMNFUKXlrGlzu28qkn1CiiivUPkQooooAKKKKACiiigAooooAKKKKACiiigAooooAKKKKACiiigAooooAKKKKACiiigAooooAKKKKACiiigArxn9l/wD5Lf8AtHf9lmsf/UK8L17NXjP7L/8AyW/9o7/ss1j/AOoV4XoA9mooooAKKKKACiiigAooooAKKKKACiiigAooooAKKKKACiiigAooooAKKKKACvzr/wCC6Oj6lbeO/hh8Z9At2l1T4WeEPEHjHTUT73mWviLwbGzA9sRTyNn0Br9FK%2BYv20PhbH8b/wBoLSfg%2B8QdvE37NnxM02EN/DLNfeE0jYe4cqR7gVxZlh5YrL6tKO7i7etrr8Ujzs3wssblVehH4pQlb1teP/kyic9%2Bz5rWnXH/AAVw%2BLt9o9wJLTxX8I/DGtWsq9JY0LQq/wCTCvr6vzB/Y/8Aixc%2BDfGv7J37XV9ct/ZHxH%2BHj/B7xhLN/wAu%2BpWM7rp7tnpJLNbsh6fKpPfn9Pq87h/ERxGGqPrzuXyqKNRfm/uZ%2BkcYYiObZbkmdUtaeJwGGs/79CMqFWL84SjFekovqFFFFe8fEBRRRQAUUUUAFFFFABRRRQAUUUUAFFFFABRRRQAUUUUAFFFFABRRRQAUUUUAFFFFABRRRQAUUUUAFFFFABRRRQAV4z44/wCUhfwv/wCyM%2BPP/Tt4Qr2avGfHH/KQv4X/APZGfHn/AKdvCFAHs1FFFABXO/Ff4r%2BAfgj4CvfiZ8TdcbT9HsHgjmmis5rmWSWaZIIIIoIEeWeaWaWOKOKNGkkkkREVmYA9FXkH7a/w38ffEP4T6RffDLwy2u6x4T8f%2BHfE8Ph1LuGB9Wi0/U7e4nto5J3SJZjCkhi810jMqxh3RSXUA27L9q34CX3wLuv2kU8dND4QsZJ4b69vNIu7e5trmG5NpJaSWUsS3SXQuVMH2VohMZcRhC5CnHv/ANuX9mvTfh1a/E268U679kvPET6Db6PF4E1mTXG1RIXuHszpC2h1BZlt43uChtwRAvnHEfz15X4V%2BBPjvxP%2Bzt8UPD3xk/Z%2B8Z213478b3njjT9A8Oa/oy6lpdwl/BJp1vDO179mXUojYWt6Szm0EsmzzpQGz598LP2Xf2pvg54xtv2utT%2BHHjXx1reo/GTVfEmr%2BCNZ8Q6B/wAJGmnXPhWy0KKZ5YprbSftSyaZDI0MEqRR290yIzvFtkAPtzwL438I/EzwVpHxG8AeILbVtC17TINR0bVLOTdFd2s0ayRSoe6sjKw9jXl37B//ACRDXP8Ass3xH/8AU11ul/Za%2BAvxD%2BGP7FfhP4F%2BJPGd14Z8UWvh1U1LVPDJtbh9JvJXM0sdsbuCaCVYnkaJWkhZWVAdgyAKH/BOnSb/AEH9m6%2B0TVfE99rdzZ/Fv4hw3GsanHAlzfOvjPWgZpVt4ooQ7kbiI40TJO1VGAAD3SvyS/4KxzS/tLf8FE7f4FWzefZWKeEvAbwocmC91jUf7SlnyOg%2ByWoRvY1%2Bttfkf%2Bxnn9pv/gpr4a%2BLEv7%2B1134geNPH%2Bevm6RaKuj6OxP/AEznS4APTnAxXynFf%2B0UqGCX/Lyav6Jr/wCSPpeBF/xsDL67%2BHCLEY2Xl9Tw9WpT/wDLiph7eaR%2Bt0UUcMawwxqiIoVVUYAA6ACnUUV9WfNbhRRRQAUUUUAFFFFABRRRQAUUUUAFFFFABRRRQAUUUUAFFFFABRRRQAUUUUAFFFFABRRRQAUUUUAFFFFABRRRQAV4z%2By//wAlv/aO/wCyzWP/AKhXhevZq8Z/Zf8A%2BS3/ALR3/ZZrH/1CvC9AHs1FFFABRRRQAUUUUAFFFFABRRRQAUUUUAFFFFABRRRQAUUUUAFFFFAGB8Uvib4S%2BDfgLUfiX46fUl0rSo0e7OkaFd6nckM6xqI7WzilnmYsyjbHGx5zjAJqjpHx1%2BEmt/Au0/aXtfHFrF4FvfCkfiWHxHfK9tCulPbC6W6kEyq8S%2BSQ5DqrKOoBBFWvi5rXiDw/8NNa1Xwr8PNX8V6iliy2nh7Qbiyiu7xnwm2N764t7dSAxY%2BZKgwpwScKflLQfgR%2B0X8U/wDgkPov7G2tfBXxN4C8c6N8HtG0j/iba1ozxyanpcVqn2dJ7K9ulVZ3tjskZSgjkBkAbMdAH1N8IfjH4N%2BOHhiXxd4HsfEdvZw3jWzJ4o8GanoVwXCI%2B5bfUreCZoysi4kVCjHIDEqwHB%2BOP%2BUhfwv/AOyM%2BPP/AE7eEKp/sQ%2BEPjV4U03xs3xL0Lxlofh6%2B8Uxz%2BAvDPxE8Yx6/remWQsLVLhbi9ju7wMkl4tzJHGbmYoj/eQFYY8q/wDBfiTw9/wU28F%2BItW%2BLniHXbPVvg944ew0HVbbTktNFC6t4Syls1taRTuH3DP2iWc/INpX5sgHyp4e%2BAeqfET9ln9q79jHwyJIvEvwt%2BL154r%2BHnkDE1oJQmpaesfoziOeMN0/fGvuz9kT4%2BaX%2B1D%2BzN4K%2BPelNGP%2BEl0GG4vIoj8sF2B5dzEP9ydJU/4DXz7401sfscf8FVB8T/GVt9m8DftDaBp%2BgNrgbEVp4msAyWsU/ZRNbnZG2eWJ7KxEn/BPe9s/2bP2nfjN/wAE/tWuo7W0sfEJ8afDW1lcL52jaiN80EAPVLecbD/tOx7V8jlslgcdGm9NZUmvNOVSi/8At6EpRT62t0sfUcGf8LXhlj8ketfKqzrwXX6vVkqdZLryrmw1bskpvSzt9iUUUV9cfLhRRRQAUUUUAFFFFABRRRQAUUUUAFFFFABRRRQAUUUUAFFFFABRRRQAUUUUAFFFFABRRRQAUUUUAFFFFABRRRQAV4z44/5SF/C//sjPjz/07eEK9mrxnxx/ykL%2BF/8A2Rnx5/6dvCFAHs1FFFABRRRQAUUUUAFeM/sH/wDJENc/7LN8R/8A1Ndbr2avGf2D/wDkiGuf9lm%2BI/8A6mut0Acr/wAFPfj34v8AhT8AIPhV8HJC/wAR/ivq0fhLwNBG5DxTXPyz3eRyiwwlm8zojNGTxXkH/BNf4D%2BE/ht%2B3H8VPDfgsGXRvg78PvDfw90e%2BZcG6lkR9R1CQj%2BFmuyzuOm6Tiuk/Zsdf21f2/8Axn%2B2PqLCfwL8IluPBPwuZzmK41AjOq6mnbuIFcZV42HdK1f%2BCO6N4y%2BBXjr9pS4Us/xY%2BL3iDxFazMOTafafs0KD/ZXyHx9TXyMf%2BFHOqOIfw3nyf4Kaa5v%2B36krryjHufR8Ba8N8RcRS2lTo4Kj/hrYjnqyX%2BOOFk/OCXQ%2BtqKKK%2BuPnAooooAKKKKACiiigAooooAKKKKACiiigAooooAKKKKACiiigAooooAKKKKACiiigAooooAKKKKACiiigAooooAK8Z/Zf/5Lf%2B0d/wBlmsf/AFCvC9ezV4z%2By/8A8lv/AGjv%2ByzWP/qFeF6APZqKKKACiiigAooooAKKKKACiiigAooooAKKKKACiiigAooooAKKKKACiiigArxnxx/ykL%2BF/wD2Rnx5/wCnbwhXs1eM%2BOP%2BUhfwv/7Iz48/9O3hCgDof2rv2avAv7XHwG1/4E/EBDHbavbZstQiTM2nXiHdBdRHjDxuA3UbhlTwxFfGHhnwx8Vv2zvhdJ4L1nX4vC/7Xv7MmqeRYa8zhf7XQLmGWQnHnWV9CAHJGA5LEBJCj/opXzf%2B2t%2Bxf4q%2BJnibTP2qP2WPEsPhT41%2BELYpo%2Bqvxaa/aA7m0vUFHEkL8hWPKE5zjBXws3y/237%2BEebS0orRyindOL6ThL3oP1jfVGeDzTOeFM/ocQ5RrWpXjOFk1VpNNShKL92as5JwlpOE5021zRcer/Yj/a90L9rz4Uya/c6JJ4f8Y%2BHbxtK8f%2BDrvK3GiapHlZImVvm8tirNG56jIPzKwHstfnTpXiHxV%2B0b4sv/ANs39jfRf%2BEF/aW8Bxrp3xl%2BC%2BtTeVH4lgiADW8ykjeSFH2e7HXCqxBClfsH9kT9rz4Y/ti/DL/hOvAn2jT9T0%2B4Nl4q8K6ovl6hoN%2BuRJa3EZAIIYNtbADAdiGUPKszVeMaNWV5W92WyqJbtLpNbVIOzi7u3K9Pus7yrJ84ylcU8M%2B9gKjSqU7tzwlWV/3VS/vezclJUKrXvJeyqctenKM/VaKKK9w%2BJCiiigAooooAKKKKACiiigAooooAKKKKACiiigAooooAKKKKACiiigAooooAKKKKACiiigAooooAKKKKACvGfHH/ACkL%2BF//AGRnx5/6dvCFezV4z44/5SF/C/8A7Iz48/8ATt4QoA9mooooAK8h/bX%2BJHj74efCfSLL4ZeJW0LWPFnj/wAO%2BGIfESWkM76TFqGp29vPcxxzo8TTCF5BF5iPGJWjLo6go3r1c78WPhP4B%2BN/gK9%2BGfxN0NtQ0e/eCSaGK9mtpY5YZkngnhngdJYJopoo5Y5YnWSOSNHRlZQQAfMmt/tI/tAeEv2Ivi3fwfEb%2B1vHPw%2B%2BIF34Q0HxXd6ZaJd62zX9rFabII4VtDqLx3sdrGPKS3e8VC0aRsyL5aP2qv21r/Q4fhLY%2BJfiZceKbb4y6to2oeG9N0zwevxCh0iDw5balCsxnT/hHWxNdwzPNE202t1aRq5uTKh%2BvLX9i79nK0%2BFN78Ev%2BEL1CfwxqVvIl/p174q1O4NxNJevfPevLLcNK18bpzOb4t9q8wK3m5RcZUv/BPz9lmTwzB4bTwl4ihmt/EM%2BuL4jtfiJrkOvPqE1qtpLPJrCXo1CUvbRxQMHnZTFDFGRtjQKAWf2ZPj1qXiv9iHwH%2B0L8U9WfXNRv8AwFpupeJLvwh4Zvrlrm8e3j%2B0G3sYYGuifNLjyli3rggoMED58b9qKL4Kf8EoviP8d/B6ajDqWpfEb4h23hG2vdLuLO9%2B33/jXWYLUNazok8UqPKHaJ0WRfLYMqkED7K%2BH/gHwb8KvA2j/DT4d%2BHbbSNB0DTYbDR9Ls02xWttEgSONR1wFAHOSepJNfnl4S/4yR/aa%2BFn7Idv%2B/0bwb8aPib8TPHEI5Xba%2BN9cg0xGHQg3LPuU9VYHFebm1apSwMlTdpztCP%2BKb5U/km5f9unk55iKtDLZRou1SpanH/FN8qf/bqcpf8Abp6B8ddF179hH/gl34H/AGM/hGqD4ieOrey8E6FHbtgvquoktqF3leVVfMuX8z%2BAtHk19a/s/fBfwr%2Bzr8EvC3wN8FR403wvosFhBIUCtOyL88zAfxyPukb/AGnNfNfw5P8Aw2L/AMFSPEfxXl/0nwX%2Bzvp0nhrw2TzFceJrxc6hMvbdDEBAwPRtjCvsSuXKaNOVadeC9yKVKn/hho3/ANvTT9VE/VeJMPS4V4UyzhWguWUYxxNdf9PKtOKoU3/15wqhdPaeIls7hRRRXuHwAUUUUAFFFFABRRRQAUUUUAFFFFABRRRQAUUUUAFFFFABRRRQAUUUUAFFFFABRRRQAUUUUAFFFFABRRRQAUUUUAFeM/sv/wDJb/2jv%2ByzWP8A6hXhevZq8Z/Zf/5Lf%2B0d/wBlmsf/AFCvC9AHs1FFFABRRRQAUUUUAFFFFABRRRQAUUUUAFFFFABRRRQAUUUUAFFFFABRRRQAV4z44/5SF/C//sjPjz/07eEK9mrxnxx/ykL%2BF/8A2Rnx5/6dvCFAHs1FFFAHz3%2B2B%2BwbpHx88QWPx5%2BDPjOf4efGPw7F/wAU7490qP8A16gcWl9GOLq2b7pVgSoPGV3I3x54v8ZWeofGxNZ%2BK/idP2W/2r7BRbjxPIrjwf8AESFAoUyyMDDLFJhR858yMlR%2B8ZAifqPXN/FX4PfCz45eD7jwB8Yfh9pPiXRrn/W6frFik8e7GA67h8jjPDrhgeQRXhZjksMTJ1KDUZN3ad%2BVtbS91qUZrpOGvSSktB5Tjs94VzaWaZBXVKrNONSEoqdCvB2vCtSd4yUkkm7O%2Bl03GMo/Nvwi/wCCpPhvwtrlr8GP2/vCJ%2BEHjtiI4NRv9zeG9dGBi5sdQ5jEbA7tsjAJnaXZgQPrDTdS07WNPh1bSL%2BG6tbmJZLe5tpQ8cqEZDKykhgRyCODXxV8Qf8Agkd4q8JeGbzwl%2ByR%2B0reaV4TuWLt8KPidpMfibw0f%2BmcSXIaW0XPO9S7g9D6fMs/7N3/AAUx/YrvJtR%2BDnwp8ceE7WOZpZf%2BFL%2BJU8UeG7hs5Yx%2BH9Tb7ShbnLGXjOFUYxXnRzTOsr93GUJVIr7UbN/NxXLL1cab7q59TPN%2BAc%2BfNjKVXJ8Q97Qni8DJ9XCdFSxWHi3qo1KVeMU7Kdkj9daK/KXwN/wX9%2BOPwm1eLwV%2B1D8CtI1a6jB%2B0zWLXXhzUYEH8U1rqMflPKe6RShc9OK%2BlPhH/wAF2f8Agnn8Tre3HiD4gax4KubniO38XaDLGhPfE9v50GPcuK7sLxTkWKfL7ZRl2n7r/HT8R0%2BDs1x%2BuT1KOPj3wlelXl86UZwxEX5Swya6pdfsaiuS%2BGnx7%2BB3xntVvfhF8YvC/ieNl3Z0DXre7IHuInJB9QeRXW17sKlOrHmg013TTX3ps%2BcxWExeBrujiacqc1vGUZRkvWMoxa%2BaCiiirOcKKKKACiiigAooooAKKKKACiiigAooooAKKKKACiiigAooooAKKKKACiiigAooooAK8Z8cf8pC/hf/ANkZ8ef%2BnbwhXs1eM%2BOP%2BUhfwv8A%2ByM%2BPP8A07eEKAPZqKKKACiiuO%2BPHxs8Nfs/fDqX4ieJtI1PVN2pWOmaZouiQxyXuqahe3UVpaWkCyyRx%2BZJPNGu6R0jQEu7oiswAOxorxz/AIbc%2BF1r%2BzZr37SuveF/Eel23hjU7jSdf8K3trb/ANrWWqw3gszYMsc7W5kado1SQTmBllSXzfLbfWPZf8FAPBeoaBJHafBHx6/jSPx7L4OHwySLS21h9Vi09NTkQSi/On%2BUtjIlw05uxGoYRlhMRFQB73X52fsA6FJ%2Bzt4P/bF/b78bxZm/4W78QYPDwuOQNO0nXNVbbHnoJbx5VKjq0Q7mv0E8K6ze%2BIvDOna/qXhi/wBEub6xinuNG1VoTdWLugZoJjBJLEZEJKsY5HTKna7DBP58ftO6tqOs/wDBOqb9nbw9dPFqnxg/ap8V%2BELRofvok/j/AFmaZ/8Ad2QMrE8APz1rys4tSwbxP2qalKK/vOLhH8ZK3mz3%2BEOHMLxRxrleCxP8P20XLsoJN1JP/DShVf8ASPov/glF8JJ/hJ%2Bwd4DTWY3bW/FOnnxP4ivJ%2BZru81FjcmSUnkuI3iQ55/dgHpX0XVfR9J07QNJtdC0i1WC0srZILWBB8scaKFVR7AACrFdmDw0cHhKdCO0Ipfclr83d/My4kzmtxHxDi81q/FXq1Klu3POTS9Ix5Yq2iUUlZWSKKKK6TxQooooAKKKKACiiigAooooAKKKKACiiigAooooAKKKKACiiigAooooAKKKKACiiigAooooAKKKKACiiigAooooAK8Z/Zf8A%2BS3/ALR3/ZZrH/1CvC9ezV4z%2By//AMlv/aO/7LNY/wDqFeF6APZqKKKACiiigAooooAKKKKACiiigAooooAKKKKACiiigAooooAKKKKAOY%2BNGh%2BLfEfwt1vSPAvxK1LwfqslmXtPEekWVpcXNkUYOxjjvIZoGZlVk/eRuBvzgkCvEfDvxH/ao%2BLX/BJLw38XPhJrFzqPxj8T/AvSdW0vULO10%2BOa51y50uCYypHcqtmjNK7MFkUQgnBAUYr3r4jfD/w/8VPBOofD7xVc6vDp2qQiK7k0HxDe6VdhQwbEd3YyxXEJJABMcikglTkEg8N8PP2M/gb8KfhDb/AjwC/jaw8MWWiJpGnWX/C1PEMstjZoytHHb3Ml809uY9irG8civGihEZU%2BWgCp%2Bxt8S5vHngjX/DviDxZ8QNR8S%2BEfFEmkeK7P4nWGi2%2Br6Zdta215Hbv/AGJFHYyxm2uraZJITIGWfBcsrKvL3/xO8N%2BMf%2BCm3gvwZpOm%2BIYbzw98HvHEd/NqvhHUbG0lL6t4Swba6uYI4L0DactbvIFyNxG5c%2BsfBn4FfDH4A%2BH77w58MdGvLePVNVfU9XvdV1u71O%2B1G8eOOI3FzeXsstxcyeVDDGGkkYrHDGgwqKBxHjj/AJSF/C//ALIz48/9O3hCgD2aiiigAooooAKKKKAM3xV4M8H%2BOtKbQvG/hTTdZsX%2B/Z6rYx3ETfVJAQfyrwb4jf8ABJT/AIJyfFB5JvEX7J3hm0lkOfN8OrLpRVvUCyeIZ/CvouiubEYLB4tWr04z9Yp/mv1OPFZfgMarYijGf%2BKMX%2Bab/E%2BA/Gn/AAbm/sNa3dHU/A3jL4heFrpX32507XoZ4427HE8DyHHtID71FpX/AASJ/bZ%2BEmG/Z7/4K2ePLG3h/wCPbSPEWnS3luvpw120Y/CKv0BorynwzkalzU6XI%2B8JSh/6TJfkdcZYunRVGlia0ILaKr1uVekJVKkEvJQivI%2BHNL%2BHP/Bfb4Yl5bP4/fBD4iwR/wCqi8R6TcWc8gHqLS2gUH6yfjV7Sf2q/wDgsz4Iinm%2BJ/8AwTK8MeKooVJ%2B0eDPiVaWW73WKeS4kb6Bc19q0VosnnT/AIWKqx9ZKa/8ng/zOKphcVO/%2B01Ne/s3916S/rqfE1j/AMFbvjX4d8xvjL/wSl%2BPOixxf6240DQG1WJfX94Y4Fx75qpF/wAHA/7D%2Bn3x03x74N%2BJ/hOcHDQ%2BIvByxup9CsU8h/SvuSob7T7DVLV7HU7KG4gkGHhnjDow9weDSeCzuC/d4tP/ABUov/0mUfyLhha/M3LEzt/gpP8APlZ8k6J/wXY/4JgaxtWf9oe4sHbol74P1UfmUtmUfnXW6P8A8Fdv%2BCbeuY%2Bxftb%2BGkz0%2B2JcW/8A6NiXFejeL/2Nv2RvH%2B5vG37L3w91V36y33g2ykkz6hzFuB9wa8w8V/8ABHT/AIJp%2BMdx1X9lDRIC3OdJv7yxwfb7POgFYyjxXD4ZUZeqqR/WR6VDA4Wf8THyj64WMv8A0jFxf4I7LSf%2BCiv7BGtAfYv2y/hkpPQXPjWygJ/CSRa6bSv2sf2WNdx/Yf7S3w/vM9PsnjKxkz/3zKa%2BY/Ff/Bvv/wAE7fEismn6D4w0ZT91dN8WSuF%2Bn2lZf1rhdS/4Nuf2W7VWHgj44eNbMn7v9s2GlagB%2Bdoh/WsXi%2BLqb1w1KXpUkvwcT1KeRYGrH3c6oJ9p4THQ%2B%2BUJ1l9yZ99aX8TfhtreP7F%2BIWh3m7p9l1aGTP8A3yxrajljmQSwyK6noynINfl34h/4NuGlcy%2BHf2stKZB0tdS%2BFFoA31kt7mNh%2BArAb/g3x%2BNnhZ2m8HeIPhDqcmciTUn8S2BY%2B/2W9YD8BUf2vxHD48v%2B6af5HQuEcXUV6Gb5bN9pVsZR/wDTuAa/E/WWivyXP/BIn9vjwn/x4%2BD/AAFchfu/8Ih8ZfE9i34fa2cA0H9h/wD4KReFhiz%2BDHxslC/xeEP2wLe0x7qLu1al/rDmMfjwM19//wAgyv8AUbi%2BX8Gpl9X/AAZnho/%2BnqVD8bH60UV%2BS3/Cqf8Agob4Y/5CPhH9ta029fs3x40nXMflbpuoPij9svw7/wAhXW/2%2BLTb1Nt4F0/VwPxEi5o/1ocfjw01/XnTD/UDxJf8PLKdT/r3j8uqflioH600V%2BS//DRHx/0j/kLftfftf6Bjr/wkP7OtpJt%2BuJGpP%2BG1fGelcar/AMFkfijoWOv9vfsuRPt%2Bu1DR/rZhF8VNr1lBfm4h/wAQ98WX8PDmKn/geHqf%2Bm8RM/Wmivyg079vrUrl/Ls/%2BDhm03A4MWp/stJAVPoWaEV0Gmftm/Em%2Bx/Z/wDwX5%2BGs2en9o/Bi1tvz3YxVx4qwM9o/wDk9H/5ac1fgnxUw38bhjMI/wDcu/0bP0/or84NN/ae%2BP8Ae4%2Bwf8F0v2e5c9P7Q8L6dbZ%2Bu6cYre0743ftlahj%2Bw/%2BCv8A%2By9qWemLazOf%2B/dya6I8RYee1OXylSf5VjyK2U8a4b%2BNkOOj64af%2BX6n6A0V8N2Hjj/gpJfgf2P/AMFDP2Y7/PQrYsc/98TGtixk/wCCuN/j%2Byv2r/2bL3PTZpN6c/8AfDmt45zGW1Co/RQf5VDzKtfNqH8XLMVH1otfnJH2ZRXyPD4c/wCC2UieZZ/F79nC5Xsx0TV8H/vk0/8AsT/guLHwnjb9mST3k07Xh/KtP7Ul/wBA1X/wBf8AyZxvOZp2eEr/APgtf/LD61or5K/sn/guR/0Nn7L/AP4A6/S/2T/wXIHP/CW/svn2Nhr9H9qv/oHq/wDgC/8Akxf21L/oEr/%2BC1/8sPrSvGfHH/KQv4X/APZGfHn/AKdvCFeY/Y/%2BC58XKax%2BytL7SW/iMfyqn8FD%2B3Uf%2BChfgxf21U%2BEwx8GfGX/AAjTfC46ng/8Tbwr9o%2B0/bv%2B2GzZ/wBNN38Na0Mw9vVUPY1I36yhZfN8z/I3w2afWKyp/V6sb9ZQtFer53b7tz7Aooor0D1Ary/9rf4N%2BM/jP8MLCx%2BGt5pkXibw14w0XxLoEetzyRWV1caffw3JtZ5Io5HiSaNJIfNWOQxGQSBJNmxvUKKAPlPUf2QP2jPE/wCy/wDEr4Va9L4KtvEXxN8Sz%2BJtbig1y7n0yWSXUIWk0GQtZpI1lLptrFZy3gUSMbid1tkwqnzxf%2BCWniz/AIRjTNXuvgZ8HbiHRvitqPiXRvgM2s3KeCrDS7zQ4dNmsI5hph5N5EdV/wCQeIvPmlURhiLivu%2BigDyz4Dfs9ax4G/ZI8Mfs3/FbxzqWrXmmeGYNN1bWND16/sJyygfLb3cMqXcapxGknmCUogLHJNfEv7M/h6w8d/trfCP9njR7i%2ButH%2BEPif4t%2BMdQGpanPfTSPL411jTrJp7i4d5ZpkdfM3yO0jFizFsk1%2Bltfn//AMEavAeoax%2B0j%2B1d8edYDSRJ8d/E/hPQncf6iK21/Uru5RfZpbuNj7ivLzOMqzoUVtKpFv0heb/GMUfecDV6WWwzTM5O0qOEqxp/9fMQ4YZW81CrWl/wx%2BgFFFFeofBhRRRQAUUUUAFFFFABRRRQAUUUUAFFFFABRRRQAUUUUAFFFFABRRRQAUUUUAFFFFABRRRQAUUUUAFFFFABRRRQAUUUUAFeM/sv/wDJb/2jv%2ByzWP8A6hXhevZq8Z/Zf/5Lf%2B0d/wBlmsf/AFCvC9AHs1FFFABRRRQAUUUUAFFFFABRRRQAUUUUAFFFFABRRRQAUUUUAFFFFABRRRQAV4z44/5SF/C//sjPjz/07eEK9mr5w/aP1f416P8At4fCef4HfD/wt4i1JvhH47W7tPFfjC50WCOD%2B1PCRLpLb6fes77to2GNRgk78gKQD6Porxn/AITj/goX/wBGv/Bn/wAPxq3/AMy9H/Ccf8FC/wDo1/4M/wDh%2BNW/%2BZegD2aivGf%2BE4/4KF/9Gv8AwZ/8Pxq3/wAy9H/Ccf8ABQv/AKNf%2BDP/AIfjVv8A5l6APZqK%2BcdJ/aO/bt1j4z6/8Drf9lD4SLqnh3wvpGu3ly/x11TyJINRudSt4UQjwxuLq2lzlgVAAePBYlgvUf8ACcf8FC/%2BjX/gz/4fjVv/AJl6APZqK8Z/4Tj/AIKF/wDRr/wZ/wDD8at/8y9H/Ccf8FC/%2BjX/AIM/%2BH41b/5l6APZqK8Z/wCE4/4KF/8ARr/wZ/8AD8at/wDMvXL%2BAf2jv27fiJ4r8b%2BENH/ZQ%2BEkNx4D8URaFqslz8ddUCTzyaVp%2Bph4tvhgkp5OowqSwU70cYwAzAH0dRXjP/Ccf8FC/wDo1/4M/wDh%2BNW/%2BZej/hOP%2BChf/Rr/AMGf/D8at/8AMvQB7NRXjP8AwnH/AAUL/wCjX/gz/wCH41b/AOZej/hOP%2BChf/Rr/wAGf/D8at/8y9AHs1FfOPwi/aO/bt%2BMvhS78X%2BHP2UPhJbW9n4o1vQpI73466ormfS9VutMncbfDDDY01pIyHOSjKSFOVHUf8Jx/wAFC/8Ao1/4M/8Ah%2BNW/wDmXoA9morxn/hOP%2BChf/Rr/wAGf/D8at/8y9H/AAnH/BQv/o1/4M/%2BH41b/wCZegD2aivGf%2BE4/wCChf8A0a/8Gf8Aw/Grf/MvXL/BH9o79u348fBjwh8cfCv7KHwktdL8Z%2BF9P13TbbUPjrqizwwXdtHcRpIE8MMocLIAwVmGQcEjmgD6Oorxn/hOP%2BChf/Rr/wAGf/D8at/8y9H/AAnH/BQv/o1/4M/%2BH41b/wCZegD2aivGf%2BE4/wCChf8A0a/8Gf8Aw/Grf/MvXL/G79o79u34D/Bjxf8AHHxV%2Byh8JLrS/BnhfUNd1K20/wCOuqNPNBaW0lxIkYfwwqlysZChmUZIyQOaAPo6ivGf%2BE4/4KF/9Gv/AAZ/8Pxq3/zL0f8ACcf8FC/%2BjX/gz/4fjVv/AJl6APXNR0TRtXTZq2kWt0uOlxbq4/8AHga5/U/gX8Etaz/bHwd8K3eev2nw9bSZ/wC%2BkNcH/wAJx/wUL/6Nf%2BDP/h%2BNW/8AmXo/4Tj/AIKF/wDRr/wZ/wDD8at/8y9RKnTn8UU/VJ/mjpoY3G4b%2BDVlD/DKUf8A0mSNzUv2Mv2PtZz/AGx%2Byj8NbvPX7T4F0%2BTP/fUJrB1H/gnL%2BwNqeftP7Gnw0XP/AD7%2BDLOH/wBFxiuZ%2BLv7R37dvwa8KWni/wAR/sofCS5t7zxRomhRx2Xx11RnE%2Bqara6ZA53eGFGxZruNnOchFYgMcKeo/wCE4/4KF/8ARr/wZ/8AD8at/wDMvXPLAYCfxUYP/t2P/wAievR4s4rw/wDCzHER9K9dflW/QwdQ/wCCUn/BOjUsm4/ZE8ILn/n3s3i/9AYVjX3/AARp/wCCZmoZ%2B0fso6Suf%2BeGr6hF/wCgXArt/wDhOP8AgoX/ANGv/Bn/AMPxq3/zL0f8Jx/wUL/6Nf8Agz/4fjVv/mXrGWT5RLfD0/8AwCP%2BR6dLxH8Q6H8POMUvTEVv/ljPNJv%2BCHn/AATBkk862/Zre2k/v23jTWUI/wDJzFN/4cnfsCwf8gnwd4ssPT7H8QdVXH/fU5r03/hOP%2BChf/Rr/wAGf/D8at/8y9cv4%2B/aO/bt%2BHfivwR4Q1j9lD4STXHjzxRLoWlSW3x11QpBPHpWoamXl3eGAQnk6dMoKhjvdBjBLLn/AGFkn/QND/wFL8rHYvFfxOtZ51in616kv/SnI5n/AIczfsoQf8grxv8AFSxx0%2ByfEu%2BGPzY0f8OffgvB/wAgr9pv492Pp9k%2BKtwMfmhr07/hOP8AgoX/ANGv/Bn/AMPxq3/zL0f8Jx/wUL/6Nf8Agz/4fjVv/mXpf2Fk/ShH5XX5SQ/%2BIq%2BI7%2BLNKr9fZy/9KoyPMf8Ah0p4fgGNL/b9/aisfT7J8X2GPztzVP4Kfsp3X7MX/BQvwWs/7THxV%2BIq618GfGWwfE7xWNUOn%2BTq3hXP2c%2BWnl%2BZ5o39d3lR9Mc%2Btf8ACcf8FC/%2BjX/gz/4fjVv/AJl6oeB/A/7VnjH9qzw58bvjd8OPh74Z0bwz8PfEOhww%2BFfiHfa1dXd1qV9olwjMlxpFikUaJpcoLB3YtKgC4yRtQyrL8NVVSlTtJecvyc2vwPPzTj7i/O8DPB47Fe0pztdOnQV7NNe9HDQmtUtprs7q6futFFFegfHhRRRQAUUUUAFeCf8ABOjwbonhL4MeMrrSISsutfHv4lajqDnGZJ28ZavHnj0SKNfoor3uvkr9krxZ%2B2dp/wAPfFFn8MfgH8MNX0JPjT8Rf7P1HXvi7qOm3cy/8JnrJYyW0WgXKRENuAAmfIAOQTtCcYtpvoaRq1IQlCLspWuu9ndX9Hr6n1rRXjP/AAnH/BQv/o1/4M/%2BH41b/wCZej/hOP8AgoX/ANGv/Bn/AMPxq3/zL0zM9morxn/hOP8AgoX/ANGv/Bn/AMPxq3/zL0f8Jx/wUL/6Nf8Agz/4fjVv/mXoA9mor5x%2BCP7R37dvx4%2BDHhD44%2BFf2UPhJa6X4z8L6frum22ofHXVFnhgu7aO4jSQJ4YZQ4WQBgrMMg4JHNdR/wAJx/wUL/6Nf%2BDP/h%2BNW/8AmXoA9morxn/hOP8AgoX/ANGv/Bn/AMPxq3/zL0f8Jx/wUL/6Nf8Agz/4fjVv/mXoA9mor5x%2BN37R37dvwH%2BDHi/44%2BKv2UPhJdaX4M8L6hrupW2n/HXVGnmgtLaS4kSMP4YVS5WMhQzKMkZIHNdR/wAJx/wUL/6Nf%2BDP/h%2BNW/8AmXoA9morxn/hOP8AgoX/ANGv/Bn/AMPxq3/zL0f8Jx/wUL/6Nf8Agz/4fjVv/mXoA9morxn/AITj/goX/wBGv/Bn/wAPxq3/AMy9cv8AF39o79u34NeFLTxf4j/ZQ%2BElzb3nijRNCjjsvjrqjOJ9U1W10yBzu8MKNizXcbOc5CKxAY4UgH0dRXjP/Ccf8FC/%2BjX/AIM/%2BH41b/5l6P8AhOP%2BChf/AEa/8Gf/AA/Grf8AzL0AezUV4z/wnH/BQv8A6Nf%2BDP8A4fjVv/mXo/4Tj/goX/0a/wDBn/w/Grf/ADL0AezUV84%2BPv2jv27fh34r8EeENY/ZQ%2BEk1x488US6FpUlt8ddUKQTx6VqGpl5d3hgEJ5OnTKCoY73QYwSy9R/wnH/AAUL/wCjX/gz/wCH41b/AOZegD2aivGf%2BE4/4KF/9Gv/AAZ/8Pxq3/zL0f8ACcf8FC/%2BjX/gz/4fjVv/AJl6APZqK8Z/4Tj/AIKF/wDRr/wZ/wDD8at/8y9cvq37R37duj/GfQPgdcfsofCRtU8ReF9X12zuU%2BOuqeRHBp1zptvMjk%2BGNwdm1SAqApBCSZKkKGAPo6ivGf8AhOP%2BChf/AEa/8Gf/AA/Grf8AzL0f8Jx/wUL/AOjX/gz/AOH41b/5l6APZqK8Z/4Tj/goX/0a/wDBn/w/Grf/ADL0f8Jx/wAFC/8Ao1/4M/8Ah%2BNW/wDmXoA9mor5x0n9o79u3WPjPr/wOt/2UPhIuqeHfC%2Bka7eXL/HXVPIkg1G51K3hRCPDG4uraXOWBUAB48FiWC9R/wAJx/wUL/6Nf%2BDP/h%2BNW/8AmXoA9morxn/hOP8AgoX/ANGv/Bn/AMPxq3/zL0f8Jx/wUL/6Nf8Agz/4fjVv/mXoA9morxn/AITj/goX/wBGv/Bn/wAPxq3/AMy9cv4B/aO/bt%2BInivxv4Q0f9lD4SQ3HgPxRFoWqyXPx11QJPPJpWn6mHi2%2BGCSnk6jCpLBTvRxjADMAfR1FeM/8Jx/wUL/AOjX/gz/AOH41b/5l6P%2BE4/4KF/9Gv8AwZ/8Pxq3/wAy9AHs1eM/sv8A/Jb/ANo7/ss1j/6hXhej/hOP%2BChf/Rr/AMGf/D8at/8AMvVv9lb4c/GnwfrHxQ8d/HTQPC%2Bk6p4%2B%2BIUWuWeleE/Etzq1va2sWg6Ppiq9xcWVmzSNJp0rlRFtCyINzHOAD1uiiigAooooAKKKKACiiigAooooAKKKKACiiigAooooAKKKKACiiigAooooAK%2BV/wBp79rT4ufDD4x%2BLNa8A%2BHfB8nhj4P%2BH/D9741OtaRcTarqlvq9/KlzBYXEdxGll5FtZx3GZIpxcyFIyIfL80/VFeM/Gf8AYh%2BHHxu%2BKR%2BJmueOfFWlxaja6Ra%2BL/DWjXVqmneKYNLvZL2xivllt5Jgsc00ufs8sBljkMUxljCoAD2aiiigAooooA%2BY/Dn7SvxMh/b/APFHwf8AiNrHh7wn4bXxBaaJ4Mi1H4Rayl14xgGgQajiDxG12unNLHd3OoAWgheTy7SYBQWaRfpyvK/Fn7LUHj/4yaR8U/Hvxv8AGur6V4e12PWtA8AXB0yLRrHUI7d4I5w0Nkl7Ls8ySRUmupIxI%2B7Z8iBfVKACiiigDxf/AIKC/F344fs/fsj%2BNPj18Ar3wpHrHgnQrvXLqDxhotzfW13aWttLM9uiW11bMkrsiKJC5VAWJR%2BBXn/jz9rT4ueC/jx4t1Pwp4d8IRfDzwh8Y/CPw%2B8ZWc2kXB1vVdV12DRUj1CG7S4WGOOD%2B3NJjMUlvK8iQz4lj2oK9h/ax/Zxsv2tPgRr37PutfFXxT4R0nxPZS2OuX/hBdO%2B13NlLE8U1tuv7S6jRHV%2BWRFkBUbXXnPFwfsA%2BDp/iLZ/EXxV8cfH2usdZ0nXPE2jahLpUVj4n1zTEjSx1a9jtrCJluIhBaYW2aCBjY2xeJjHkgHvdFFFABXi/wC2T8Xfjh8ErXwD4x%2BFl74U/sbUPiZ4c8PeL7HxBotzc3Vza6rrNjpoNnLDdQpbSRrcyyb5EnUlEXZyTXtFeVftXfstv%2B1V4b0LwvP8ffG/ga30LxJYa6jeC4dHZ7u9sbyC8s2lOpafeDbFcW8bhYwgblZN6naADzj9nn9pX4ma3%2B1V4t%2BCPxQ1fw94T06HxTrdv4J8JSfCLWdMudetoXSU39vrVxd/YNQdjJNLLFbQF%2BS7FcMT9OV5LpP7KIf4yaL8ZfiP%2B0B478azeF7u8u/CeheIRpMNho91c28lrJcRLYafbSyv9nmnhXz5JVRZ32gEgj1qgAooooA8P/bu%2BLnx4/Z%2B%2BDWr/HX4UeMfAtjp/hbRbm8vdF8WeGb2/ufEN7lFs9Ms5La9g%2BzzXEpFujeVdM0s8QWFj8ref/BH9r74z658S/BX9reDPCWkfDTxv8T/ABR8NvCvhrTtLmj1fRL/AECHVt889yLhreaCRvD%2BposMdvEY1a2PmSZYD0/9pX9kGD9pLx54I%2BIE37QPjvwhc%2BAbu5vdFsfDEWjT2cl7KgjW8mg1PTrxHnhj8xYZAFMYnlI%2BZsir4D/Ya%2BHvgP4y2/xdh%2BIvi7UoNO13U9e0TwhqVzZf2TpWt6jG8eoapAkVqk/nzie7LK8zwo19cmOKPzOAD2uiiigAr5f/AGufjx%2B0v8FviJp/hTSofAHjXR/HMOtW2i/DmLwffSawlraaHdXcl/cTi9eK6thdRW9tJCLWIH7fCgmMjIkn1BXh037E1xH%2B0f4r/aa0T9qv4l6dq/i3TYdOudLhg8Pz2mn2cMDRw21m1zpMtzbxLK73WxZtrzuXcODtoAZ%2Bwh%2B0H43%2BPfw9vLr4r%2BPtGvvF2nCzbX/Ddl8LtX8I3mgPPbLKILmy1e6nuHBbf5dwAkciodobaTXuleb/AAO/Zu074M%2BJ/EnxD1j4peKfHHirxXFY2%2BseJ/FzWC3L2lmJvstqkWn2trbRxRtc3LjbCGZriQszZGPSKACiiigD45/4KCftx/FT9jDxz/aeuaLoHjHwi%2Bjajrdv4Vl%2BHOp2Utumm6Nfakkn/CRTXT6ZPd/a9NGyxWBLoRzLKBthaRvXv2aPi78c9W%2BKnjf9nr9o658Kah4n8I6ToetR614K0i5sLG5sdUF5GkRgubm5dZYrjTrtS/m4kQxNsjJKit8df2EvBH7TmtXVr8f/AIt%2BNfFHgu5kuJF%2BGV5JpsOixSTWM1kzb7eyjvpAI7iZgkt06B33bfkQL0/7Pn7M2kfAO817xFd/FDxZ448R%2BJDZx6t4q8a3Fm99LbWkRitbUfY7a3hWKIPKwxHvZ55XdnZyaAPSqKKKACviP9qf9sr9rP4N/GrxB8KPB3hvw5411Ow0W413wwE%2BB/iCOTRQNR0y1Qwt9uceJpBY6pced/ZflPC0JWURiYR19uV4fr37Fup%2BJfHp%2BJ2tftc/FGbW9PgvIvBt4U0ADwqt1NDJP9kjGk7J2aOBbfderdMsTOFKu7OQDqv2WPiw/wAZPhHB4svfiZo3iq/h1G6stUvtG8GX3h0W1xFKytazabqFxPdWc8YwrxzOHz821QwFejVw3wD%2BAvh74AeGdT0bSvFOt%2BINR1/XrjW/EniTxHNA17qt/MERp5RbxQwJiOKGJUhijjVIkAUYJPc0AFFFFABRRRQAUUUUAFFFFAFHxR4hsPCXhrUfFeqhza6ZYzXdyIly3lxoXbA7nCmvnP8AYm/aT%2BNfj/xTo/gz42eHvBlmPHXwtsviN4Zh8GaVcWg0yO8uCbvT7szXEou5o3ubZ/tiCATtLMTBHtBf6Wu7S1v7WWxvbdJoZo2jmilUMrqRgqQeCCOMV5D%2BzN%2BxX4C/Zg1V9X0D4g%2BLfEstt4YsfDPh0eLL21mGgaFZvI9vptqbe3hLRqZPmlnM1xII4vMmfy1wAexUUUUAFcL%2B1B48%2BIvws/Zo%2BInxO%2BD/AIUXXvFvhzwLq%2BqeFtDaxmuhqOo29nLLbWxhgZZZhJKiJ5cbB23YUgkGu6rO8W6Jf%2BJfDGoeH9L8V6joVze2kkNvrWkLA11YuykCaIXEUsRdTyBJG6ZHzKwyCAeXfsU/Fqf4ofDO%2BstW%2BIXh/WdT8O6qunXmmaJ8MNT8HPoaC2gkis7jStUuZ7mFwjiRXby0eKWLYmBvf2KvPPgP%2BztpPwOvPEviO5%2BIniTxj4k8X6jDeeIvFPit7MXd0YbdLeCIR2NtbW0UUcaAKscKZLOzFmZmPodABRRRQB8uftUftY/FD9nD4veOLL4laN4S8RfC%2Bw/Z38X%2BPbbQrfRLhNVdtEGlrPbXFzJcvbzRTrfTgILZCoRMu%2BWFdv8Asz/F/wCPmqfFzxl%2Bzr%2B0s/hK88UeGPDHh7xLHqvgrSbmxspLLVn1K3W2MNzc3LmWG40i7BlEgWRHiby4zuWoPjH%2Bwr4d%2BOnx1b4y%2BPPjt45l02bwVqfhG%2B%2BHsMGi/wBiXejaktt9vtJC%2BmtekTtaQOzi6DqUIRkRmQ9J%2Bzv%2By7of7Pt9rXiOf4oeLfG/iHX7Wwsr/wAT%2BNrm0kvTYWKSLZ2Y%2ByW1vH5URnuHBKGR3uZXd3Zs0Aen0UUUAFfInxr/AGl/2tvBmu/tAeBLfwr4M8WXvgLw/wCFPEnw2sdJ%2BH%2Bp386x6jqupQhLy1ivHl1GeBdNjnU2wtyXJCr8qtX13Xhcv7FHiGL46eNvj/oX7aHxW0rVvG%2BkWOmXNjZWfhhrTTbayuLmezS2EuivJ%2B6N5dKDM8pdZyJPMKoVAOr/AGVPi3N8ZfhSPE2o/E7RvFOo2uq3Njq11o/gi/8ADZs7iJvmtZ9M1G4nurSdFK7kmYMQyttVWFek1wnwD%2BAegfAHQtZsdP8AFuueI9V8TeIJdc8T%2BJvEktu17qt/JDDB5sgtoYYIwsFvbwqkUUaKkKALnJPd0AFFFFAHxt%2B0t%2B13%2B0t%2Bzx8ZoPhtrKfDPxrfa3BBN4Rh07wte2kvgu81LxDpnh7SJtTle%2BmF1FO2rzgtEtnI4sbpYwy%2BYYvcf2Vfi/8AEj4jDx/8PvjEdEn8VfDTx43hrWdV8NadNZ2Gp%2BZpenatb3ENvNPPJb5tdUt0eNppcSRyYYgjHC23/BNXwk118Q38Q/tL/E7Wbf4k68dc1i31I6F5lnqUVxDPp9zbXUWlpdKbB7e3FpG80kUSwoGR%2Bc%2BsfAP4C6H8A/D2rabZeL9c8Sat4i16bWvE/ijxK9sb/V76SOKHzphawQQLsggt4ESKKNFjgjULwSQDuqKKKAGXP2n7NJ9j2edsPlebnbuxxnHOM18QfFb9rn9tP4afETXPhtb23gPxnr3hi98NW%2BreOvBHwV1/Vo/DlvqzXj3thLpVnqU93czRw2VjdExTp%2B7uoWlgQGJpPt67hkuLWW3hupIHkjZVniCl4yRgMu4FcjqMgj1Br57%2BDH7AXiD4CfDa4%2BGnw7/bq%2BMUUd1qz6nNrN5ZeE59Qlu5XlkuZ5pn0I/aZJ3l3SSTiR8xpsKAYIB6z8BPiHZfFb4O%2BH/iFYfEDRvFSanp4kfX/D%2BkzWFpdyAlZClrPNNLbFXVkaGSR3jZWVjuUgdfXJfAv4L%2BEv2ffhfp3wp8FXN/cWVhLdXE19qtyJrq%2Bu7q5lurq6mcKoaWa4nmlfaqrukO1VXCjraACqPieHxJc%2BG9Qt/Bup2Nlq8llKul3mp2D3VtBcFCI5JYY5YmmjVsFkWSMsAQHUncL1ZvjHQb/wAUeFr/AMO6X4t1LQbm8tXig1rRxAbqxcjiaIXEUsRdTyBJG6HHzKwyKAPh74b/ALdn7Wvxg%2BKet/BL4Wab8Pk8Z6ba67fSeM/Ffwu1rQ11TTNItdFlSxl0S8vk1DT5Xu/EOxJp5nj8qGS4SF1nQH7G%2BAXxa034%2BfAnwV8ddG02Wzs/GvhLTdetLOZ9zwRXlrHcLGxAGSokAJ9RXi2r/wDBMjwPrWuX3xFu/wBpT4pp8QNWS8tda%2BJNte6RDq1/pl1bWttNphRNNFnDbFLK0YeRbRSrJAsqyhyzH6D8F%2BD/AA18PPB2k%2BAPBmkxafo%2Bh6ZBp%2Bk2EOdltbQxrHFGuecKiqo%2BlAGnRRRQBy/xp1Hxxo3wt1rW/hz4hsdL1awszdQ32oeD73xAiRxkPKBp1jPBc3kjRK6pFDIHLsuFc/I3xb8Jf%2BCiPx%2B8SeNND1PxvceEfAngzUp518QeOLz4GeIprbWL%2BHX7rSES5lW%2BjTwzPJa2lr%2B41RpJYHlWN87AlfbfxM8Ga7498JTeHPDfxS1/wbeSSxvFr/hmKxe7g2sCVVb%2B2uYGDAFSHibgnGDgjxW6/wCCc3hTUPB9x8NtW/aQ%2BJt34Y1zUJr/AMeaBNcaOIvGF3PeNdXE19Kumi4i80ssLR2ctrEIYkjVFG7cAfRNFFFABRRRQAUUUUAFFFFABRRRQAUUUUAFFFFABRRRQAUUUUAFFFFABRRRQAUUUUAFFFFABRRRQAUUUUAFFFFABRRRQAUUUUAFFFFABRRRQAUUUUAFFFFABRRRQAUUUUAFFFFABRRRQAUUUUAFFFFABRRRQAUUUUAFFFFABRRRQAUUUUAFFFFABRRRQAUUUUAFFFFABRRRQAUUUUAFFFFABRRRQAUUUUAFFFFABRRRQAUUUUAFFFFABRRRQAUUUUAFFFFABRRRQAUUUUAFFFFABRRRQAUUUUAFFFFABRRRQAUUUUAFFFFABRRRQAUUUUAFFFFAH//Z\">"
            ]
          },
          "metadata": {
            "tags": []
          }
        }
      ]
    },
    {
      "cell_type": "markdown",
      "metadata": {
        "id": "YE-w2hGj8OyR"
      },
      "source": [
        "# Submit the MLP with 2 hidden layers\n",
        "Run these cells after training the MLP with 2 hidden layers"
      ]
    },
    {
      "cell_type": "code",
      "metadata": {
        "collapsed": true,
        "id": "458uceUW8OyT"
      },
      "source": [
        "## GRADED PART, DO NOT CHANGE!\n",
        "# Validation loss for MLP\n",
        "grader.set_answer(\"i8bgs\", s.run(loss, {input_X: X_val_flat, input_y: y_val_oh}))\n",
        "# Validation accuracy for MLP\n",
        "grader.set_answer(\"rE763\", accuracy_score(y_val, s.run(classes, {input_X: X_val_flat})))"
      ],
      "execution_count": 41,
      "outputs": []
    },
    {
      "cell_type": "code",
      "metadata": {
        "collapsed": true,
        "id": "pq1WMk848OyU",
        "colab": {
          "base_uri": "https://localhost:8080/"
        },
        "outputId": "9379cd49-50c0-43e2-fa61-2429341622d2"
      },
      "source": [
        "# you can make submission with answers so far to check yourself at this stage\n",
        "grader.submit(COURSERA_EMAIL, COURSERA_TOKEN)"
      ],
      "execution_count": 42,
      "outputs": [
        {
          "output_type": "stream",
          "text": [
            "Submitted to Coursera platform. See results on assignment page!\n"
          ],
          "name": "stdout"
        }
      ]
    },
    {
      "cell_type": "code",
      "metadata": {
        "collapsed": true,
        "id": "ctiP0Vf38OyU"
      },
      "source": [
        ""
      ],
      "execution_count": 42,
      "outputs": []
    }
  ]
}